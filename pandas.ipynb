{
 "cells": [
  {
   "cell_type": "code",
   "execution_count": 1,
   "metadata": {},
   "outputs": [
    {
     "name": "stdout",
     "output_type": "stream",
     "text": [
      "0    10\n",
      "1    11\n",
      "2    12\n",
      "3    13\n",
      "4    14\n",
      "5    15\n",
      "6    16\n",
      "7    17\n",
      "8    18\n",
      "9    19\n",
      "dtype: int64\n",
      "[10 11 12 13 14 15 16 17 18 19]\n",
      "RangeIndex(start=0, stop=10, step=1)\n"
     ]
    }
   ],
   "source": [
    "import pandas as pd\n",
    "ser_obj = pd.Series(range(10, 20))\n",
    "print(ser_obj)\n",
    "# 获取数据\n",
    "print(ser_obj.values)\n",
    "\n",
    "# 获取索引\n",
    "print(ser_obj.index)\n"
   ]
  },
  {
   "cell_type": "code",
   "execution_count": 7,
   "metadata": {},
   "outputs": [
    {
     "name": "stdout",
     "output_type": "stream",
     "text": [
      "0    20\n",
      "1    22\n",
      "2    24\n",
      "3    26\n",
      "4    28\n",
      "5    30\n",
      "6    32\n",
      "7    34\n",
      "8    36\n",
      "9    38\n",
      "dtype: int64\n",
      "0    False\n",
      "1    False\n",
      "2    False\n",
      "3    False\n",
      "4    False\n",
      "5    False\n",
      "6     True\n",
      "7     True\n",
      "8     True\n",
      "9     True\n",
      "dtype: bool\n"
     ]
    }
   ],
   "source": [
    "print(ser_obj * 2)\n",
    "print(ser_obj > 15)"
   ]
  },
  {
   "cell_type": "code",
   "execution_count": 9,
   "metadata": {},
   "outputs": [
    {
     "name": "stdout",
     "output_type": "stream",
     "text": [
      "2001    17.8\n",
      "2005    20.1\n",
      "2003    16.5\n",
      "dtype: float64\n",
      "Int64Index([2001, 2005, 2003], dtype='int64')\n",
      "17.8\n"
     ]
    }
   ],
   "source": [
    "year_data = {2001: 17.8, 2005: 20.1, 2003: 16.5}\n",
    "ser_obj2 = pd.Series(year_data)\n",
    "print(ser_obj2)\n",
    "print(ser_obj2.index)\n",
    "print(ser_obj2[2001])\n"
   ]
  },
  {
   "cell_type": "code",
   "execution_count": 10,
   "metadata": {},
   "outputs": [
    {
     "name": "stdout",
     "output_type": "stream",
     "text": [
      "None\n",
      "None\n",
      "year1\n",
      "2001    17.8\n",
      "2005    20.1\n",
      "2003    16.5\n",
      "Name: temp, dtype: float64\n"
     ]
    }
   ],
   "source": [
    "print(ser_obj2.name)\n",
    "ser_obj2.name = 'temp'\n",
    "print(ser_obj2.index.name)\n",
    "ser_obj2.index.name = 'year1'\n",
    "print(ser_obj2.head())\n"
   ]
  },
  {
   "cell_type": "markdown",
   "metadata": {},
   "source": [
    "# DataFrame"
   ]
  },
  {
   "cell_type": "code",
   "execution_count": 12,
   "metadata": {
    "scrolled": false
   },
   "outputs": [
    {
     "data": {
      "text/html": [
       "<div>\n",
       "<style scoped>\n",
       "    .dataframe tbody tr th:only-of-type {\n",
       "        vertical-align: middle;\n",
       "    }\n",
       "\n",
       "    .dataframe tbody tr th {\n",
       "        vertical-align: top;\n",
       "    }\n",
       "\n",
       "    .dataframe thead th {\n",
       "        text-align: right;\n",
       "    }\n",
       "</style>\n",
       "<table border=\"1\" class=\"dataframe\">\n",
       "  <thead>\n",
       "    <tr style=\"text-align: right;\">\n",
       "      <th></th>\n",
       "      <th>name</th>\n",
       "      <th>age</th>\n",
       "      <th>tel</th>\n",
       "    </tr>\n",
       "  </thead>\n",
       "  <tbody>\n",
       "    <tr>\n",
       "      <th>0</th>\n",
       "      <td>xiaohong</td>\n",
       "      <td>32.0</td>\n",
       "      <td>10010.0</td>\n",
       "    </tr>\n",
       "    <tr>\n",
       "      <th>1</th>\n",
       "      <td>xiaogang</td>\n",
       "      <td>NaN</td>\n",
       "      <td>10000.0</td>\n",
       "    </tr>\n",
       "    <tr>\n",
       "      <th>2</th>\n",
       "      <td>xiaowang</td>\n",
       "      <td>22.0</td>\n",
       "      <td>NaN</td>\n",
       "    </tr>\n",
       "  </tbody>\n",
       "</table>\n",
       "</div>"
      ],
      "text/plain": [
       "       name   age      tel\n",
       "0  xiaohong  32.0  10010.0\n",
       "1  xiaogang   NaN  10000.0\n",
       "2  xiaowang  22.0      NaN"
      ]
     },
     "execution_count": 12,
     "metadata": {},
     "output_type": "execute_result"
    }
   ],
   "source": [
    "d2 =[{\"name\" : \"xiaohong\" ,\"age\" :32,\"tel\" :10010},{ \"name\": \"xiaogang\" ,\"tel\": 10000} ,{\"name\":\"xiaowang\" ,\"age\":22}]\n",
    "df6=pd.DataFrame(d2)\n",
    "df6"
   ]
  },
  {
   "cell_type": "code",
   "execution_count": 13,
   "metadata": {},
   "outputs": [
    {
     "name": "stdout",
     "output_type": "stream",
     "text": [
      "   A          B    C  D       E        F\n",
      "0  1 2019-09-26  1.0  3  Python  wangdao\n",
      "1  1 2019-09-26  1.0  3    Java  wangdao\n",
      "2  1 2019-09-26  1.0  3     C++  wangdao\n",
      "3  1 2019-09-26  1.0  3       C  wangdao\n"
     ]
    },
    {
     "data": {
      "text/plain": [
       "Int64Index([0, 1, 2, 3], dtype='int64')"
      ]
     },
     "execution_count": 13,
     "metadata": {},
     "output_type": "execute_result"
    }
   ],
   "source": [
    "import pandas as pd\n",
    "import numpy as np\n",
    "dict_data = {'A': 1,\n",
    "             'B': pd.Timestamp('20190926'),\n",
    "             'C': pd.Series(1, index=list(range(4)),dtype='float32'),\n",
    "             'D': np.array([3] * 4,dtype='int32'),\n",
    "             'E': [\"Python\",\"Java\",\"C++\",\"C\"],\n",
    "             'F': 'wangdao' }\n",
    "df_obj2 = pd.DataFrame(dict_data)\n",
    "print(df_obj2)\n",
    "df_obj2.index\n",
    "#补课改变\n",
    "# df_obj2.index[0] = 2"
   ]
  },
  {
   "cell_type": "code",
   "execution_count": 14,
   "metadata": {},
   "outputs": [
    {
     "data": {
      "text/html": [
       "<div>\n",
       "<style scoped>\n",
       "    .dataframe tbody tr th:only-of-type {\n",
       "        vertical-align: middle;\n",
       "    }\n",
       "\n",
       "    .dataframe tbody tr th {\n",
       "        vertical-align: top;\n",
       "    }\n",
       "\n",
       "    .dataframe thead th {\n",
       "        text-align: right;\n",
       "    }\n",
       "</style>\n",
       "<table border=\"1\" class=\"dataframe\">\n",
       "  <thead>\n",
       "    <tr style=\"text-align: right;\">\n",
       "      <th></th>\n",
       "      <th>A</th>\n",
       "      <th>B</th>\n",
       "      <th>C</th>\n",
       "      <th>D</th>\n",
       "    </tr>\n",
       "  </thead>\n",
       "  <tbody>\n",
       "    <tr>\n",
       "      <th>2013-01-01</th>\n",
       "      <td>-0.281302</td>\n",
       "      <td>1.080380</td>\n",
       "      <td>0.013261</td>\n",
       "      <td>-0.170968</td>\n",
       "    </tr>\n",
       "    <tr>\n",
       "      <th>2013-01-02</th>\n",
       "      <td>-0.466048</td>\n",
       "      <td>-0.284153</td>\n",
       "      <td>0.048628</td>\n",
       "      <td>-0.325713</td>\n",
       "    </tr>\n",
       "    <tr>\n",
       "      <th>2013-01-03</th>\n",
       "      <td>0.931346</td>\n",
       "      <td>0.095599</td>\n",
       "      <td>-1.985047</td>\n",
       "      <td>-1.315675</td>\n",
       "    </tr>\n",
       "    <tr>\n",
       "      <th>2013-01-04</th>\n",
       "      <td>-1.253547</td>\n",
       "      <td>-0.567135</td>\n",
       "      <td>-1.135784</td>\n",
       "      <td>-1.275991</td>\n",
       "    </tr>\n",
       "    <tr>\n",
       "      <th>2013-01-05</th>\n",
       "      <td>-0.787079</td>\n",
       "      <td>-0.252052</td>\n",
       "      <td>-0.876959</td>\n",
       "      <td>-0.148227</td>\n",
       "    </tr>\n",
       "    <tr>\n",
       "      <th>2013-01-06</th>\n",
       "      <td>-0.652686</td>\n",
       "      <td>0.666276</td>\n",
       "      <td>-0.895467</td>\n",
       "      <td>-0.574773</td>\n",
       "    </tr>\n",
       "  </tbody>\n",
       "</table>\n",
       "</div>"
      ],
      "text/plain": [
       "                   A         B         C         D\n",
       "2013-01-01 -0.281302  1.080380  0.013261 -0.170968\n",
       "2013-01-02 -0.466048 -0.284153  0.048628 -0.325713\n",
       "2013-01-03  0.931346  0.095599 -1.985047 -1.315675\n",
       "2013-01-04 -1.253547 -0.567135 -1.135784 -1.275991\n",
       "2013-01-05 -0.787079 -0.252052 -0.876959 -0.148227\n",
       "2013-01-06 -0.652686  0.666276 -0.895467 -0.574773"
      ]
     },
     "execution_count": 14,
     "metadata": {},
     "output_type": "execute_result"
    }
   ],
   "source": [
    "dates = pd.date_range('20130101', periods=6)\n",
    "df = pd.DataFrame(np.random.randn(6, 4), index=dates, columns=list('ABCD'))\n",
    "df\n"
   ]
  },
  {
   "cell_type": "code",
   "execution_count": 17,
   "metadata": {},
   "outputs": [
    {
     "name": "stdout",
     "output_type": "stream",
     "text": [
      "0    1\n",
      "1    1\n",
      "2    1\n",
      "3    1\n",
      "Name: A, dtype: int64\n",
      "<class 'pandas.core.series.Series'>\n"
     ]
    }
   ],
   "source": [
    "print(df_obj2['A'])\n",
    "#把df的某一列取出来是series\n",
    "print(type(df_obj2['A']))"
   ]
  },
  {
   "cell_type": "code",
   "execution_count": 18,
   "metadata": {},
   "outputs": [
    {
     "name": "stdout",
     "output_type": "stream",
     "text": [
      "   A          B    C  D       E        F  G\n",
      "0  1 2019-09-26  1.0  3  Python  wangdao  7\n",
      "1  1 2019-09-26  1.0  3    Java  wangdao  7\n",
      "2  1 2019-09-26  1.0  3     C++  wangdao  7\n",
      "3  1 2019-09-26  1.0  3       C  wangdao  7\n"
     ]
    }
   ],
   "source": [
    "#增加列数据\n",
    "df_obj2['G'] = df_obj2['D'] + 4\n",
    "print(df_obj2.head())"
   ]
  },
  {
   "cell_type": "code",
   "execution_count": 19,
   "metadata": {},
   "outputs": [
    {
     "name": "stdout",
     "output_type": "stream",
     "text": [
      "   A          B    C  D       E        F\n",
      "0  1 2019-09-26  1.0  3  Python  wangdao\n",
      "1  1 2019-09-26  1.0  3    Java  wangdao\n",
      "2  1 2019-09-26  1.0  3     C++  wangdao\n",
      "3  1 2019-09-26  1.0  3       C  wangdao\n"
     ]
    }
   ],
   "source": [
    "# 删除列\n",
    "del(df_obj2['G'] )\n",
    "print(df_obj2.head())"
   ]
  },
  {
   "cell_type": "markdown",
   "metadata": {},
   "source": [
    "# index"
   ]
  },
  {
   "cell_type": "code",
   "execution_count": 20,
   "metadata": {},
   "outputs": [
    {
     "name": "stdout",
     "output_type": "stream",
     "text": [
      "Int64Index([0, 1, 2, 3], dtype='int64')\n"
     ]
    }
   ],
   "source": [
    "print(df_obj2.index)"
   ]
  },
  {
   "cell_type": "code",
   "execution_count": 21,
   "metadata": {},
   "outputs": [
    {
     "ename": "TypeError",
     "evalue": "Index does not support mutable operations",
     "output_type": "error",
     "traceback": [
      "\u001b[1;31m---------------------------------------------------------------------------\u001b[0m",
      "\u001b[1;31mTypeError\u001b[0m                                 Traceback (most recent call last)",
      "\u001b[1;32m<ipython-input-21-f090778359d8>\u001b[0m in \u001b[0;36m<module>\u001b[1;34m\u001b[0m\n\u001b[0;32m      1\u001b[0m \u001b[1;31m# 索引对象不可变（上面代码增加）\u001b[0m\u001b[1;33m\u001b[0m\u001b[1;33m\u001b[0m\u001b[1;33m\u001b[0m\u001b[0m\n\u001b[1;32m----> 2\u001b[1;33m \u001b[0mdf_obj2\u001b[0m\u001b[1;33m.\u001b[0m\u001b[0mindex\u001b[0m\u001b[1;33m[\u001b[0m\u001b[1;36m0\u001b[0m\u001b[1;33m]\u001b[0m \u001b[1;33m=\u001b[0m \u001b[1;36m2\u001b[0m\u001b[1;33m\u001b[0m\u001b[1;33m\u001b[0m\u001b[0m\n\u001b[0m",
      "\u001b[1;32mc:\\users\\administrator\\appdata\\local\\programs\\python\\python36\\lib\\site-packages\\pandas\\core\\indexes\\base.py\u001b[0m in \u001b[0;36m__setitem__\u001b[1;34m(self, key, value)\u001b[0m\n\u001b[0;32m   4073\u001b[0m \u001b[1;33m\u001b[0m\u001b[0m\n\u001b[0;32m   4074\u001b[0m     \u001b[1;32mdef\u001b[0m \u001b[0m__setitem__\u001b[0m\u001b[1;33m(\u001b[0m\u001b[0mself\u001b[0m\u001b[1;33m,\u001b[0m \u001b[0mkey\u001b[0m\u001b[1;33m,\u001b[0m \u001b[0mvalue\u001b[0m\u001b[1;33m)\u001b[0m\u001b[1;33m:\u001b[0m\u001b[1;33m\u001b[0m\u001b[1;33m\u001b[0m\u001b[0m\n\u001b[1;32m-> 4075\u001b[1;33m         \u001b[1;32mraise\u001b[0m \u001b[0mTypeError\u001b[0m\u001b[1;33m(\u001b[0m\u001b[1;34m\"Index does not support mutable operations\"\u001b[0m\u001b[1;33m)\u001b[0m\u001b[1;33m\u001b[0m\u001b[1;33m\u001b[0m\u001b[0m\n\u001b[0m\u001b[0;32m   4076\u001b[0m \u001b[1;33m\u001b[0m\u001b[0m\n\u001b[0;32m   4077\u001b[0m     \u001b[1;32mdef\u001b[0m \u001b[0m__getitem__\u001b[0m\u001b[1;33m(\u001b[0m\u001b[0mself\u001b[0m\u001b[1;33m,\u001b[0m \u001b[0mkey\u001b[0m\u001b[1;33m)\u001b[0m\u001b[1;33m:\u001b[0m\u001b[1;33m\u001b[0m\u001b[1;33m\u001b[0m\u001b[0m\n",
      "\u001b[1;31mTypeError\u001b[0m: Index does not support mutable operations"
     ]
    }
   ],
   "source": [
    "# 索引对象不可变（上面代码增加）\n",
    "df_obj2.index[0] = 2"
   ]
  },
  {
   "cell_type": "markdown",
   "metadata": {},
   "source": [
    "3 常见的Index种类\n",
    "•Index，索引\n",
    "•Int64Index，整数索引\n",
    "•MultiIndex，层级索引\n",
    "•DatetimeIndex，时间戳类型"
   ]
  },
  {
   "cell_type": "code",
   "execution_count": 23,
   "metadata": {
    "scrolled": true
   },
   "outputs": [
    {
     "name": "stdout",
     "output_type": "stream",
     "text": [
      "a    0\n",
      "b    1\n",
      "c    2\n",
      "d    3\n",
      "e    4\n",
      "dtype: int64\n"
     ]
    },
    {
     "data": {
      "text/plain": [
       "Index(['a', 'b', 'c', 'd', 'e'], dtype='object')"
      ]
     },
     "execution_count": 23,
     "metadata": {},
     "output_type": "execute_result"
    }
   ],
   "source": [
    "ser_obj = pd.Series(range(5), index = list(\"abcde\"))\n",
    "print(ser_obj)\n",
    "ser_obj.index"
   ]
  },
  {
   "cell_type": "code",
   "execution_count": 24,
   "metadata": {},
   "outputs": [
    {
     "name": "stdout",
     "output_type": "stream",
     "text": [
      "1\n",
      "2\n"
     ]
    }
   ],
   "source": [
    "# 行索引\n",
    "print(ser_obj['b'])\n",
    "print(ser_obj[2])"
   ]
  },
  {
   "cell_type": "code",
   "execution_count": 25,
   "metadata": {},
   "outputs": [
    {
     "name": "stdout",
     "output_type": "stream",
     "text": [
      "b    1\n",
      "c    2\n",
      "dtype: int64\n",
      "b    1\n",
      "c    2\n",
      "d    3\n",
      "dtype: int64\n"
     ]
    }
   ],
   "source": [
    "# 切片索引\n",
    "print(ser_obj[1:3])\n",
    "print(ser_obj['b':'d'])"
   ]
  },
  {
   "cell_type": "code",
   "execution_count": 26,
   "metadata": {},
   "outputs": [
    {
     "name": "stdout",
     "output_type": "stream",
     "text": [
      "a    0\n",
      "c    2\n",
      "e    4\n",
      "dtype: int64\n",
      "a    0\n",
      "e    4\n",
      "dtype: int64\n"
     ]
    }
   ],
   "source": [
    "# 不连续索引\n",
    "print(ser_obj[[0, 2, 4]])\n",
    "print(ser_obj[['a', 'e']])"
   ]
  },
  {
   "cell_type": "code",
   "execution_count": 27,
   "metadata": {},
   "outputs": [
    {
     "name": "stdout",
     "output_type": "stream",
     "text": [
      "a    False\n",
      "b    False\n",
      "c    False\n",
      "d     True\n",
      "e     True\n",
      "dtype: bool\n",
      "d    3\n",
      "e    4\n",
      "dtype: int64\n",
      "d    3\n",
      "e    4\n",
      "dtype: int64\n"
     ]
    }
   ],
   "source": [
    "# 布尔索引\n",
    "ser_bool = ser_obj > 2\n",
    "print(ser_bool)\n",
    "print(ser_obj[ser_bool])\n",
    "\n",
    "print(ser_obj[ser_obj > 2])"
   ]
  },
  {
   "cell_type": "markdown",
   "metadata": {},
   "source": [
    "4 DataFrame索引"
   ]
  },
  {
   "cell_type": "code",
   "execution_count": 3,
   "metadata": {},
   "outputs": [
    {
     "name": "stdout",
     "output_type": "stream",
     "text": [
      "          a         b         c         d\n",
      "0 -0.026395 -0.719426  0.240883  0.929087\n",
      "1  1.106160 -1.247504  0.274178 -0.742215\n",
      "2  1.779505  1.183980 -0.497906 -1.105737\n",
      "3 -0.371267 -0.206734  0.791677  0.392353\n",
      "4  0.691946  1.048626 -0.564995  1.366165\n"
     ]
    }
   ],
   "source": [
    "import numpy as np\n",
    "df_obj = pd.DataFrame(np.random.randn(5,4), columns = ['a', 'b', 'c', 'd'])\n",
    "print(df_obj.head())"
   ]
  },
  {
   "cell_type": "code",
   "execution_count": 8,
   "metadata": {},
   "outputs": [
    {
     "name": "stdout",
     "output_type": "stream",
     "text": [
      "0   -0.026395\n",
      "1    1.106160\n",
      "2    1.779505\n",
      "3   -0.371267\n",
      "4    0.691946\n",
      "Name: a, dtype: float64\n"
     ]
    },
    {
     "ename": "TypeError",
     "evalue": "'([1, 2], ['a', 'b'])' is an invalid key",
     "output_type": "error",
     "traceback": [
      "\u001b[1;31m--------------------------------------------------------------------------\u001b[0m",
      "\u001b[1;31mTypeError\u001b[0m                                Traceback (most recent call last)",
      "\u001b[1;32m<ipython-input-8-ee81165113f5>\u001b[0m in \u001b[0;36m<module>\u001b[1;34m\u001b[0m\n\u001b[0;32m      1\u001b[0m \u001b[1;31m# 列索引\u001b[0m\u001b[1;33m\u001b[0m\u001b[1;33m\u001b[0m\u001b[1;33m\u001b[0m\u001b[0m\n\u001b[0;32m      2\u001b[0m \u001b[0mprint\u001b[0m\u001b[1;33m(\u001b[0m\u001b[0mdf_obj\u001b[0m\u001b[1;33m[\u001b[0m\u001b[1;34m'a'\u001b[0m\u001b[1;33m]\u001b[0m\u001b[1;33m)\u001b[0m \u001b[1;31m# 返回Series类型\u001b[0m\u001b[1;33m\u001b[0m\u001b[1;33m\u001b[0m\u001b[0m\n\u001b[1;32m----> 3\u001b[1;33m \u001b[0mprint\u001b[0m\u001b[1;33m(\u001b[0m\u001b[0mdf_obj\u001b[0m\u001b[1;33m[\u001b[0m\u001b[1;33m[\u001b[0m\u001b[1;36m1\u001b[0m\u001b[1;33m,\u001b[0m\u001b[1;36m2\u001b[0m\u001b[1;33m]\u001b[0m\u001b[1;33m,\u001b[0m\u001b[1;33m[\u001b[0m\u001b[1;34m'a'\u001b[0m\u001b[1;33m,\u001b[0m\u001b[1;34m'b'\u001b[0m\u001b[1;33m]\u001b[0m\u001b[1;33m]\u001b[0m\u001b[1;33m)\u001b[0m \u001b[1;31m# 返回DataFrame类型\u001b[0m\u001b[1;33m\u001b[0m\u001b[1;33m\u001b[0m\u001b[0m\n\u001b[0m\u001b[0;32m      4\u001b[0m \u001b[0mprint\u001b[0m\u001b[1;33m(\u001b[0m\u001b[0mtype\u001b[0m\u001b[1;33m(\u001b[0m\u001b[0mdf_obj\u001b[0m\u001b[1;33m[\u001b[0m\u001b[1;33m[\u001b[0m\u001b[1;34m'a'\u001b[0m\u001b[1;33m]\u001b[0m\u001b[1;33m]\u001b[0m\u001b[1;33m)\u001b[0m\u001b[1;33m)\u001b[0m \u001b[1;31m# 返回DataFrame类型\u001b[0m\u001b[1;33m\u001b[0m\u001b[1;33m\u001b[0m\u001b[0m\n",
      "\u001b[1;32mc:\\users\\administrator\\appdata\\local\\programs\\python\\python36\\lib\\site-packages\\pandas\\core\\frame.py\u001b[0m in \u001b[0;36m__getitem__\u001b[1;34m(self, key)\u001b[0m\n\u001b[0;32m   2897\u001b[0m             \u001b[1;32mif\u001b[0m \u001b[0mself\u001b[0m\u001b[1;33m.\u001b[0m\u001b[0mcolumns\u001b[0m\u001b[1;33m.\u001b[0m\u001b[0mnlevels\u001b[0m \u001b[1;33m>\u001b[0m \u001b[1;36m1\u001b[0m\u001b[1;33m:\u001b[0m\u001b[1;33m\u001b[0m\u001b[1;33m\u001b[0m\u001b[0m\n\u001b[0;32m   2898\u001b[0m                 \u001b[1;32mreturn\u001b[0m \u001b[0mself\u001b[0m\u001b[1;33m.\u001b[0m\u001b[0m_getitem_multilevel\u001b[0m\u001b[1;33m(\u001b[0m\u001b[0mkey\u001b[0m\u001b[1;33m)\u001b[0m\u001b[1;33m\u001b[0m\u001b[1;33m\u001b[0m\u001b[0m\n\u001b[1;32m-> 2899\u001b[1;33m             \u001b[0mindexer\u001b[0m \u001b[1;33m=\u001b[0m \u001b[0mself\u001b[0m\u001b[1;33m.\u001b[0m\u001b[0mcolumns\u001b[0m\u001b[1;33m.\u001b[0m\u001b[0mget_loc\u001b[0m\u001b[1;33m(\u001b[0m\u001b[0mkey\u001b[0m\u001b[1;33m)\u001b[0m\u001b[1;33m\u001b[0m\u001b[1;33m\u001b[0m\u001b[0m\n\u001b[0m\u001b[0;32m   2900\u001b[0m             \u001b[1;32mif\u001b[0m \u001b[0mis_integer\u001b[0m\u001b[1;33m(\u001b[0m\u001b[0mindexer\u001b[0m\u001b[1;33m)\u001b[0m\u001b[1;33m:\u001b[0m\u001b[1;33m\u001b[0m\u001b[1;33m\u001b[0m\u001b[0m\n\u001b[0;32m   2901\u001b[0m                 \u001b[0mindexer\u001b[0m \u001b[1;33m=\u001b[0m \u001b[1;33m[\u001b[0m\u001b[0mindexer\u001b[0m\u001b[1;33m]\u001b[0m\u001b[1;33m\u001b[0m\u001b[1;33m\u001b[0m\u001b[0m\n",
      "\u001b[1;32mc:\\users\\administrator\\appdata\\local\\programs\\python\\python36\\lib\\site-packages\\pandas\\core\\indexes\\base.py\u001b[0m in \u001b[0;36mget_loc\u001b[1;34m(self, key, method, tolerance)\u001b[0m\n\u001b[0;32m   2887\u001b[0m             \u001b[0mcasted_key\u001b[0m \u001b[1;33m=\u001b[0m \u001b[0mself\u001b[0m\u001b[1;33m.\u001b[0m\u001b[0m_maybe_cast_indexer\u001b[0m\u001b[1;33m(\u001b[0m\u001b[0mkey\u001b[0m\u001b[1;33m)\u001b[0m\u001b[1;33m\u001b[0m\u001b[1;33m\u001b[0m\u001b[0m\n\u001b[0;32m   2888\u001b[0m             \u001b[1;32mtry\u001b[0m\u001b[1;33m:\u001b[0m\u001b[1;33m\u001b[0m\u001b[1;33m\u001b[0m\u001b[0m\n\u001b[1;32m-> 2889\u001b[1;33m                 \u001b[1;32mreturn\u001b[0m \u001b[0mself\u001b[0m\u001b[1;33m.\u001b[0m\u001b[0m_engine\u001b[0m\u001b[1;33m.\u001b[0m\u001b[0mget_loc\u001b[0m\u001b[1;33m(\u001b[0m\u001b[0mcasted_key\u001b[0m\u001b[1;33m)\u001b[0m\u001b[1;33m\u001b[0m\u001b[1;33m\u001b[0m\u001b[0m\n\u001b[0m\u001b[0;32m   2890\u001b[0m             \u001b[1;32mexcept\u001b[0m \u001b[0mKeyError\u001b[0m \u001b[1;32mas\u001b[0m \u001b[0merr\u001b[0m\u001b[1;33m:\u001b[0m\u001b[1;33m\u001b[0m\u001b[1;33m\u001b[0m\u001b[0m\n\u001b[0;32m   2891\u001b[0m                 \u001b[1;32mraise\u001b[0m \u001b[0mKeyError\u001b[0m\u001b[1;33m(\u001b[0m\u001b[0mkey\u001b[0m\u001b[1;33m)\u001b[0m \u001b[1;32mfrom\u001b[0m \u001b[0merr\u001b[0m\u001b[1;33m\u001b[0m\u001b[1;33m\u001b[0m\u001b[0m\n",
      "\u001b[1;32mpandas\\_libs\\index.pyx\u001b[0m in \u001b[0;36mpandas._libs.index.IndexEngine.get_loc\u001b[1;34m()\u001b[0m\n",
      "\u001b[1;32mpandas\\_libs\\index.pyx\u001b[0m in \u001b[0;36mpandas._libs.index.IndexEngine.get_loc\u001b[1;34m()\u001b[0m\n",
      "\u001b[1;31mTypeError\u001b[0m: '([1, 2], ['a', 'b'])' is an invalid key"
     ]
    }
   ],
   "source": [
    "# 列索引\n",
    "print(df_obj['a']) # 返回Series类型\n",
    "print(df_obj[['a']]) # 返回DataFrame类型\n",
    "print(type(df_obj[['a']])) # 返回DataFrame类型"
   ]
  },
  {
   "cell_type": "markdown",
   "metadata": {},
   "source": [
    "1. loc 标签索引"
   ]
  },
  {
   "cell_type": "code",
   "execution_count": 50,
   "metadata": {},
   "outputs": [
    {
     "name": "stdout",
     "output_type": "stream",
     "text": [
      "a    0\n",
      "b    1\n",
      "c    2\n",
      "d    3\n",
      "e    4\n",
      "dtype: int64\n",
      "b    1\n",
      "c    2\n",
      "d    3\n",
      "dtype: int64\n",
      "b    1\n",
      "c    2\n",
      "d    3\n",
      "dtype: int64\n",
      "a   -0.119774\n",
      "b   -0.160593\n",
      "c   -0.258607\n",
      "d    0.053473\n",
      "e    2.346890\n",
      "Name: a, dtype: float64\n",
      "--------------------------------------------------\n",
      "a   -0.119774\n",
      "b   -0.467194\n",
      "c    1.111288\n",
      "d    2.285613\n",
      "Name: a, dtype: float64\n",
      "--------------------------------------------------\n",
      "          a         b         c\n",
      "a -0.119774 -0.467194  1.111288\n",
      "b -0.160593 -0.505487  0.092640\n",
      "c -0.258607 -0.681863  1.282522\n"
     ]
    }
   ],
   "source": [
    "# 标签索引 loc\n",
    "# Series\n",
    "print(ser_obj)\n",
    "print(ser_obj['b':'d'])\n",
    "print(ser_obj.loc['b':'d'])\n",
    "\n",
    "# DataFrame\n",
    "df_obj = pd.DataFrame(np.random.randn(5,4), columns = ['a', 'b', 'c', 'd'],index=list('abcde'))\n",
    "print(df_obj['a'])\n",
    "print('-'*50)\n",
    "print(df_obj.loc['a'])\n",
    "print('-'*50)\n",
    "# 第一个参数索引行，第二个参数是列,loc或者iloc效率高于直接用取下标的方式\n",
    "print(df_obj.loc['a':'c', 'a':'c'])"
   ]
  },
  {
   "cell_type": "markdown",
   "metadata": {},
   "source": [
    "iloc 位置索引"
   ]
  },
  {
   "cell_type": "code",
   "execution_count": 53,
   "metadata": {},
   "outputs": [
    {
     "name": "stdout",
     "output_type": "stream",
     "text": [
      "b    1\n",
      "c    2\n",
      "dtype: int64\n",
      "b    1\n",
      "c    2\n",
      "dtype: int64\n",
      "          a         b\n",
      "a -0.119774 -0.467194\n",
      "b -0.160593 -0.505487\n"
     ]
    }
   ],
   "source": [
    "# Series\n",
    "print(ser_obj[1:3])\n",
    "print(ser_obj.iloc[1:3])\n",
    "\n",
    "# DataFrame\n",
    "print(df_obj.iloc[0:2, 0:2]) # 注意和df_obj.loc[0:2, 'a']的区别"
   ]
  },
  {
   "cell_type": "markdown",
   "metadata": {},
   "source": [
    "# 5.Alignment operation"
   ]
  },
  {
   "cell_type": "code",
   "execution_count": 56,
   "metadata": {},
   "outputs": [
    {
     "name": "stdout",
     "output_type": "stream",
     "text": [
      "s1+s2: \n",
      "0    30.0\n",
      "1    32.0\n",
      "2    34.0\n",
      "3    36.0\n",
      "4    38.0\n",
      "5     NaN\n",
      "6     NaN\n",
      "7     NaN\n",
      "8     NaN\n",
      "9     NaN\n",
      "dtype: float64\n",
      "--------------------------------------------------\n",
      "0    30.0\n",
      "1    32.0\n",
      "2    34.0\n",
      "3    36.0\n",
      "4    38.0\n",
      "5    15.0\n",
      "6    16.0\n",
      "7    17.0\n",
      "8    18.0\n",
      "9    19.0\n",
      "dtype: float64\n"
     ]
    }
   ],
   "source": [
    "s1 = pd.Series(range(10, 20), index = range(10))\n",
    "s2 = pd.Series(range(20, 25), index = range(5))\n",
    "# Series 对齐运算\n",
    "print('s1+s2: ')\n",
    "print(s1+s2)\n",
    "print('-'*50)\n",
    "print(s1.add(s2, fill_value = 0))  #未对齐的数据将和填充值做运算"
   ]
  },
  {
   "cell_type": "code",
   "execution_count": 62,
   "metadata": {},
   "outputs": [
    {
     "name": "stdout",
     "output_type": "stream",
     "text": [
      "     a    b    c\n",
      "0  0.0  0.0  1.0\n",
      "1  0.0  0.0  1.0\n",
      "2  1.0  1.0  1.0\n"
     ]
    }
   ],
   "source": [
    "df1 = pd.DataFrame(np.ones((2,2)), columns = ['a', 'b'])\n",
    "df2 = pd.DataFrame(np.ones((3,3)), columns = ['a', 'b', 'c'])\n",
    "print(df1.sub(df2, fill_value = 2.)) #未对齐的数据将和填充值做运算"
   ]
  },
  {
   "cell_type": "markdown",
   "metadata": {},
   "source": [
    "# 6 Pandas function"
   ]
  },
  {
   "cell_type": "code",
   "execution_count": 63,
   "metadata": {},
   "outputs": [
    {
     "name": "stdout",
     "output_type": "stream",
     "text": [
      "          0         1         2         3\n",
      "0  0.238758  0.474196 -1.407087 -0.415747\n",
      "1 -1.157391 -1.535373 -2.303694  0.447010\n",
      "2 -1.889604 -2.562509 -2.132235 -0.162807\n",
      "3 -2.568536 -1.952371 -0.942490 -1.346202\n",
      "4 -0.728546 -1.288723 -1.961093 -0.003064\n",
      "          0         1         2         3\n",
      "0  0.238758  0.474196  1.407087  0.415747\n",
      "1  1.157391  1.535373  2.303694  0.447010\n",
      "2  1.889604  2.562509  2.132235  0.162807\n",
      "3  2.568536  1.952371  0.942490  1.346202\n",
      "4  0.728546  1.288723  1.961093  0.003064\n"
     ]
    }
   ],
   "source": [
    "# Numpy ufunc 函数\n",
    "df = pd.DataFrame(np.random.randn(5,4) - 1)\n",
    "print(df)\n",
    "\n",
    "print(np.abs(df))"
   ]
  },
  {
   "cell_type": "code",
   "execution_count": 64,
   "metadata": {},
   "outputs": [
    {
     "name": "stdout",
     "output_type": "stream",
     "text": [
      "0    0.238758\n",
      "1    0.474196\n",
      "2   -0.942490\n",
      "3    0.447010\n",
      "dtype: float64\n"
     ]
    }
   ],
   "source": [
    "print(df.apply(lambda x : x.max()))"
   ]
  },
  {
   "cell_type": "code",
   "execution_count": 65,
   "metadata": {},
   "outputs": [
    {
     "name": "stdout",
     "output_type": "stream",
     "text": [
      "0    0.474196\n",
      "1    0.447010\n",
      "2   -0.162807\n",
      "3   -0.942490\n",
      "4   -0.003064\n",
      "dtype: float64\n"
     ]
    }
   ],
   "source": [
    "print(df.apply(lambda x : x.max(), axis=1))"
   ]
  },
  {
   "cell_type": "code",
   "execution_count": 67,
   "metadata": {},
   "outputs": [
    {
     "name": "stdout",
     "output_type": "stream",
     "text": [
      "       0      1      2      3\n",
      "0   0.24   0.47  -1.41  -0.42\n",
      "1  -1.16  -1.54  -2.30   0.45\n",
      "2  -1.89  -2.56  -2.13  -0.16\n",
      "3  -2.57  -1.95  -0.94  -1.35\n",
      "4  -0.73  -1.29  -1.96  -0.00\n"
     ]
    }
   ],
   "source": [
    "# 使用applymap应用到每个数据\n",
    "print(df.applymap(lambda x : '%.2f' % x))"
   ]
  },
  {
   "cell_type": "markdown",
   "metadata": {},
   "source": [
    "4 sort index"
   ]
  },
  {
   "cell_type": "code",
   "execution_count": 68,
   "metadata": {},
   "outputs": [
    {
     "name": "stdout",
     "output_type": "stream",
     "text": [
      "2    10\n",
      "1    11\n",
      "4    12\n",
      "4    13\n",
      "1    14\n",
      "dtype: int64\n"
     ]
    },
    {
     "data": {
      "text/plain": [
       "1    11\n",
       "1    14\n",
       "2    10\n",
       "4    12\n",
       "4    13\n",
       "dtype: int64"
      ]
     },
     "execution_count": 68,
     "metadata": {},
     "output_type": "execute_result"
    }
   ],
   "source": [
    "# Series\n",
    "s4 = pd.Series(range(10, 15), index = np.random.randint(5, size=5))\n",
    "print(s4)\n",
    "\n",
    "# sort index\n",
    "s4.sort_index() # 0 0 1 3 3\n"
   ]
  },
  {
   "cell_type": "code",
   "execution_count": 85,
   "metadata": {},
   "outputs": [
    {
     "name": "stdout",
     "output_type": "stream",
     "text": [
      "          4         4         1         2         1\n",
      "2  0.690786  0.247948 -0.314798  0.295630 -1.395149\n",
      "0 -0.666509 -1.756653  1.760507  0.355345 -0.073268\n",
      "0 -0.942900  0.400524 -0.339480  1.384536 -0.967173\n",
      "          4         4         2         1         1\n",
      "2  0.690786  0.247948  0.295630 -0.314798 -1.395149\n",
      "0 -0.666509 -1.756653  0.355345  1.760507 -0.073268\n",
      "0 -0.942900  0.400524  1.384536 -0.339480 -0.967173\n"
     ]
    }
   ],
   "source": [
    "# DataFrame\n",
    "df4 = pd.DataFrame(np.random.randn(3, 5), \n",
    "                   index=np.random.randint(3, size=3),\n",
    "                   columns=np.random.randint(5, size=5))\n",
    "print(df4)\n",
    "\n",
    "df4_isort = df4.sort_index(axis=1, ascending=False)\n",
    "print(df4_isort) # 4 2 1 1 0\n"
   ]
  },
  {
   "cell_type": "markdown",
   "metadata": {},
   "source": [
    "5  ranking"
   ]
  },
  {
   "cell_type": "code",
   "execution_count": 10,
   "metadata": {},
   "outputs": [
    {
     "name": "stdout",
     "output_type": "stream",
     "text": [
      "    0   1   2   3\n",
      "0   0   1   2   3\n",
      "1   4   5   6   7\n",
      "2   8   9  10  11\n",
      "3  12  13  14  15\n",
      "4  16  17  18  19\n",
      "5  20  21  22  23\n",
      "--------------------------------------------------\n",
      "    0   1   2   3\n",
      "5  20  21  22  23\n",
      "4  16  17  18  19\n",
      "3  12  13  14  15\n",
      "2   8   9  10  11\n",
      "1   4   5   6   7\n",
      "0   0   1   2   3\n",
      "    3   2   1   0\n",
      "0   3   2   1   0\n",
      "1   7   6   5   4\n",
      "2  11  10   9   8\n",
      "3  15  14  13  12\n",
      "4  19  18  17  16\n",
      "5  23  22  21  20\n"
     ]
    }
   ],
   "source": [
    "# 按值排序,by后是column的值\n",
    "df4 = pd.DataFrame(np.arange(24).reshape(6,4))\n",
    "print(df4)\n",
    "print('-'*50)\n",
    "df4_vsort = df4.sort_values(by=3,axis=0, ascending=False) #寻找的是columns里的3\n",
    "print(df4_vsort)\n",
    "df4_vsort = df4.sort_values(by=3,axis=1, ascending=False) #寻找的是index里的3\n",
    "print(df4_vsort)"
   ]
  },
  {
   "cell_type": "markdown",
   "metadata": {},
   "source": [
    "6  missing data"
   ]
  },
  {
   "cell_type": "code",
   "execution_count": 88,
   "metadata": {},
   "outputs": [
    {
     "name": "stdout",
     "output_type": "stream",
     "text": [
      "          0         1         2\n",
      "0 -0.291587  1.159255  0.473379\n",
      "1  1.000000  2.000000       NaN\n",
      "2       NaN  4.000000       NaN\n",
      "3  1.000000  2.000000  3.000000\n"
     ]
    }
   ],
   "source": [
    "df_data = pd.DataFrame([np.random.randn(3), [1., 2., np.nan],\n",
    "                       [np.nan, 4., np.nan], [1., 2., 3.]])\n",
    "print(df_data.head())"
   ]
  },
  {
   "cell_type": "code",
   "execution_count": 89,
   "metadata": {},
   "outputs": [
    {
     "name": "stdout",
     "output_type": "stream",
     "text": [
      "       0      1      2\n",
      "0  False  False  False\n",
      "1  False  False   True\n",
      "2   True  False   True\n",
      "3  False  False  False\n"
     ]
    }
   ],
   "source": [
    "print(df_data.isnull())"
   ]
  },
  {
   "cell_type": "code",
   "execution_count": 90,
   "metadata": {},
   "outputs": [
    {
     "name": "stdout",
     "output_type": "stream",
     "text": [
      "          0         1         2\n",
      "0 -0.291587  1.159255  0.473379\n",
      "3  1.000000  2.000000  3.000000\n"
     ]
    }
   ],
   "source": [
    "print(df_data.dropna())"
   ]
  },
  {
   "cell_type": "code",
   "execution_count": 93,
   "metadata": {},
   "outputs": [
    {
     "name": "stdout",
     "output_type": "stream",
     "text": [
      "          1\n",
      "0  1.159255\n",
      "1  2.000000\n",
      "2  4.000000\n",
      "3  2.000000\n"
     ]
    }
   ],
   "source": [
    "print(df_data.dropna(axis=1))  #某列由nan就删除该列"
   ]
  },
  {
   "cell_type": "code",
   "execution_count": 94,
   "metadata": {},
   "outputs": [
    {
     "name": "stdout",
     "output_type": "stream",
     "text": [
      "            0         1           2\n",
      "0   -0.291587  1.159255    0.473379\n",
      "1    1.000000  2.000000 -100.000000\n",
      "2 -100.000000  4.000000 -100.000000\n",
      "3    1.000000  2.000000    3.000000\n"
     ]
    }
   ],
   "source": [
    "print(df_data.fillna(-100.))"
   ]
  },
  {
   "cell_type": "markdown",
   "metadata": {},
   "source": [
    "#hierarchical indexing"
   ]
  },
  {
   "cell_type": "code",
   "execution_count": 20,
   "metadata": {},
   "outputs": [
    {
     "name": "stdout",
     "output_type": "stream",
     "text": [
      "cloth  size\n",
      "a      0      -0.793319\n",
      "       1      -0.638436\n",
      "       2      -0.770086\n",
      "b      0       0.264141\n",
      "       1      -0.650348\n",
      "       2      -1.903459\n",
      "c      0      -0.707571\n",
      "       1      -1.307964\n",
      "       2       1.821022\n",
      "d      0      -0.347408\n",
      "       1      -0.536774\n",
      "       2       1.545533\n",
      "dtype: float64\n",
      "<class 'pandas.core.series.Series'>\n",
      "<class 'pandas.core.indexes.multi.MultiIndex'>\n",
      "MultiIndex([('a', 0),\n",
      "            ('a', 1),\n",
      "            ('a', 2),\n",
      "            ('b', 0),\n",
      "            ('b', 1),\n",
      "            ('b', 2),\n",
      "            ('c', 0),\n",
      "            ('c', 1),\n",
      "            ('c', 2),\n",
      "            ('d', 0),\n",
      "            ('d', 1),\n",
      "            ('d', 2)],\n",
      "           names=['cloth', 'size'])\n",
      "[['a', 'b', 'c', 'd'], [0, 1, 2]]\n"
     ]
    },
    {
     "data": {
      "text/plain": [
       "FrozenList([[0, 0, 0, 1, 1, 1, 2, 2, 2, 3, 3, 3], [0, 1, 2, 0, 1, 2, 0, 1, 2, 0, 1, 2]])"
      ]
     },
     "execution_count": 20,
     "metadata": {},
     "output_type": "execute_result"
    }
   ],
   "source": [
    "import pandas as pd\n",
    "import numpy as np\n",
    "\n",
    "index1 = pd.MultiIndex.from_arrays([['a', 'a', 'a', 'b', 'b', 'b', 'c', 'c', 'c', 'd', 'd', 'd'],\n",
    "                [0, 1, 2, 0, 1, 2, 0, 1, 2, 0, 1, 2]], names=['cloth', 'size'])\n",
    "\n",
    "ser_obj = pd.Series(np.random.randn(12),index=index1)\n",
    "print(ser_obj)\n",
    "print(type(ser_obj))\n",
    "print(type(ser_obj.index))\n",
    "print(ser_obj.index)\n",
    "print(ser_obj.index.levels)\n",
    "ser_obj.index.codes\n"
   ]
  },
  {
   "cell_type": "code",
   "execution_count": 21,
   "metadata": {},
   "outputs": [
    {
     "name": "stdout",
     "output_type": "stream",
     "text": [
      "cloth  size\n",
      "a      0      -0.793319\n",
      "       1      -0.638436\n",
      "       2      -0.770086\n",
      "b      0       0.264141\n",
      "       1      -0.650348\n",
      "       2      -1.903459\n",
      "c      0      -0.707571\n",
      "       1      -1.307964\n",
      "       2       1.821022\n",
      "d      0      -0.347408\n",
      "       1      -0.536774\n",
      "       2       1.545533\n",
      "dtype: float64\n",
      "--------------------------------------------------\n",
      "size\n",
      "0   -0.707571\n",
      "1   -1.307964\n",
      "2    1.821022\n",
      "dtype: float64\n",
      "--------------------------------------------------\n",
      "-0.770085956639031\n",
      "--------------------------------------------------\n",
      "cloth\n",
      "a   -0.770086\n",
      "b   -1.903459\n",
      "c    1.821022\n",
      "d    1.545533\n",
      "dtype: float64\n"
     ]
    }
   ],
   "source": [
    "print(ser_obj) \n",
    "print('-'*50)\n",
    "print(ser_obj['c'])\n",
    "print('-'*50)\n",
    "print(ser_obj['a', 2])\n",
    "print('-'*50)\n",
    "print(ser_obj[:, 2])"
   ]
  },
  {
   "cell_type": "code",
   "execution_count": 32,
   "metadata": {},
   "outputs": [
    {
     "name": "stdout",
     "output_type": "stream",
     "text": [
      "cloth  size\n",
      "a      0      -0.793319\n",
      "       1      -0.638436\n",
      "       2      -0.770086\n",
      "b      0       0.264141\n",
      "       1      -0.650348\n",
      "       2      -1.903459\n",
      "c      0      -0.707571\n",
      "       1      -1.307964\n",
      "       2       1.821022\n",
      "d      0      -0.347408\n",
      "       1      -0.536774\n",
      "       2       1.545533\n",
      "dtype: float64\n",
      "size  cloth\n",
      "0     a       -0.793319\n",
      "1     a       -0.638436\n",
      "2     a       -0.770086\n",
      "0     b        0.264141\n",
      "1     b       -0.650348\n",
      "2     b       -1.903459\n",
      "0     c       -0.707571\n",
      "1     c       -1.307964\n",
      "2     c        1.821022\n",
      "0     d       -0.347408\n",
      "1     d       -0.536774\n",
      "2     d        1.545533\n",
      "dtype: float64\n",
      "cloth         a         b         c         d\n",
      "size                                         \n",
      "0     -0.793319  0.264141 -0.707571 -0.347408\n",
      "1     -0.638436 -0.650348 -1.307964 -0.536774\n",
      "2     -0.770086 -1.903459  1.821022  1.545533\n"
     ]
    }
   ],
   "source": [
    "print(ser_obj.swaplevel())\n",
    "print(ser_obj)\n",
    "# ser_obj=ser_obj.swaplevel()\n",
    "df_obj=ser_obj.unstack()\n",
    "print(df_obj)\n"
   ]
  },
  {
   "cell_type": "code",
   "execution_count": 41,
   "metadata": {},
   "outputs": [
    {
     "data": {
      "text/plain": [
       "size  cloth\n",
       "0     a       -0.793319\n",
       "      b        0.264141\n",
       "      c       -0.707571\n",
       "      d       -0.347408\n",
       "1     a       -0.638436\n",
       "      b       -0.650348\n",
       "      c       -1.307964\n",
       "      d       -0.536774\n",
       "2     a       -0.770086\n",
       "      b       -1.903459\n",
       "      c        1.821022\n",
       "      d        1.545533\n",
       "dtype: float64"
      ]
     },
     "execution_count": 41,
     "metadata": {},
     "output_type": "execute_result"
    }
   ],
   "source": [
    "df_obj.stack()  #stack变为series和unstack保持一致的"
   ]
  },
  {
   "cell_type": "markdown",
   "metadata": {},
   "source": []
  },
  {
   "cell_type": "code",
   "execution_count": 46,
   "metadata": {},
   "outputs": [
    {
     "name": "stdout",
     "output_type": "stream",
     "text": [
      "cloth         a         b         c         d\n",
      "size                                         \n",
      "0     -0.793319       NaN -0.707571 -0.347408\n",
      "1     -0.638436 -0.650348 -1.307964 -0.536774\n",
      "2     -0.770086 -1.903459  1.821022  1.545533\n",
      "cloth         a         b         c         d\n",
      "size                                         \n",
      "0     -0.793319       NaN -0.707571 -0.347408\n",
      "1     -0.638436 -0.650348 -1.307964 -0.536774\n",
      "2     -0.770086 -1.903459  1.821022  1.545533\n",
      "--------------------------------------------------\n",
      "size\n",
      "0   -0.793319\n",
      "1   -1.307964\n",
      "2   -1.903459\n",
      "dtype: float64\n",
      "--------------------------------------------------\n",
      "cloth         a         b         c         d\n",
      "count  3.000000  2.000000  3.000000  3.000000\n",
      "mean  -0.733947 -1.276904 -0.064838  0.220450\n",
      "std    0.083527  0.886083  1.660563  1.151455\n",
      "min   -0.793319 -1.903459 -1.307964 -0.536774\n",
      "25%   -0.781702 -1.590181 -1.007767 -0.442091\n",
      "50%   -0.770086 -1.276904 -0.707571 -0.347408\n",
      "75%   -0.704261 -0.963626  0.556725  0.599063\n",
      "max   -0.638436 -0.650348  1.821022  1.545533\n"
     ]
    }
   ],
   "source": [
    "print(df_obj)\n",
    "df_obj.loc[0,'b']=np.nan\n",
    "print(df_obj)\n",
    "print('-'*50)\n",
    "print(df_obj.min(axis=1, skipna=True))\n",
    "print('-'*50)\n",
    "print(df_obj.describe())"
   ]
  },
  {
   "cell_type": "code",
   "execution_count": 49,
   "metadata": {},
   "outputs": [
    {
     "name": "stdout",
     "output_type": "stream",
     "text": [
      "1\n"
     ]
    }
   ],
   "source": [
    "print(df_obj['c'].argmin())#argmin和argmax只能是series，不能是df"
   ]
  },
  {
   "cell_type": "code",
   "execution_count": 52,
   "metadata": {},
   "outputs": [
    {
     "data": {
      "text/plain": [
       "size\n",
       "0    a\n",
       "1    c\n",
       "2    b\n",
       "dtype: object"
      ]
     },
     "execution_count": 52,
     "metadata": {},
     "output_type": "execute_result"
    }
   ],
   "source": [
    "df_obj.idxmin(axis=1)"
   ]
  },
  {
   "cell_type": "code",
   "execution_count": 59,
   "metadata": {},
   "outputs": [
    {
     "name": "stdout",
     "output_type": "stream",
     "text": [
      "644\n",
      "644\n",
      "2015\n",
      "125\n"
     ]
    },
    {
     "data": {
      "image/png": "[encoded data removed]",
      "text/plain": [
       "<Figure size 1600x640 with 1 Axes>"
      ]
     },
     "metadata": {
      "needs_background": "light"
     },
     "output_type": "display_data"
    }
   ],
   "source": [
    "import pandas as pd\n",
    "import numpy as np\n",
    "from matplotlib import pyplot as plt\n",
    "\n",
    "file_path = \"IMDB-Movie-Data.csv\"\n",
    "df = pd.read_csv(file_path)\n",
    "# 打印数据信息\n",
    "# print(df.info())\n",
    "\n",
    "# print(df.head(1))\n",
    "\n",
    "# # 获取平均评分\n",
    "# print(df[\"Rating\"].mean())\n",
    "\n",
    "# 导演的人数\n",
    "print(len(set(df[\"Director\"].tolist())))\n",
    "print(len(df[\"Director\"].unique()))\n",
    "\n",
    "# # 获取演员的人数\n",
    "temp_actors_list = df[\"Actors\"].str.split(\", \").tolist()\n",
    "# print(temp_actors_list)\n",
    "actors_list = [i for j in temp_actors_list for i in j]\n",
    "actors_num = len(set(actors_list))\n",
    "print(actors_num)\n",
    "\n",
    "# rating,runtime分布情况\n",
    "# 选择图形，直方图\n",
    "# 准备数据\n",
    "runtime_data = df[\"Runtime (Minutes)\"].values\n",
    "\n",
    "max_runtime = runtime_data.max()\n",
    "min_runtime = runtime_data.min()\n",
    "\n",
    "# 计算组数\n",
    "print(max_runtime - min_runtime)\n",
    "num_bin = (max_runtime - min_runtime) // 5\n",
    "\n",
    "# 设置图形的大小\n",
    "plt.figure(figsize=(20, 8), dpi=80)\n",
    "# 第二个bins参数必须为int或sequence或str，bins代表划分为多少个单元\n",
    "plt.hist(runtime_data, int(num_bin))\n",
    "\n",
    "plt.xticks(range(min_runtime, max_runtime + 5, 5))\n",
    "\n",
    "plt.show()"
   ]
  },
  {
   "cell_type": "markdown",
   "metadata": {},
   "source": []
  },
  {
   "cell_type": "code",
   "execution_count": 67,
   "metadata": {},
   "outputs": [
    {
     "name": "stdout",
     "output_type": "stream",
     "text": [
      "  key1   key2     data1     data2\n",
      "0    a    one -0.452115 -0.386893\n",
      "1    b    one -1.037842  1.087503\n",
      "2    a    two  0.750604  1.506356\n",
      "3    b  three  0.740737  0.137880\n",
      "4    a    two -0.667486 -0.930043\n",
      "5    b    two -0.024905  0.829065\n",
      "6    a    one -1.099682 -0.767768\n",
      "7    a  three  0.540446  0.294871\n",
      "pandas.core.groupby.generic.DataFrameGroupBy\n",
      "0   -0.452115\n",
      "1   -1.037842\n",
      "2    0.750604\n",
      "3    0.740737\n",
      "4   -0.667486\n",
      "5   -0.024905\n",
      "6   -1.099682\n",
      "7    0.540446\n",
      "Name: data1, dtype: float64\n",
      "pandas.core.groupby.generic.SeriesGroupBy\n",
      "         data1     data2\n",
      "key1                    \n",
      "a    -0.185647 -0.056695\n",
      "b    -0.107336  0.684816\n",
      "key1\n",
      "a   -0.185647\n",
      "b   -0.107336\n",
      "Name: data1, dtype: float64\n"
     ]
    }
   ],
   "source": [
    "dict_obj = {'key1' : ['a', 'b', 'a', 'b', \n",
    "                      'a', 'b', 'a', 'a'],\n",
    "            'key2' : ['one', 'one', 'two', 'three',\n",
    "                      'two', 'two', 'one', 'three'],\n",
    "            'data1': np.random.randn(8),\n",
    "            'data2': np.random.randn(8)}\n",
    "df_obj = pd.DataFrame(dict_obj)\n",
    "\n",
    "print(df_obj)\n",
    "\n",
    "# dataframe根据key1进行分组\n",
    "print(type(df_obj.groupby('key1')))\n",
    "\n",
    "print(df_obj['data1'])\n",
    "# dataframe的 data1 列根据 key1 进行分组\n",
    "print(type(df_obj['data1'].groupby(df_obj['key1'])))\n",
    "\n",
    "# 分组运算\n",
    "grouped1 = df_obj.groupby('key1')\n",
    "print(grouped1.mean())\n",
    "\n",
    "grouped2 = df_obj['data1'].groupby(df_obj['key1'])\n",
    "print(grouped2.mean())\n"
   ]
  },
  {
   "cell_type": "markdown",
   "metadata": {},
   "source": []
  },
  {
   "cell_type": "code",
   "execution_count": 78,
   "metadata": {
    "scrolled": true
   },
   "outputs": [
    {
     "name": "stdout",
     "output_type": "stream",
     "text": [
      "0    1\n",
      "1    1\n",
      "2    1\n",
      "3    3\n",
      "5    1\n",
      "7    1\n",
      "dtype: int64\n",
      "      data1     data2\n",
      "0 -0.452115 -0.386893\n",
      "1 -1.037842  1.087503\n",
      "2  0.750604  1.506356\n",
      "3  0.048347  0.036902\n",
      "5 -1.099682 -0.767768\n",
      "7  0.540446  0.294871\n",
      "key1  key2 \n",
      "a     one      2\n",
      "      three    1\n",
      "      two      2\n",
      "b     one      1\n",
      "      three    1\n",
      "      two      1\n",
      "dtype: int64\n",
      "--------------------------------------------------\n",
      "key1  key2 \n",
      "a     one      2\n",
      "      three    1\n",
      "      two      2\n",
      "b     one      1\n",
      "      three    1\n",
      "      two      1\n",
      "dtype: int64\n",
      "--------------------------------------------------\n",
      "key2   key1\n",
      "one    a       2\n",
      "       b       1\n",
      "three  a       1\n",
      "       b       1\n",
      "two    a       2\n",
      "       b       1\n",
      "dtype: int64\n",
      "               data1     data2\n",
      "key2  key1                    \n",
      "one   a    -0.775898 -0.577331\n",
      "      b    -1.037842  1.087503\n",
      "three a     0.540446  0.294871\n",
      "      b     0.740737  0.137880\n",
      "two   a     0.041559  0.288157\n",
      "      b    -0.024905  0.829065\n",
      "MultiIndex([(  'one', 'a'),\n",
      "            (  'one', 'b'),\n",
      "            ('three', 'a'),\n",
      "            ('three', 'b'),\n",
      "            (  'two', 'a'),\n",
      "            (  'two', 'b')],\n",
      "           names=['key2', 'key1'])\n",
      "          data1               data2          \n",
      "key1          a         b         a         b\n",
      "key2                                         \n",
      "one   -0.775898 -1.037842 -0.577331  1.087503\n",
      "three  0.540446  0.740737  0.294871  0.137880\n",
      "two    0.041559 -0.024905  0.288157  0.829065\n",
      "MultiIndex([('data1', 'a'),\n",
      "            ('data1', 'b'),\n",
      "            ('data2', 'a'),\n",
      "            ('data2', 'b')],\n",
      "           names=[None, 'key1'])\n",
      "('one', 'a')\n",
      "  key1 key2     data1     data2\n",
      "0    a  one -0.452115 -0.386893\n",
      "6    a  one -1.099682 -0.767768\n",
      "('one', 'b')\n",
      "  key1 key2     data1     data2\n",
      "1    b  one -1.037842  1.087503\n",
      "('three', 'a')\n",
      "  key1   key2     data1     data2\n",
      "7    a  three  0.540446  0.294871\n",
      "('three', 'b')\n",
      "  key1   key2     data1    data2\n",
      "3    b  three  0.740737  0.13788\n",
      "('two', 'a')\n",
      "  key1 key2     data1     data2\n",
      "2    a  two  0.750604  1.506356\n",
      "4    a  two -0.667486 -0.930043\n",
      "('two', 'b')\n",
      "  key1 key2     data1     data2\n",
      "5    b  two -0.024905  0.829065\n"
     ]
    }
   ],
   "source": [
    "# # 按自定义key分组，列表\n",
    "self_def_key = [0, 1, 2, 3, 3, 3, 5, 7]\n",
    "print(df_obj.groupby(self_def_key).size())\n",
    "print(df_obj.groupby(self_def_key).sum())\n",
    "# 按自定义key分组，多层列表\n",
    "print(df_obj.groupby([df_obj['key1'], df_obj['key2']]).size())\n",
    "\n",
    "# # 按多个列多层分组\n",
    "print('-'*50)\n",
    "grouped2 = df_obj.groupby(['key1', 'key2'])\n",
    "print(grouped2.size())\n",
    "\n",
    "# # 多层分组按key的顺序进行\n",
    "print('-'*50)\n",
    "grouped3 = df_obj.groupby(['key2', 'key1'])\n",
    "print(grouped3.size())\n",
    "print(grouped3.mean())\n",
    "# unstack可以将多层索引的结果转换成单层的dataframe\n",
    "print(grouped3.mean().index)\n",
    "print(grouped3.mean().unstack())\n",
    "print(grouped3.mean().unstack().columns)\n",
    "# # 多层分组，根据key1 和 key2\n",
    "for group_name, group_data in grouped3:\n",
    "    print(group_name)\n",
    "    print(group_data)"
   ]
  },
  {
   "cell_type": "code",
   "execution_count": null,
   "metadata": {},
   "outputs": [],
   "source": [
    "list(grouped3)"
   ]
  },
  {
   "cell_type": "code",
   "execution_count": 18,
   "metadata": {},
   "outputs": [
    {
     "name": "stdout",
     "output_type": "stream",
     "text": [
      "key1      object\n",
      "key2      object\n",
      "data1    float64\n",
      "data2    float64\n",
      "dtype: object\n"
     ]
    }
   ],
   "source": [
    "print(df_obj.dtypes)"
   ]
  },
  {
   "cell_type": "code",
   "execution_count": 19,
   "metadata": {},
   "outputs": [
    {
     "name": "stdout",
     "output_type": "stream",
     "text": [
      "   a    b    c    d  e\n",
      "A  1  7.0  7.0  1.0  6\n",
      "B  6  NaN  NaN  NaN  8\n",
      "C  2  3.0  3.0  1.0  3\n",
      "D  1  7.0  9.0  6.0  2\n",
      "E  7  1.0  8.0  2.0  6\n",
      "C         1\n",
      "Java      2\n",
      "Python    2\n",
      "dtype: int64\n",
      "   C  Java  Python\n",
      "A  1     2       2\n",
      "B  0     1       1\n",
      "C  1     2       2\n",
      "D  1     2       2\n",
      "E  1     2       2\n",
      "     C  Java  Python\n",
      "A  1.0  13.0     8.0\n",
      "B  0.0   8.0     6.0\n",
      "C  1.0   6.0     5.0\n",
      "D  6.0  11.0     8.0\n",
      "E  2.0  14.0     8.0\n"
     ]
    }
   ],
   "source": [
    "df_obj2 = pd.DataFrame(np.random.randint(1, 10, (5,5)),\n",
    "                       columns=['a', 'b', 'c', 'd', 'e'],\n",
    "                       index=['A', 'B', 'C', 'D', 'E'])\n",
    "# 给指定某个部分的数据重新赋值为 np.NaN\n",
    "df_obj2.loc['B',1:4]=np.NAN\n",
    "\n",
    "print(df_obj2)\n",
    "# 通过字典分组\n",
    "mapping_dict = {'a':'Python', 'b':'Python', 'c':'Java', 'd':'C', 'e':'Java'}\n",
    "print(df_obj2.groupby(mapping_dict, axis=1).size())\n",
    "print(df_obj2.groupby(mapping_dict, axis=1).count()) # 非NaN的个数\n",
    "print(df_obj2.groupby(mapping_dict, axis=1).sum())\n"
   ]
  },
  {
   "cell_type": "code",
   "execution_count": 20,
   "metadata": {},
   "outputs": [
    {
     "name": "stdout",
     "output_type": "stream",
     "text": [
      "      a  b  c  d  e\n",
      "AA    6  4  1  1  2\n",
      "BBBB  4  5  9  4  6\n",
      "CC    6  2  2  5  9\n",
      "D     7  6  1  7  6\n",
      "EE    2  6  4  9  5\n",
      "1    1\n",
      "2    3\n",
      "4    1\n",
      "dtype: int64\n"
     ]
    }
   ],
   "source": [
    "# 通过函数分组\n",
    "df_obj3 = pd.DataFrame(np.random.randint(1, 10, (5,5)),\n",
    "                       columns=['a', 'b', 'c', 'd', 'e'],\n",
    "                       index=['AA', 'BBBB', 'CC', 'D', 'EE'])\n",
    "#df_obj3\n",
    "\n",
    "def group_key(idx):\n",
    "    \"\"\"\n",
    "        idx 为列索引或行索引\n",
    "    \"\"\"\n",
    "    #return idx\n",
    "    return len(idx)\n",
    "print(df_obj3)\n",
    "print(df_obj3.groupby(group_key).size())\n",
    "\n",
    "# 以上自定义函数等价于\n",
    "#df_obj3.groupby(len).size()\n"
   ]
  },
  {
   "cell_type": "code",
   "execution_count": 21,
   "metadata": {},
   "outputs": [
    {
     "name": "stdout",
     "output_type": "stream",
     "text": [
      "language Python Java Python Java Python\n",
      "index         A    A      B    C      B\n",
      "0             3    1      2    1      4\n",
      "1             1    6      8    4      9\n",
      "2             5    1      8    3      1\n",
      "3             6    2      7    8      2\n",
      "4             5    1      2    3      2\n",
      "language  Java  Python\n",
      "0            2       9\n",
      "1           10      18\n",
      "2            4      14\n",
      "3           10      15\n",
      "4            4       9\n",
      "index  A   B  C\n",
      "0      4   6  1\n",
      "1      7  17  4\n",
      "2      6   9  3\n",
      "3      8   9  8\n",
      "4      6   4  3\n"
     ]
    }
   ],
   "source": [
    "# 通过索引级别分组\n",
    "columns = pd.MultiIndex.from_arrays([['Python', 'Java', 'Python', 'Java', 'Python'],\n",
    "                                     ['A', 'A', 'B', 'C', 'B']], names=['language', 'index'])\n",
    "df_obj4 = pd.DataFrame(np.random.randint(1, 10, (5, 5)), columns=columns)\n",
    "print(df_obj4)\n",
    "\n",
    "# 根据language进行分组\n",
    "print(df_obj4.groupby(level='language', axis=1).sum())\n",
    "# 根据index进行分组\n",
    "print(df_obj4.groupby(level='index', axis=1).sum())\n"
   ]
  },
  {
   "cell_type": "code",
   "execution_count": 22,
   "metadata": {},
   "outputs": [
    {
     "name": "stdout",
     "output_type": "stream",
     "text": [
      "  key1   key2  data1  data2\n",
      "0    a    one      7      4\n",
      "1    b    one      8      9\n",
      "2    a    two      3      7\n",
      "3    b  three      7      2\n",
      "4    a    two      4      5\n",
      "5    b    two      4      7\n",
      "6    a    one      8      1\n",
      "7    a  three      5      3\n",
      "      data1  data2\n",
      "key1              \n",
      "a         5      6\n",
      "b         4      7\n",
      "      data1  data2\n",
      "key1              \n",
      "a         5      6\n",
      "b         4      7\n"
     ]
    }
   ],
   "source": [
    "dict_obj = {'key1' : ['a', 'b', 'a', 'b', \n",
    "                      'a', 'b', 'a', 'a'],\n",
    "            'key2' : ['one', 'one', 'two', 'three',\n",
    "                      'two', 'two', 'one', 'three'],\n",
    "            'data1': np.random.randint(1,10, 8),\n",
    "            'data2': np.random.randint(1,10, 8)}\n",
    "df_obj5 = pd.DataFrame(dict_obj)\n",
    "print(df_obj5)\n",
    "# 自定义聚合函数\n",
    "def peak_range(df):\n",
    "    \"\"\"\n",
    "        返回数值范围\n",
    "    \"\"\"\n",
    "    #print type(df) #参数为索引所对应的记录\n",
    "    return df.max() - df.min()\n",
    "\n",
    "print(df_obj5.groupby('key1').agg(peak_range))\n",
    "print(df_obj5.groupby('key1').agg(lambda df : df.max() - df.min()))"
   ]
  },
  {
   "cell_type": "code",
   "execution_count": 23,
   "metadata": {},
   "outputs": [
    {
     "name": "stdout",
     "output_type": "stream",
     "text": [
      "         data1                                data2                           \n",
      "          mean       std count peak_range      mean       std count peak_range\n",
      "key1                                                                          \n",
      "a     0.817484  0.992523     5   2.453783 -0.079523  1.541954     5   3.920186\n",
      "b    -0.740284  1.414782     3   2.705077 -0.294637  0.874089     3   1.600786\n"
     ]
    }
   ],
   "source": [
    "# 同时应用多个聚合函数\n",
    "print(df_obj.groupby('key1').agg(['mean', 'std', 'count', peak_range]))"
   ]
  },
  {
   "cell_type": "code",
   "execution_count": 24,
   "metadata": {},
   "outputs": [
    {
     "name": "stdout",
     "output_type": "stream",
     "text": [
      "         data1     data2\n",
      "key1                    \n",
      "a     0.817484  3.920186\n",
      "b    -0.740284  1.600786\n"
     ]
    }
   ],
   "source": [
    "# 每列作用不同的聚合函数\n",
    "dict_mapping = {'data1':'mean',\n",
    "                'data2':peak_range}\n",
    "print(df_obj.groupby('key1').agg(dict_mapping))\n"
   ]
  }
 ],
 "metadata": {
  "kernelspec": {
   "display_name": "Python 3",
   "language": "python",
   "name": "python3"
  },
  "language_info": {
   "codemirror_mode": {
    "name": "ipython",
    "version": 3
   },
   "file_extension": ".py",
   "mimetype": "text/x-python",
   "name": "python",
   "nbconvert_exporter": "python",
   "pygments_lexer": "ipython3",
   "version": "3.6.8"
  },
  "pycharm": {
   "stem_cell": {
    "cell_type": "raw",
    "source": [],
    "metadata": {
     "collapsed": false
    }
   }
  }
 },
 "nbformat": 4,
 "nbformat_minor": 2
}