{
 "cells": [
  {
   "cell_type": "code",
   "execution_count": 1,
   "metadata": {
    "pycharm": {
     "is_executing": false
    }
   },
   "outputs": [
    {
     "name": "stdout",
     "text": [
      "0    10\n1    11\n2    12\n3    13\n4    14\n5    15\n6    16\n7    17\n8    18\n9    19\ndtype: int64\n[10 11 12 13 14 15 16 17 18 19]\nRangeIndex(start=0, stop=10, step=1)\n"
     ],
     "output_type": "stream"
    },
    {
     "data": {
      "text/plain": "dtype('int64')"
     },
     "metadata": {},
     "output_type": "execute_result",
     "execution_count": 1
    }
   ],
   "source": [
    "import pandas as pd\n",
    "ser_obj = pd.Series(range(10, 20))\n",
    "print(ser_obj)\n",
    "# 获取数据\n",
    "print(ser_obj.values)\n",
    "\n",
    "# 获取索引\n",
    "print(ser_obj.index)\n",
    "ser_obj.dtype\n"
   ]
  },
  {
   "cell_type": "code",
   "execution_count": 2,
   "metadata": {},
   "outputs": [
    {
     "name": "stdout",
     "output_type": "stream",
     "text": [
      "0    20\n",
      "1    22\n",
      "2    24\n",
      "3    26\n",
      "4    28\n",
      "5    30\n",
      "6    32\n",
      "7    34\n",
      "8    36\n",
      "9    38\n",
      "dtype: int64\n",
      "0    False\n",
      "1    False\n",
      "2    False\n",
      "3    False\n",
      "4    False\n",
      "5    False\n",
      "6     True\n",
      "7     True\n",
      "8     True\n",
      "9     True\n",
      "dtype: bool\n"
     ]
    }
   ],
   "source": [
    "print(ser_obj * 2)\n",
    "print(ser_obj > 15)"
   ]
  },
  {
   "cell_type": "code",
   "execution_count": 2,
   "metadata": {
    "pycharm": {
     "is_executing": false
    }
   },
   "outputs": [
    {
     "name": "stdout",
     "text": [
      "2001    17.8\n2005    20.1\n2003    16.5\ndtype: float64\nInt64Index([2001, 2005, 2003], dtype='int64')\n17.8\n"
     ],
     "output_type": "stream"
    },
    {
     "data": {
      "text/plain": "array([17.8, 20.1, 16.5])"
     },
     "metadata": {},
     "output_type": "execute_result",
     "execution_count": 2
    }
   ],
   "source": [
    "#字典变为series\n",
    "year_data = {2001: 17.8, 2005: 20.1, 2003: 16.5}\n",
    "ser_obj2 = pd.Series(year_data)\n",
    "print(ser_obj2)\n",
    "print(ser_obj2.index)\n",
    "print(ser_obj2[2001])\n",
    "ser_obj2.values"
   ]
  },
  {
   "cell_type": "code",
   "execution_count": 6,
   "metadata": {},
   "outputs": [
    {
     "name": "stdout",
     "output_type": "stream",
     "text": [
      "None\n",
      "None\n",
      "year1\n",
      "2001    17.8\n",
      "2005    20.1\n",
      "2003    16.5\n",
      "Name: temp, dtype: float64\n"
     ]
    }
   ],
   "source": [
    "print(ser_obj2.name)\n",
    "ser_obj2.name = 'temp'\n",
    "print(ser_obj2.index.name)  #索引名字\n",
    "ser_obj2.index.name = 'year1'\n",
    "print(ser_obj2.head())\n"
   ]
  },
  {
   "cell_type": "markdown",
   "metadata": {},
   "source": [
    "# DataFrame"
   ]
  },
  {
   "cell_type": "code",
   "execution_count": 8,
   "metadata": {
    "scrolled": false
   },
   "outputs": [
    {
     "data": {
      "text/html": [
       "<div>\n",
       "<style scoped>\n",
       "    .dataframe tbody tr th:only-of-type {\n",
       "        vertical-align: middle;\n",
       "    }\n",
       "\n",
       "    .dataframe tbody tr th {\n",
       "        vertical-align: top;\n",
       "    }\n",
       "\n",
       "    .dataframe thead th {\n",
       "        text-align: right;\n",
       "    }\n",
       "</style>\n",
       "<table border=\"1\" class=\"dataframe\">\n",
       "  <thead>\n",
       "    <tr style=\"text-align: right;\">\n",
       "      <th></th>\n",
       "      <th>name</th>\n",
       "      <th>age</th>\n",
       "      <th>tel</th>\n",
       "    </tr>\n",
       "  </thead>\n",
       "  <tbody>\n",
       "    <tr>\n",
       "      <th>0</th>\n",
       "      <td>xiaohong</td>\n",
       "      <td>32.0</td>\n",
       "      <td>10010.0</td>\n",
       "    </tr>\n",
       "    <tr>\n",
       "      <th>1</th>\n",
       "      <td>xiaogang</td>\n",
       "      <td>NaN</td>\n",
       "      <td>10000.0</td>\n",
       "    </tr>\n",
       "    <tr>\n",
       "      <th>2</th>\n",
       "      <td>xiaowang</td>\n",
       "      <td>22.0</td>\n",
       "      <td>NaN</td>\n",
       "    </tr>\n",
       "  </tbody>\n",
       "</table>\n",
       "</div>"
      ],
      "text/plain": [
       "       name   age      tel\n",
       "0  xiaohong  32.0  10010.0\n",
       "1  xiaogang   NaN  10000.0\n",
       "2  xiaowang  22.0      NaN"
      ]
     },
     "execution_count": 8,
     "metadata": {},
     "output_type": "execute_result"
    }
   ],
   "source": [
    "d2 =[{\"name\" : \"xiaohong\" ,\"age\" :32,\"tel\" :10010},{ \"name\": \"xiaogang\" ,\"tel\": 10000} ,{\"name\":\"xiaowang\" ,\"age\":22}]\n",
    "df6=pd.DataFrame(d2)\n",
    "df6"
   ]
  },
  {
   "cell_type": "code",
   "execution_count": 13,
   "metadata": {},
   "outputs": [
    {
     "name": "stdout",
     "output_type": "stream",
     "text": [
      "   A          B    C  D       E        F\n",
      "0  1 2019-09-26  1.0  3  Python  wangdao\n",
      "1  1 2019-09-26  1.0  3    Java  wangdao\n",
      "2  1 2019-09-26  1.0  3     C++  wangdao\n",
      "3  1 2019-09-26  1.0  3       C  wangdao\n",
      "Int64Index([0, 1, 2, 3], dtype='int64')\n"
     ]
    },
    {
     "data": {
      "text/plain": [
       "Index(['A', 'B', 'C', 'D', 'E', 'F'], dtype='object')"
      ]
     },
     "execution_count": 13,
     "metadata": {},
     "output_type": "execute_result"
    }
   ],
   "source": [
    "import pandas as pd\n",
    "import numpy as np\n",
    "dict_data = {'A': 1,\n",
    "             'B': pd.Timestamp('20190926'),\n",
    "             'C': pd.Series(1, index=list(range(4)),dtype='float32'),\n",
    "             'D': np.array([3] * 4,dtype='int32'),\n",
    "             'E': [\"Python\",\"Java\",\"C++\",\"C\"],\n",
    "             'F': 'wangdao' }\n",
    "df_obj2 = pd.DataFrame(dict_data)\n",
    "print(df_obj2)\n",
    "print(df_obj2.index)\n",
    "#补课改变\n",
    "# df_obj2.index[0] = 2\n",
    "df_obj2.columns"
   ]
  },
  {
   "cell_type": "code",
   "execution_count": 14,
   "metadata": {},
   "outputs": [
    {
     "data": {
      "text/html": [
       "<div>\n",
       "<style scoped>\n",
       "    .dataframe tbody tr th:only-of-type {\n",
       "        vertical-align: middle;\n",
       "    }\n",
       "\n",
       "    .dataframe tbody tr th {\n",
       "        vertical-align: top;\n",
       "    }\n",
       "\n",
       "    .dataframe thead th {\n",
       "        text-align: right;\n",
       "    }\n",
       "</style>\n",
       "<table border=\"1\" class=\"dataframe\">\n",
       "  <thead>\n",
       "    <tr style=\"text-align: right;\">\n",
       "      <th></th>\n",
       "      <th>A</th>\n",
       "      <th>B</th>\n",
       "      <th>C</th>\n",
       "      <th>D</th>\n",
       "    </tr>\n",
       "  </thead>\n",
       "  <tbody>\n",
       "    <tr>\n",
       "      <th>2013-01-01</th>\n",
       "      <td>1.372445</td>\n",
       "      <td>1.405305</td>\n",
       "      <td>-1.242417</td>\n",
       "      <td>1.597049</td>\n",
       "    </tr>\n",
       "    <tr>\n",
       "      <th>2013-01-02</th>\n",
       "      <td>1.801653</td>\n",
       "      <td>-0.782240</td>\n",
       "      <td>0.397795</td>\n",
       "      <td>1.322675</td>\n",
       "    </tr>\n",
       "    <tr>\n",
       "      <th>2013-01-03</th>\n",
       "      <td>-0.465525</td>\n",
       "      <td>-0.156021</td>\n",
       "      <td>1.115557</td>\n",
       "      <td>1.007929</td>\n",
       "    </tr>\n",
       "    <tr>\n",
       "      <th>2013-01-04</th>\n",
       "      <td>1.306102</td>\n",
       "      <td>1.470188</td>\n",
       "      <td>-0.028484</td>\n",
       "      <td>-0.814458</td>\n",
       "    </tr>\n",
       "    <tr>\n",
       "      <th>2013-01-05</th>\n",
       "      <td>-0.411892</td>\n",
       "      <td>0.323685</td>\n",
       "      <td>0.219841</td>\n",
       "      <td>1.797163</td>\n",
       "    </tr>\n",
       "    <tr>\n",
       "      <th>2013-01-06</th>\n",
       "      <td>1.502160</td>\n",
       "      <td>0.747238</td>\n",
       "      <td>1.423646</td>\n",
       "      <td>-1.753026</td>\n",
       "    </tr>\n",
       "  </tbody>\n",
       "</table>\n",
       "</div>"
      ],
      "text/plain": [
       "                   A         B         C         D\n",
       "2013-01-01  1.372445  1.405305 -1.242417  1.597049\n",
       "2013-01-02  1.801653 -0.782240  0.397795  1.322675\n",
       "2013-01-03 -0.465525 -0.156021  1.115557  1.007929\n",
       "2013-01-04  1.306102  1.470188 -0.028484 -0.814458\n",
       "2013-01-05 -0.411892  0.323685  0.219841  1.797163\n",
       "2013-01-06  1.502160  0.747238  1.423646 -1.753026"
      ]
     },
     "execution_count": 14,
     "metadata": {},
     "output_type": "execute_result"
    }
   ],
   "source": [
    "dates = pd.date_range('20130101', periods=6)\n",
    "df = pd.DataFrame(np.random.randn(6, 4), index=dates, columns=list('ABCD'))\n",
    "df\n"
   ]
  },
  {
   "cell_type": "code",
   "execution_count": 17,
   "metadata": {},
   "outputs": [
    {
     "name": "stdout",
     "output_type": "stream",
     "text": [
      "0    1\n",
      "1    1\n",
      "2    1\n",
      "3    1\n",
      "Name: A, dtype: int64\n",
      "<class 'pandas.core.series.Series'>\n"
     ]
    }
   ],
   "source": [
    "print(df_obj2['A'])\n",
    "#把df的某一列取出来是series\n",
    "print(type(df_obj2['A']))"
   ]
  },
  {
   "cell_type": "code",
   "execution_count": 18,
   "metadata": {},
   "outputs": [
    {
     "name": "stdout",
     "output_type": "stream",
     "text": [
      "   A          B    C  D       E        F  G\n",
      "0  1 2019-09-26  1.0  3  Python  wangdao  7\n",
      "1  1 2019-09-26  1.0  3    Java  wangdao  7\n",
      "2  1 2019-09-26  1.0  3     C++  wangdao  7\n",
      "3  1 2019-09-26  1.0  3       C  wangdao  7\n"
     ]
    }
   ],
   "source": [
    "#增加列数据\n",
    "df_obj2['G'] = df_obj2['D'] + 4\n",
    "print(df_obj2.head())"
   ]
  },
  {
   "cell_type": "code",
   "execution_count": 19,
   "metadata": {},
   "outputs": [
    {
     "name": "stdout",
     "output_type": "stream",
     "text": [
      "   A          B    C  D       E        F\n",
      "0  1 2019-09-26  1.0  3  Python  wangdao\n",
      "1  1 2019-09-26  1.0  3    Java  wangdao\n",
      "2  1 2019-09-26  1.0  3     C++  wangdao\n",
      "3  1 2019-09-26  1.0  3       C  wangdao\n"
     ]
    }
   ],
   "source": [
    "# 删除列\n",
    "del(df_obj2['G'])\n",
    "print(df_obj2.head())"
   ]
  },
  {
   "cell_type": "markdown",
   "metadata": {},
   "source": [
    "# 4 Pandas的索引操作"
   ]
  },
  {
   "cell_type": "code",
   "execution_count": 20,
   "metadata": {},
   "outputs": [
    {
     "name": "stdout",
     "output_type": "stream",
     "text": [
      "Int64Index([0, 1, 2, 3], dtype='int64')\n"
     ]
    }
   ],
   "source": [
    "print(df_obj2.index)"
   ]
  },
  {
   "cell_type": "code",
   "execution_count": 21,
   "metadata": {},
   "outputs": [
    {
     "ename": "TypeError",
     "evalue": "Index does not support mutable operations",
     "output_type": "error",
     "traceback": [
      "\u001b[1;31m---------------------------------------------------------------------------\u001b[0m",
      "\u001b[1;31mTypeError\u001b[0m                                 Traceback (most recent call last)",
      "\u001b[1;32m<ipython-input-21-f090778359d8>\u001b[0m in \u001b[0;36m<module>\u001b[1;34m\u001b[0m\n\u001b[0;32m      1\u001b[0m \u001b[1;31m# 索引对象不可变（上面代码增加）\u001b[0m\u001b[1;33m\u001b[0m\u001b[1;33m\u001b[0m\u001b[1;33m\u001b[0m\u001b[0m\n\u001b[1;32m----> 2\u001b[1;33m \u001b[0mdf_obj2\u001b[0m\u001b[1;33m.\u001b[0m\u001b[0mindex\u001b[0m\u001b[1;33m[\u001b[0m\u001b[1;36m0\u001b[0m\u001b[1;33m]\u001b[0m \u001b[1;33m=\u001b[0m \u001b[1;36m2\u001b[0m\u001b[1;33m\u001b[0m\u001b[1;33m\u001b[0m\u001b[0m\n\u001b[0m",
      "\u001b[1;32mc:\\users\\administrator\\appdata\\local\\programs\\python\\python36\\lib\\site-packages\\pandas\\core\\indexes\\base.py\u001b[0m in \u001b[0;36m__setitem__\u001b[1;34m(self, key, value)\u001b[0m\n\u001b[0;32m   4082\u001b[0m \u001b[1;33m\u001b[0m\u001b[0m\n\u001b[0;32m   4083\u001b[0m     \u001b[1;32mdef\u001b[0m \u001b[0m__setitem__\u001b[0m\u001b[1;33m(\u001b[0m\u001b[0mself\u001b[0m\u001b[1;33m,\u001b[0m \u001b[0mkey\u001b[0m\u001b[1;33m,\u001b[0m \u001b[0mvalue\u001b[0m\u001b[1;33m)\u001b[0m\u001b[1;33m:\u001b[0m\u001b[1;33m\u001b[0m\u001b[1;33m\u001b[0m\u001b[0m\n\u001b[1;32m-> 4084\u001b[1;33m         \u001b[1;32mraise\u001b[0m \u001b[0mTypeError\u001b[0m\u001b[1;33m(\u001b[0m\u001b[1;34m\"Index does not support mutable operations\"\u001b[0m\u001b[1;33m)\u001b[0m\u001b[1;33m\u001b[0m\u001b[1;33m\u001b[0m\u001b[0m\n\u001b[0m\u001b[0;32m   4085\u001b[0m \u001b[1;33m\u001b[0m\u001b[0m\n\u001b[0;32m   4086\u001b[0m     \u001b[1;32mdef\u001b[0m \u001b[0m__getitem__\u001b[0m\u001b[1;33m(\u001b[0m\u001b[0mself\u001b[0m\u001b[1;33m,\u001b[0m \u001b[0mkey\u001b[0m\u001b[1;33m)\u001b[0m\u001b[1;33m:\u001b[0m\u001b[1;33m\u001b[0m\u001b[1;33m\u001b[0m\u001b[0m\n",
      "\u001b[1;31mTypeError\u001b[0m: Index does not support mutable operations"
     ]
    }
   ],
   "source": [
    "# 索引对象不可变（上面代码增加）\n",
    "df_obj2.index[0] = 2"
   ]
  },
  {
   "cell_type": "markdown",
   "metadata": {},
   "source": [
    "3 常见的Index种类\n",
    "•Index，索引\n",
    "•Int64Index，整数索引\n",
    "•MultiIndex，层级索引\n",
    "•DatetimeIndex，时间戳类型"
   ]
  },
  {
   "cell_type": "code",
   "execution_count": 22,
   "metadata": {
    "scrolled": true
   },
   "outputs": [
    {
     "name": "stdout",
     "output_type": "stream",
     "text": [
      "a    0\n",
      "b    1\n",
      "c    2\n",
      "d    3\n",
      "e    4\n",
      "dtype: int64\n"
     ]
    },
    {
     "data": {
      "text/plain": [
       "Index(['a', 'b', 'c', 'd', 'e'], dtype='object')"
      ]
     },
     "execution_count": 22,
     "metadata": {},
     "output_type": "execute_result"
    }
   ],
   "source": [
    "ser_obj = pd.Series(range(5), index = list(\"abcde\"))\n",
    "print(ser_obj)\n",
    "ser_obj.index"
   ]
  },
  {
   "cell_type": "code",
   "execution_count": 23,
   "metadata": {},
   "outputs": [
    {
     "name": "stdout",
     "output_type": "stream",
     "text": [
      "1\n",
      "2\n"
     ]
    }
   ],
   "source": [
    "# 行索引\n",
    "print(ser_obj['b'])\n",
    "print(ser_obj[2])"
   ]
  },
  {
   "cell_type": "code",
   "execution_count": 24,
   "metadata": {},
   "outputs": [
    {
     "name": "stdout",
     "output_type": "stream",
     "text": [
      "b    1\n",
      "c    2\n",
      "dtype: int64\n",
      "b    1\n",
      "c    2\n",
      "d    3\n",
      "dtype: int64\n"
     ]
    }
   ],
   "source": [
    "# 切片索引\n",
    "print(ser_obj[1:3])\n",
    "print(ser_obj['b':'d'])"
   ]
  },
  {
   "cell_type": "code",
   "execution_count": 25,
   "metadata": {},
   "outputs": [
    {
     "name": "stdout",
     "output_type": "stream",
     "text": [
      "a    0\n",
      "c    2\n",
      "e    4\n",
      "dtype: int64\n",
      "a    0\n",
      "e    4\n",
      "dtype: int64\n"
     ]
    }
   ],
   "source": [
    "# 不连续索引\n",
    "print(ser_obj[[0, 2, 4]])\n",
    "print(ser_obj[['a', 'e']])"
   ]
  },
  {
   "cell_type": "code",
   "execution_count": 27,
   "metadata": {},
   "outputs": [
    {
     "name": "stdout",
     "output_type": "stream",
     "text": [
      "a    False\n",
      "b    False\n",
      "c    False\n",
      "d     True\n",
      "e     True\n",
      "dtype: bool\n",
      "d    3\n",
      "e    4\n",
      "dtype: int64\n"
     ]
    }
   ],
   "source": [
    "# 布尔索引\n",
    "ser_bool = ser_obj > 2\n",
    "print(ser_bool)\n",
    "print(ser_obj[ser_bool])\n",
    "\n",
    "print(ser_obj[ser_obj > 2])"
   ]
  },
  {
   "cell_type": "markdown",
   "metadata": {},
   "source": [
    "4 DataFrame索引"
   ]
  },
  {
   "cell_type": "code",
   "execution_count": 28,
   "metadata": {},
   "outputs": [
    {
     "name": "stdout",
     "output_type": "stream",
     "text": [
      "          a         b         c         d\n",
      "0  0.225104  1.132709 -0.471022 -0.643019\n",
      "1  0.585854  0.531636 -0.878193 -1.164023\n",
      "2 -0.142668  0.249212 -1.943639 -0.088296\n",
      "3 -1.241169 -0.591751 -1.651144 -0.414432\n",
      "4 -2.501371 -1.327262 -0.842330  0.787456\n"
     ]
    }
   ],
   "source": [
    "import numpy as np\n",
    "df_obj = pd.DataFrame(np.random.randn(5,4), columns = ['a', 'b', 'c', 'd'])\n",
    "print(df_obj.head())"
   ]
  },
  {
   "cell_type": "code",
   "execution_count": 29,
   "metadata": {},
   "outputs": [
    {
     "name": "stdout",
     "output_type": "stream",
     "text": [
      "0    0.225104\n",
      "1    0.585854\n",
      "2   -0.142668\n",
      "3   -1.241169\n",
      "4   -2.501371\n",
      "Name: a, dtype: float64\n",
      "          a\n",
      "0  0.225104\n",
      "1  0.585854\n",
      "2 -0.142668\n",
      "3 -1.241169\n",
      "4 -2.501371\n",
      "<class 'pandas.core.frame.DataFrame'>\n"
     ]
    }
   ],
   "source": [
    "# 列索引\n",
    "print(df_obj['a']) # 返回Series类型\n",
    "print(df_obj[['a']]) # 返回DataFrame类型\n",
    "print(type(df_obj[['a']])) # 返回DataFrame类型"
   ]
  },
  {
   "cell_type": "markdown",
   "metadata": {},
   "source": [
    "1. loc 标签索引"
   ]
  },
  {
   "cell_type": "code",
   "execution_count": 32,
   "metadata": {},
   "outputs": [
    {
     "name": "stdout",
     "output_type": "stream",
     "text": [
      "a    0\n",
      "b    1\n",
      "c    2\n",
      "d    3\n",
      "e    4\n",
      "dtype: int64\n",
      "b    1\n",
      "c    2\n",
      "d    3\n",
      "dtype: int64\n",
      "b    1\n",
      "c    2\n",
      "d    3\n",
      "dtype: int64\n",
      "--------------------------------------------------\n",
      "          d         c         b         a\n",
      "a  0.033627 -1.572583 -1.535743 -0.265931\n",
      "b -0.146802  0.465424  0.505809  1.419783\n",
      "c -1.307219  0.168669 -0.894520 -0.230823\n",
      "d -0.612038 -2.578586 -0.328087 -0.050457\n",
      "e  0.697292 -0.312573  2.185076  0.507738\n",
      "--------------------------------------------------\n",
      "a   -0.265931\n",
      "b    1.419783\n",
      "c   -0.230823\n",
      "d   -0.050457\n",
      "e    0.507738\n",
      "Name: a, dtype: float64\n",
      "--------------------------------------------------\n",
      "d    0.033627\n",
      "c   -1.572583\n",
      "b   -1.535743\n",
      "a   -0.265931\n",
      "Name: a, dtype: float64\n",
      "--------------------------------------------------\n",
      "          d         c         b\n",
      "a  0.033627 -1.572583 -1.535743\n",
      "b -0.146802  0.465424  0.505809\n",
      "c -1.307219  0.168669 -0.894520\n"
     ]
    }
   ],
   "source": [
    "# 标签索引 loc\n",
    "# Series\n",
    "print(ser_obj)\n",
    "print(ser_obj['b':'d'])\n",
    "print(ser_obj.loc['b':'d'])\n",
    "\n",
    "# DataFrame\n",
    "print('-'*50)\n",
    "df_obj = pd.DataFrame(np.random.randn(5,4), columns = list('dcba'),index=list('abcde'))\n",
    "print(df_obj)\n",
    "print('-'*50)\n",
    "print(df_obj['a'])  #建议不用\n",
    "print('-'*50)\n",
    "print(df_obj.loc['a'])  #拿的是行\n",
    "print('-'*50)\n",
    "# 第一个参数索引行，第二个参数是列,loc或者iloc效率高于直接用取下标的方式，前闭后闭\n",
    "print(df_obj.loc['a':'c', 'd':'b'])"
   ]
  },
  {
   "cell_type": "markdown",
   "metadata": {},
   "source": [
    "iloc 位置索引"
   ]
  },
  {
   "cell_type": "code",
   "execution_count": 34,
   "metadata": {},
   "outputs": [
    {
     "name": "stdout",
     "output_type": "stream",
     "text": [
      "b    1\n",
      "c    2\n",
      "dtype: int64\n",
      "b    1\n",
      "c    2\n",
      "dtype: int64\n",
      "          d         c\n",
      "a  0.033627 -1.572583\n",
      "b -0.146802  0.465424\n"
     ]
    }
   ],
   "source": [
    "# Series\n",
    "print(ser_obj[1:3])\n",
    "print(ser_obj.iloc[1:3])\n",
    "\n",
    "# DataFrame，iloc是前闭后开[)\n",
    "print(df_obj.iloc[0:2, 0:2]) # 注意和df_obj.loc[0:2, 'a']的区别"
   ]
  },
  {
   "cell_type": "markdown",
   "metadata": {},
   "source": [
    "# 5.对齐运算"
   ]
  },
  {
   "cell_type": "code",
   "execution_count": 35,
   "metadata": {},
   "outputs": [
    {
     "name": "stdout",
     "output_type": "stream",
     "text": [
      "s1+s2: \n",
      "0    30.0\n",
      "1    32.0\n",
      "2    34.0\n",
      "3    36.0\n",
      "4    38.0\n",
      "5     NaN\n",
      "6     NaN\n",
      "7     NaN\n",
      "8     NaN\n",
      "9     NaN\n",
      "dtype: float64\n",
      "--------------------------------------------------\n",
      "0    30.0\n",
      "1    32.0\n",
      "2    34.0\n",
      "3    36.0\n",
      "4    38.0\n",
      "5    15.0\n",
      "6    16.0\n",
      "7    17.0\n",
      "8    18.0\n",
      "9    19.0\n",
      "dtype: float64\n"
     ]
    }
   ],
   "source": [
    "s1 = pd.Series(range(10, 20), index = range(10))\n",
    "s2 = pd.Series(range(20, 25), index = range(5))\n",
    "# Series 对齐运算\n",
    "print('s1+s2: ')\n",
    "print(s1+s2)\n",
    "print('-'*50)\n",
    "print(s1.add(s2, fill_value = 0))  #未对齐的数据将和填充值做运算"
   ]
  },
  {
   "cell_type": "code",
   "execution_count": 37,
   "metadata": {},
   "outputs": [
    {
     "name": "stdout",
     "output_type": "stream",
     "text": [
      "     a    b   c\n",
      "0  0.0  0.0 NaN\n",
      "1  0.0  0.0 NaN\n",
      "2  NaN  NaN NaN\n",
      "     a    b    c\n",
      "0  0.0  0.0  1.0\n",
      "1  0.0  0.0  1.0\n",
      "2  1.0  1.0  1.0\n"
     ]
    }
   ],
   "source": [
    "df1 = pd.DataFrame(np.ones((2,2)), columns = ['a', 'b'])\n",
    "df2 = pd.DataFrame(np.ones((3,3)), columns = ['a', 'b', 'c'])\n",
    "print(df1-df2)\n",
    "print(df1.sub(df2, fill_value = 2.)) #未对齐的数据将和填充值做运算"
   ]
  },
  {
   "cell_type": "markdown",
   "metadata": {},
   "source": [
    "# 6 Pandas的函数应用"
   ]
  },
  {
   "cell_type": "code",
   "execution_count": 38,
   "metadata": {},
   "outputs": [
    {
     "name": "stdout",
     "output_type": "stream",
     "text": [
      "          0         1         2         3\n",
      "0 -1.122093 -1.531709 -4.486410 -1.966800\n",
      "1 -0.675911 -2.384364 -2.135027  0.589423\n",
      "2  0.629578 -1.451464 -0.831037 -1.473741\n",
      "3 -0.663693 -2.103721 -0.847074 -1.107985\n",
      "4 -0.581834  0.213158  0.663797 -1.303591\n",
      "          0         1         2         3\n",
      "0  1.122093  1.531709  4.486410  1.966800\n",
      "1  0.675911  2.384364  2.135027  0.589423\n",
      "2  0.629578  1.451464  0.831037  1.473741\n",
      "3  0.663693  2.103721  0.847074  1.107985\n",
      "4  0.581834  0.213158  0.663797  1.303591\n"
     ]
    }
   ],
   "source": [
    "# Numpy ufunc 函数\n",
    "df = pd.DataFrame(np.random.randn(5,4) - 1)\n",
    "print(df)\n",
    "\n",
    "print(np.abs(df))"
   ]
  },
  {
   "cell_type": "code",
   "execution_count": 39,
   "metadata": {},
   "outputs": [
    {
     "name": "stdout",
     "output_type": "stream",
     "text": [
      "0    0.629578\n",
      "1    0.213158\n",
      "2    0.663797\n",
      "3    0.589423\n",
      "dtype: float64\n"
     ]
    }
   ],
   "source": [
    "#apply作用在列上\n",
    "print(df.apply(lambda x : x.max()))"
   ]
  },
  {
   "cell_type": "code",
   "execution_count": 40,
   "metadata": {},
   "outputs": [
    {
     "name": "stdout",
     "output_type": "stream",
     "text": [
      "0   -1.122093\n",
      "1    0.589423\n",
      "2    0.629578\n",
      "3   -0.663693\n",
      "4    0.663797\n",
      "dtype: float64\n"
     ]
    }
   ],
   "source": [
    "#apply作用在行上\n",
    "print(df.apply(lambda x : x.max(), axis=1))"
   ]
  },
  {
   "cell_type": "code",
   "execution_count": 42,
   "metadata": {},
   "outputs": [
    {
     "name": "stdout",
     "output_type": "stream",
     "text": [
      "       0      1      2      3\n",
      "0  -1.12  -1.53  -4.49  -1.97\n",
      "1  -0.68  -2.38  -2.14   0.59\n",
      "2   0.63  -1.45  -0.83  -1.47\n",
      "3  -0.66  -2.10  -0.85  -1.11\n",
      "4  -0.58   0.21   0.66  -1.30\n"
     ]
    },
    {
     "data": {
      "text/plain": [
       "0    float64\n",
       "1    float64\n",
       "2    float64\n",
       "3    float64\n",
       "dtype: object"
      ]
     },
     "execution_count": 42,
     "metadata": {},
     "output_type": "execute_result"
    }
   ],
   "source": [
    "# 使用applymap应用到每个数据\n",
    "print(df.applymap(lambda x : '%.2f' % x))\n",
    "df.dtypes"
   ]
  },
  {
   "cell_type": "code",
   "execution_count": 43,
   "metadata": {},
   "outputs": [
    {
     "data": {
      "text/plain": [
       "str"
      ]
     },
     "execution_count": 43,
     "metadata": {},
     "output_type": "execute_result"
    }
   ],
   "source": [
    "type('%.2f' % 1.3456)"
   ]
  },
  {
   "cell_type": "markdown",
   "metadata": {},
   "source": [
    "4 索引排序"
   ]
  },
  {
   "cell_type": "code",
   "execution_count": 44,
   "metadata": {},
   "outputs": [
    {
     "name": "stdout",
     "output_type": "stream",
     "text": [
      "1    10\n",
      "1    11\n",
      "0    12\n",
      "4    13\n",
      "0    14\n",
      "dtype: int64\n"
     ]
    },
    {
     "data": {
      "text/plain": [
       "0    12\n",
       "0    14\n",
       "1    10\n",
       "1    11\n",
       "4    13\n",
       "dtype: int64"
      ]
     },
     "execution_count": 44,
     "metadata": {},
     "output_type": "execute_result"
    }
   ],
   "source": [
    "# Series\n",
    "s4 = pd.Series(range(10, 15), index = np.random.randint(5, size=5))\n",
    "print(s4)\n",
    "\n",
    "# 索引排序\n",
    "s4.sort_index() # 0 0 1 3 3\n"
   ]
  },
  {
   "cell_type": "code",
   "execution_count": 50,
   "metadata": {},
   "outputs": [
    {
     "name": "stdout",
     "output_type": "stream",
     "text": [
      "          0         4         0         0         4\n",
      "0  0.484940  0.347232 -0.883500 -1.235112  0.731981\n",
      "4  0.886071  1.009970  0.852811 -1.099766 -3.342582\n",
      "4  1.457941  2.773634  0.462293  0.093666  0.081000\n",
      "4 -0.351715  1.308135  0.030739 -2.866826  1.295430\n",
      "1  0.302127 -0.233007 -0.065025 -2.443754 -0.925183\n",
      "          0         4         0         0         4\n",
      "4  0.886071  1.009970  0.852811 -1.099766 -3.342582\n",
      "4  1.457941  2.773634  0.462293  0.093666  0.081000\n",
      "4 -0.351715  1.308135  0.030739 -2.866826  1.295430\n",
      "1  0.302127 -0.233007 -0.065025 -2.443754 -0.925183\n",
      "0  0.484940  0.347232 -0.883500 -1.235112  0.731981\n",
      "          4         4         0         0         0\n",
      "0  0.347232  0.731981  0.484940 -0.883500 -1.235112\n",
      "4  1.009970 -3.342582  0.886071  0.852811 -1.099766\n",
      "4  2.773634  0.081000  1.457941  0.462293  0.093666\n",
      "4  1.308135  1.295430 -0.351715  0.030739 -2.866826\n",
      "1 -0.233007 -0.925183  0.302127 -0.065025 -2.443754\n"
     ]
    }
   ],
   "source": [
    "# DataFrame\n",
    "df4 = pd.DataFrame(np.random.randn(5, 5), \n",
    "                   index=np.random.randint(5, size=5),\n",
    "                   columns=np.random.randint(5, size=5))\n",
    "print(df4)\n",
    "\n",
    "df4_isort = df4.sort_index(axis=0, ascending=False)\n",
    "print(df4_isort) \n",
    "df4_isort = df4.sort_index(axis=1, ascending=False)\n",
    "print(df4_isort) "
   ]
  },
  {
   "cell_type": "markdown",
   "metadata": {},
   "source": [
    "5  按值排序"
   ]
  },
  {
   "cell_type": "code",
   "execution_count": 55,
   "metadata": {},
   "outputs": [
    {
     "name": "stdout",
     "output_type": "stream",
     "text": [
      "[[ 2 68 63 22]\n",
      " [81 15 31 72]\n",
      " [44 75 41 76]\n",
      " [56 10 54 67]\n",
      " [85 63 93 26]\n",
      " [47 75 19 57]]\n",
      "--------------------------------------------------\n",
      "    0   1   2   3\n",
      "0   2  68  63  22\n",
      "1  81  15  31  72\n",
      "2  44  75  41  76\n",
      "3  56  10  54  67\n",
      "4  85  63  93  26\n",
      "5  47  75  19  57\n",
      "--------------------------------------------------\n",
      "    0   1   2   3\n",
      "2  44  75  41  76\n",
      "1  81  15  31  72\n",
      "3  56  10  54  67\n",
      "5  47  75  19  57\n",
      "4  85  63  93  26\n",
      "0   2  68  63  22\n",
      "    3   0   2   1\n",
      "0  22   2  63  68\n",
      "1  72  81  31  15\n",
      "2  76  44  41  75\n",
      "3  67  56  54  10\n",
      "4  26  85  93  63\n",
      "5  57  47  19  75\n"
     ]
    }
   ],
   "source": [
    "# 按值排序,by后是column的值\n",
    "import random\n",
    "l=[random.randint(0,100) for i in range(24)]\n",
    "df4 = pd.DataFrame(np.array(l).reshape(6,4))\n",
    "print(df4.values)\n",
    "print('-'*50)\n",
    "print(df4)\n",
    "print('-'*50)\n",
    "df4_vsort = df4.sort_values(by=3,axis=0, ascending=False) #寻找的是columns里的3\n",
    "print(df4_vsort)\n",
    "df4_vsort = df4.sort_values(by=3,axis=1, ascending=False) #寻找的是index里的3\n",
    "print(df4_vsort)"
   ]
  },
  {
   "cell_type": "markdown",
   "metadata": {},
   "source": [
    "6 处理缺失数据"
   ]
  },
  {
   "cell_type": "code",
   "execution_count": 56,
   "metadata": {},
   "outputs": [
    {
     "name": "stdout",
     "output_type": "stream",
     "text": [
      "          0         1         2\n",
      "0 -0.901704  1.464022  0.425857\n",
      "1  1.000000  2.000000       NaN\n",
      "2       NaN  4.000000       NaN\n",
      "3  1.000000  2.000000  3.000000\n"
     ]
    }
   ],
   "source": [
    "df_data = pd.DataFrame([np.random.randn(3), [1., 2., np.nan],\n",
    "                       [np.nan, 4., np.nan], [1., 2., 3.]])\n",
    "print(df_data.head())"
   ]
  },
  {
   "cell_type": "code",
   "execution_count": 57,
   "metadata": {},
   "outputs": [
    {
     "name": "stdout",
     "output_type": "stream",
     "text": [
      "       0      1      2\n",
      "0  False  False  False\n",
      "1  False  False   True\n",
      "2   True  False   True\n",
      "3  False  False  False\n"
     ]
    }
   ],
   "source": [
    "print(df_data.isnull())"
   ]
  },
  {
   "cell_type": "code",
   "execution_count": 90,
   "metadata": {},
   "outputs": [
    {
     "name": "stdout",
     "output_type": "stream",
     "text": [
      "          0         1         2\n",
      "0 -0.291587  1.159255  0.473379\n",
      "3  1.000000  2.000000  3.000000\n"
     ]
    }
   ],
   "source": [
    "print(df_data.dropna())"
   ]
  },
  {
   "cell_type": "code",
   "execution_count": 93,
   "metadata": {},
   "outputs": [
    {
     "name": "stdout",
     "output_type": "stream",
     "text": [
      "          1\n",
      "0  1.159255\n",
      "1  2.000000\n",
      "2  4.000000\n",
      "3  2.000000\n"
     ]
    }
   ],
   "source": [
    "print(df_data.dropna(axis=1))  #某列由nan就删除该列"
   ]
  },
  {
   "cell_type": "code",
   "execution_count": 60,
   "metadata": {},
   "outputs": [
    {
     "name": "stdout",
     "output_type": "stream",
     "text": [
      "0     -0.901704\n",
      "1      1.000000\n",
      "2   -100.000000\n",
      "3      1.000000\n",
      "Name: 0, dtype: float64\n"
     ]
    }
   ],
   "source": [
    "print(df_data.iloc[:,0].fillna(-100.))"
   ]
  },
  {
   "cell_type": "code",
   "execution_count": 58,
   "metadata": {},
   "outputs": [
    {
     "name": "stdout",
     "output_type": "stream",
     "text": [
      "0\n",
      "1\n",
      "2\n"
     ]
    }
   ],
   "source": [
    "for i in df_data.columns:\n",
    "    print(i)"
   ]
  },
  {
   "cell_type": "markdown",
   "metadata": {},
   "source": [
    "# 7 层级索引（hierarchical indexing）"
   ]
  },
  {
   "cell_type": "code",
   "execution_count": 61,
   "metadata": {},
   "outputs": [
    {
     "name": "stdout",
     "output_type": "stream",
     "text": [
      "cloth  size\n",
      "a      0      -0.740675\n",
      "       1      -0.638298\n",
      "       2      -1.269579\n",
      "b      0       0.318349\n",
      "       1       1.341148\n",
      "       2       0.095056\n",
      "c      0      -1.566352\n",
      "       1      -0.155037\n",
      "       2       0.085464\n",
      "d      0       0.370332\n",
      "       1       0.535439\n",
      "       2       0.530577\n",
      "dtype: float64\n",
      "<class 'pandas.core.series.Series'>\n",
      "<class 'pandas.core.indexes.multi.MultiIndex'>\n",
      "MultiIndex([('a', 0),\n",
      "            ('a', 1),\n",
      "            ('a', 2),\n",
      "            ('b', 0),\n",
      "            ('b', 1),\n",
      "            ('b', 2),\n",
      "            ('c', 0),\n",
      "            ('c', 1),\n",
      "            ('c', 2),\n",
      "            ('d', 0),\n",
      "            ('d', 1),\n",
      "            ('d', 2)],\n",
      "           names=['cloth', 'size'])\n",
      "[['a', 'b', 'c', 'd'], [0, 1, 2]]\n"
     ]
    },
    {
     "data": {
      "text/plain": [
       "FrozenList([[0, 0, 0, 1, 1, 1, 2, 2, 2, 3, 3, 3], [0, 1, 2, 0, 1, 2, 0, 1, 2, 0, 1, 2]])"
      ]
     },
     "execution_count": 61,
     "metadata": {},
     "output_type": "execute_result"
    }
   ],
   "source": [
    "import pandas as pd\n",
    "import numpy as np\n",
    "\n",
    "index1 = pd.MultiIndex.from_arrays([['a', 'a', 'a', 'b', 'b', 'b', 'c', 'c', 'c', 'd', 'd', 'd'],\n",
    "                [0, 1, 2, 0, 1, 2, 0, 1, 2, 0, 1, 2]], names=['cloth', 'size'])\n",
    "\n",
    "ser_obj = pd.Series(np.random.randn(12),index=index1)\n",
    "print(ser_obj)\n",
    "print(type(ser_obj))\n",
    "print(type(ser_obj.index))\n",
    "print(ser_obj.index)\n",
    "print(ser_obj.index.levels)\n",
    "ser_obj.index.codes\n"
   ]
  },
  {
   "cell_type": "code",
   "execution_count": 21,
   "metadata": {},
   "outputs": [
    {
     "name": "stdout",
     "output_type": "stream",
     "text": [
      "cloth  size\n",
      "a      0      -0.793319\n",
      "       1      -0.638436\n",
      "       2      -0.770086\n",
      "b      0       0.264141\n",
      "       1      -0.650348\n",
      "       2      -1.903459\n",
      "c      0      -0.707571\n",
      "       1      -1.307964\n",
      "       2       1.821022\n",
      "d      0      -0.347408\n",
      "       1      -0.536774\n",
      "       2       1.545533\n",
      "dtype: float64\n",
      "--------------------------------------------------\n",
      "size\n",
      "0   -0.707571\n",
      "1   -1.307964\n",
      "2    1.821022\n",
      "dtype: float64\n",
      "--------------------------------------------------\n",
      "-0.770085956639031\n",
      "--------------------------------------------------\n",
      "cloth\n",
      "a   -0.770086\n",
      "b   -1.903459\n",
      "c    1.821022\n",
      "d    1.545533\n",
      "dtype: float64\n"
     ]
    }
   ],
   "source": [
    "#层级索引如何取数据\n",
    "print(ser_obj) \n",
    "print('-'*50)\n",
    "print(ser_obj['c'])\n",
    "print('-'*50)\n",
    "print(ser_obj['a', 2])\n",
    "print('-'*50)\n",
    "print(ser_obj[:, 2])"
   ]
  },
  {
   "cell_type": "code",
   "execution_count": 71,
   "metadata": {},
   "outputs": [
    {
     "name": "stdout",
     "output_type": "stream",
     "text": [
      "cloth  size\n",
      "a      0      -0.740675\n",
      "       1      -0.638298\n",
      "       2      -1.269579\n",
      "b      0       0.318349\n",
      "       1       1.341148\n",
      "       2       0.095056\n",
      "c      0      -1.566352\n",
      "       1      -0.155037\n",
      "       2       0.085464\n",
      "d      0       0.370332\n",
      "       1       0.535439\n",
      "       2       0.530577\n",
      "dtype: float64\n",
      "--------------------------------------------------\n",
      "size  cloth\n",
      "0     a       -0.740675\n",
      "1     a       -0.638298\n",
      "2     a       -1.269579\n",
      "0     b        0.318349\n",
      "1     b        1.341148\n",
      "2     b        0.095056\n",
      "0     c       -1.566352\n",
      "1     c       -0.155037\n",
      "2     c        0.085464\n",
      "0     d        0.370332\n",
      "1     d        0.535439\n",
      "2     d        0.530577\n",
      "dtype: float64\n",
      "size  cloth\n",
      "0     a       -0.740675\n",
      "      b        0.318349\n",
      "      c       -1.566352\n",
      "      d        0.370332\n",
      "1     a       -0.638298\n",
      "      b        1.341148\n",
      "      c       -0.155037\n",
      "      d        0.535439\n",
      "2     a       -1.269579\n",
      "      b        0.095056\n",
      "      c        0.085464\n",
      "      d        0.530577\n",
      "dtype: float64\n",
      "size          0         1         2\n",
      "cloth                              \n",
      "a     -0.740675 -0.638298 -1.269579\n",
      "b      0.318349  1.341148  0.095056\n",
      "c     -1.566352 -0.155037  0.085464\n",
      "d      0.370332  0.535439  0.530577\n"
     ]
    }
   ],
   "source": [
    "print(ser_obj.swaplevel())\n",
    "print('-'*50)\n",
    "\n",
    "# ser_obj=ser_obj.swaplevel()\n",
    "print(ser_obj)\n",
    "print(ser_obj.sort_index(level=0))  #层级索引按那个索引级别排序\n",
    "df_obj=ser_obj.unstack(0)  #unstack可以放索引名，或者索引位置\n",
    "print(df_obj)\n"
   ]
  },
  {
   "cell_type": "code",
   "execution_count": 72,
   "metadata": {},
   "outputs": [
    {
     "data": {
      "text/plain": [
       "cloth  size\n",
       "a      0      -0.740675\n",
       "       1      -0.638298\n",
       "       2      -1.269579\n",
       "b      0       0.318349\n",
       "       1       1.341148\n",
       "       2       0.095056\n",
       "c      0      -1.566352\n",
       "       1      -0.155037\n",
       "       2       0.085464\n",
       "d      0       0.370332\n",
       "       1       0.535439\n",
       "       2       0.530577\n",
       "dtype: float64"
      ]
     },
     "execution_count": 72,
     "metadata": {},
     "output_type": "execute_result"
    }
   ],
   "source": [
    "df_obj.stack()  #stack变为series和unstack保持一致的"
   ]
  },
  {
   "cell_type": "markdown",
   "metadata": {},
   "source": [
    "# 8 Pandas统计计算和描述"
   ]
  },
  {
   "cell_type": "code",
   "execution_count": 76,
   "metadata": {},
   "outputs": [
    {
     "name": "stdout",
     "output_type": "stream",
     "text": [
      "size          0         1         2   b\n",
      "cloth                                  \n",
      "a     -0.740675 -0.638298 -1.269579 NaN\n",
      "b      0.318349  1.341148  0.095056 NaN\n",
      "c     -1.566352 -0.155037  0.085464 NaN\n",
      "d      0.370332  0.535439  0.530577 NaN\n",
      "0           NaN       NaN       NaN NaN\n",
      "size          0         1         2   b\n",
      "cloth                                  \n",
      "a     -0.740675 -0.638298 -1.269579 NaN\n",
      "b      0.318349  1.341148  0.095056 NaN\n",
      "c     -1.566352 -0.155037  0.085464 NaN\n",
      "d      0.370332  0.535439  0.530577 NaN\n",
      "0           NaN       NaN       NaN NaN\n",
      "--------------------------------------------------\n",
      "cloth\n",
      "a   -1.269579\n",
      "b    0.095056\n",
      "c   -1.566352\n",
      "d    0.370332\n",
      "0         NaN\n",
      "dtype: float64\n",
      "--------------------------------------------------\n",
      "size          0         1         2    b\n",
      "count  4.000000  4.000000  4.000000  0.0\n",
      "mean  -0.404586  0.270813 -0.139620  NaN\n",
      "std    0.928402  0.860905  0.781389  NaN\n",
      "min   -1.566352 -0.638298 -1.269579  NaN\n",
      "25%   -0.947094 -0.275853 -0.253297  NaN\n",
      "50%   -0.211163  0.190201  0.090260  NaN\n",
      "75%    0.331345  0.736866  0.203936  NaN\n",
      "max    0.370332  1.341148  0.530577  NaN\n"
     ]
    }
   ],
   "source": [
    "print(df_obj)\n",
    "df_obj.loc[0,'b']=np.nan\n",
    "print(df_obj)\n",
    "print('-'*50)\n",
    "print(df_obj.min(axis=1, skipna=True))\n",
    "print('-'*50)\n",
    "print(df_obj.describe())"
   ]
  },
  {
   "cell_type": "code",
   "execution_count": 82,
   "metadata": {},
   "outputs": [
    {
     "data": {
      "text/plain": [
       "size\n",
       "0   -1.566352\n",
       "1   -0.155037\n",
       "2    0.085464\n",
       "b         NaN\n",
       "Name: c, dtype: float64"
      ]
     },
     "execution_count": 82,
     "metadata": {},
     "output_type": "execute_result"
    }
   ],
   "source": [
    "df_obj.loc['c']"
   ]
  },
  {
   "cell_type": "code",
   "execution_count": 83,
   "metadata": {},
   "outputs": [
    {
     "name": "stdout",
     "output_type": "stream",
     "text": [
      "0\n"
     ]
    }
   ],
   "source": [
    "#计算最小值或者最大值的索引的位置\n",
    "print(df_obj.loc['c'].argmin())#argmin和argmax只能是series，不能是df"
   ]
  },
  {
   "cell_type": "code",
   "execution_count": null,
   "metadata": {},
   "outputs": [],
   "source": []
  },
  {
   "cell_type": "code",
   "execution_count": 85,
   "metadata": {},
   "outputs": [
    {
     "data": {
      "text/plain": [
       "cloth\n",
       "a    2.0\n",
       "b    2.0\n",
       "c    0.0\n",
       "d    0.0\n",
       "0    NaN\n",
       "dtype: float64"
      ]
     },
     "execution_count": 85,
     "metadata": {},
     "output_type": "execute_result"
    }
   ],
   "source": [
    "df_obj.idxmin(axis=1)  #计算最小值或者最大值的索引值"
   ]
  },
  {
   "cell_type": "code",
   "execution_count": 91,
   "metadata": {},
   "outputs": [
    {
     "name": "stdout",
     "output_type": "stream",
     "text": [
      "<class 'pandas.core.frame.DataFrame'>\n",
      "RangeIndex: 1000 entries, 0 to 999\n",
      "Data columns (total 12 columns):\n",
      " #   Column              Non-Null Count  Dtype  \n",
      "---  ------              --------------  -----  \n",
      " 0   Rank                1000 non-null   int64  \n",
      " 1   Title               1000 non-null   object \n",
      " 2   Genre               1000 non-null   object \n",
      " 3   Description         1000 non-null   object \n",
      " 4   Director            1000 non-null   object \n",
      " 5   Actors              1000 non-null   object \n",
      " 6   Year                1000 non-null   int64  \n",
      " 7   Runtime (Minutes)   1000 non-null   int64  \n",
      " 8   Rating              1000 non-null   float64\n",
      " 9   Votes               1000 non-null   int64  \n",
      " 10  Revenue (Millions)  872 non-null    float64\n",
      " 11  Metascore           936 non-null    float64\n",
      "dtypes: float64(3), int64(4), object(5)\n",
      "memory usage: 93.9+ KB\n",
      "None\n",
      "              Rank         Year  Runtime (Minutes)       Rating         Votes  \\\n",
      "count  1000.000000  1000.000000        1000.000000  1000.000000  1.000000e+03   \n",
      "mean    500.500000  2012.783000         113.172000     6.723200  1.698083e+05   \n",
      "std     288.819436     3.205962          18.810908     0.945429  1.887626e+05   \n",
      "min       1.000000  2006.000000          66.000000     1.900000  6.100000e+01   \n",
      "25%     250.750000  2010.000000         100.000000     6.200000  3.630900e+04   \n",
      "50%     500.500000  2014.000000         111.000000     6.800000  1.107990e+05   \n",
      "75%     750.250000  2016.000000         123.000000     7.400000  2.399098e+05   \n",
      "max    1000.000000  2016.000000         191.000000     9.000000  1.791916e+06   \n",
      "\n",
      "       Revenue (Millions)   Metascore  \n",
      "count          872.000000  936.000000  \n",
      "mean            82.956376   58.985043  \n",
      "std            103.253540   17.194757  \n",
      "min              0.000000   11.000000  \n",
      "25%             13.270000   47.000000  \n",
      "50%             47.985000   59.500000  \n",
      "75%            113.715000   72.000000  \n",
      "max            936.630000  100.000000  \n",
      "644\n",
      "644\n",
      "2015\n",
      "125\n",
      "--------------------------------------------------\n"
     ]
    },
    {
     "data": {
      "image/png": "[encoded data removed]",
      "text/plain": [
       "<Figure size 1600x640 with 1 Axes>"
      ]
     },
     "metadata": {
      "needs_background": "light"
     },
     "output_type": "display_data"
    }
   ],
   "source": [
    "import pandas as pd\n",
    "import numpy as np\n",
    "from matplotlib import pyplot as plt\n",
    "\n",
    "file_path = \"IMDB-Movie-Data.csv\"\n",
    "df = pd.read_csv(file_path)\n",
    "# 打印数据信息\n",
    "print(df.info())\n",
    "print(df.describe())\n",
    "# print(df.head(1))\n",
    "\n",
    "# # 获取平均评分\n",
    "# print(df[\"Rating\"].mean())\n",
    "\n",
    "# 导演的人数\n",
    "print(len(set(df[\"Director\"].tolist())))\n",
    "print(len(df[\"Director\"].unique()))\n",
    "\n",
    "# # 获取演员的人数\n",
    "temp_actors_list = df[\"Actors\"].str.split(\", \").tolist()  #二维列表\n",
    "# print(temp_actors_list)\n",
    "actors_list = [i for j in temp_actors_list for i in j]  #二维展为一维\n",
    "actors_num = len(set(actors_list))\n",
    "print(actors_num)\n",
    "\n",
    "# rating,runtime分布情况\n",
    "# 选择图形，直方图\n",
    "# 准备数据\n",
    "runtime_data = df[\"Runtime (Minutes)\"].values\n",
    "\n",
    "max_runtime = runtime_data.max()\n",
    "min_runtime = runtime_data.min()\n",
    "\n",
    "# 计算组数\n",
    "print(max_runtime - min_runtime)\n",
    "print('-'*50)\n",
    "num_bin = (max_runtime - min_runtime) // 5\n",
    "\n",
    "# 设置图形的大小\n",
    "plt.figure(figsize=(20, 8), dpi=80)\n",
    "# 第二个bins参数必须为int或sequence或str，bins代表划分为多少个单元\n",
    "plt.hist(runtime_data, int(num_bin))\n",
    "\n",
    "plt.xticks(range(min_runtime, max_runtime + 5, 5))\n",
    "\n",
    "plt.show()"
   ]
  },
  {
   "cell_type": "code",
   "execution_count": 3,
   "metadata": {},
   "outputs": [
    {
     "name": "stdout",
     "output_type": "stream",
     "text": [
      "0     Action,Adventure,Sci-Fi\n",
      "1    Adventure,Mystery,Sci-Fi\n",
      "2             Horror,Thriller\n",
      "Name: Genre, dtype: object\n",
      "20\n",
      "     Horror  Drama  Fantasy  Biography  Mystery  Action  Music  Thriller  \\\n",
      "0       0.0    0.0      0.0        0.0      0.0     0.0    0.0       0.0   \n",
      "1       0.0    0.0      0.0        0.0      0.0     0.0    0.0       0.0   \n",
      "2       0.0    0.0      0.0        0.0      0.0     0.0    0.0       0.0   \n",
      "3       0.0    0.0      0.0        0.0      0.0     0.0    0.0       0.0   \n",
      "4       0.0    0.0      0.0        0.0      0.0     0.0    0.0       0.0   \n",
      "..      ...    ...      ...        ...      ...     ...    ...       ...   \n",
      "995     0.0    0.0      0.0        0.0      0.0     0.0    0.0       0.0   \n",
      "996     0.0    0.0      0.0        0.0      0.0     0.0    0.0       0.0   \n",
      "997     0.0    0.0      0.0        0.0      0.0     0.0    0.0       0.0   \n",
      "998     0.0    0.0      0.0        0.0      0.0     0.0    0.0       0.0   \n",
      "999     0.0    0.0      0.0        0.0      0.0     0.0    0.0       0.0   \n",
      "\n",
      "     Family  Sport  Comedy  Western  Adventure  Crime  War  Animation  \\\n",
      "0       0.0    0.0     0.0      0.0        0.0    0.0  0.0        0.0   \n",
      "1       0.0    0.0     0.0      0.0        0.0    0.0  0.0        0.0   \n",
      "2       0.0    0.0     0.0      0.0        0.0    0.0  0.0        0.0   \n",
      "3       0.0    0.0     0.0      0.0        0.0    0.0  0.0        0.0   \n",
      "4       0.0    0.0     0.0      0.0        0.0    0.0  0.0        0.0   \n",
      "..      ...    ...     ...      ...        ...    ...  ...        ...   \n",
      "995     0.0    0.0     0.0      0.0        0.0    0.0  0.0        0.0   \n",
      "996     0.0    0.0     0.0      0.0        0.0    0.0  0.0        0.0   \n",
      "997     0.0    0.0     0.0      0.0        0.0    0.0  0.0        0.0   \n",
      "998     0.0    0.0     0.0      0.0        0.0    0.0  0.0        0.0   \n",
      "999     0.0    0.0     0.0      0.0        0.0    0.0  0.0        0.0   \n",
      "\n",
      "     History  Romance  Sci-Fi  Musical  \n",
      "0        0.0      0.0     0.0      0.0  \n",
      "1        0.0      0.0     0.0      0.0  \n",
      "2        0.0      0.0     0.0      0.0  \n",
      "3        0.0      0.0     0.0      0.0  \n",
      "4        0.0      0.0     0.0      0.0  \n",
      "..       ...      ...     ...      ...  \n",
      "995      0.0      0.0     0.0      0.0  \n",
      "996      0.0      0.0     0.0      0.0  \n",
      "997      0.0      0.0     0.0      0.0  \n",
      "998      0.0      0.0     0.0      0.0  \n",
      "999      0.0      0.0     0.0      0.0  \n",
      "\n",
      "[1000 rows x 20 columns]\n",
      "   Horror  Drama  Fantasy  Biography  Mystery  Action  Music  Thriller  \\\n",
      "0     0.0    0.0      0.0        0.0      0.0     1.0    0.0       0.0   \n",
      "1     0.0    0.0      0.0        0.0      1.0     0.0    0.0       0.0   \n",
      "2     1.0    0.0      0.0        0.0      0.0     0.0    0.0       1.0   \n",
      "\n",
      "   Family  Sport  Comedy  Western  Adventure  Crime  War  Animation  History  \\\n",
      "0     0.0    0.0     0.0      0.0        1.0    0.0  0.0        0.0      0.0   \n",
      "1     0.0    0.0     0.0      0.0        1.0    0.0  0.0        0.0      0.0   \n",
      "2     0.0    0.0     0.0      0.0        0.0    0.0  0.0        0.0      0.0   \n",
      "\n",
      "   Romance  Sci-Fi  Musical  \n",
      "0      0.0     1.0      0.0  \n",
      "1      0.0     1.0      0.0  \n",
      "2      0.0     0.0      0.0  \n",
      "Horror       119.0\n",
      "Drama        513.0\n",
      "Fantasy      101.0\n",
      "Biography     81.0\n",
      "Mystery      106.0\n",
      "Action       303.0\n",
      "Music         16.0\n",
      "Thriller     195.0\n",
      "Family        51.0\n",
      "Sport         18.0\n",
      "Comedy       279.0\n",
      "Western        7.0\n",
      "Adventure    259.0\n",
      "Crime        150.0\n",
      "War           13.0\n",
      "Animation     49.0\n",
      "History       29.0\n",
      "Romance      141.0\n",
      "Sci-Fi       120.0\n",
      "Musical        5.0\n",
      "dtype: float64\n"
     ]
    },
    {
     "data": {
      "image/png": "[encoded data removed]",
      "text/plain": [
       "<Figure size 1600x640 with 1 Axes>"
      ]
     },
     "metadata": {
      "needs_background": "light"
     },
     "output_type": "display_data"
    }
   ],
   "source": [
    "import pandas as pd\n",
    "from matplotlib import pyplot as plt\n",
    "import numpy as np\n",
    "\n",
    "file_path = \"./IMDB-Movie-Data.csv\"\n",
    "\n",
    "df = pd.read_csv(file_path)\n",
    "print(df[\"Genre\"].head(3))\n",
    "# 统计分类的列表\n",
    "temp_list = df[\"Genre\"].str.split(\",\").tolist()  # [[],[],[]]\n",
    "\n",
    "genre_list = list(set([i for j in temp_list for i in j]))\n",
    "print(len(genre_list))\n",
    "# 构造全为0的数组\n",
    "zeros_df = pd.DataFrame(np.zeros((df.shape[0], len(genre_list))), columns=genre_list)\n",
    "print(zeros_df)\n",
    "\n",
    "# 给每个电影出现分类的位置赋值1\n",
    "for i in range(df.shape[0]):\n",
    "    # zeros_df.loc[0,[\"Sci-fi\",\"Mucical\"]] = 1\n",
    "    zeros_df.loc[i, temp_list[i]] = 1\n",
    "\n",
    "print(zeros_df.head(3))\n",
    "\n",
    "# 统计每个分类的电影的数量和，genre_count是什么类型？\n",
    "genre_count = zeros_df.sum(axis=0)\n",
    "print(genre_count)\n",
    "\n",
    "# 排序\n",
    "genre_count = genre_count.sort_values()\n",
    "_x = genre_count.index\n",
    "_y = genre_count.values\n",
    "# 画图\n",
    "plt.figure(figsize=(20, 8), dpi=80)\n",
    "plt.bar(range(len(_x)), _y, width=0.4, color=\"orange\")\n",
    "plt.xticks(range(len(_x)), _x)\n",
    "plt.show()"
   ]
  },
  {
   "cell_type": "markdown",
   "metadata": {},
   "source": [
    "# 9 Pandas分组与聚合"
   ]
  },
  {
   "cell_type": "code",
   "execution_count": 3,
   "metadata": {},
   "outputs": [
    {
     "name": "stdout",
     "output_type": "stream",
     "text": [
      "  key1   key2     data1     data2\n",
      "0    a    one  0.352998 -0.560757\n",
      "1    b    one -0.580653 -0.794972\n",
      "2    a    two  0.715082  1.937192\n",
      "3    b  three -0.058684 -0.047146\n",
      "4    a    two  0.502479  0.366759\n",
      "5    b    two  0.485811 -0.560255\n",
      "6    a    one -0.693075  0.478518\n",
      "7    a  three -1.917709  0.973540\n",
      "<pandas.core.groupby.generic.DataFrameGroupBy object at 0x000001D1B01E1320>\n",
      "pandas.core.groupby.generic.DataFrameGroupBy\n",
      "0    0.352998\n",
      "1   -0.580653\n",
      "2    0.715082\n",
      "3   -0.058684\n",
      "4    0.502479\n",
      "5    0.485811\n",
      "6   -0.693075\n",
      "7   -1.917709\n",
      "Name: data1, dtype: float64\n",
      "pandas.core.groupby.generic.SeriesGroupBy\n",
      "         data1     data2\n",
      "key1                    \n",
      "a    -0.208045  0.639050\n",
      "b    -0.051175 -0.467458\n",
      "key1\n",
      "a   -0.208045\n",
      "b   -0.051175\n",
      "Name: data1, dtype: float64\n"
     ]
    }
   ],
   "source": [
    "import pandas as pd\n",
    "import numpy as np\n",
    "dict_obj = {'key1' : ['a', 'b', 'a', 'b', \n",
    "                      'a', 'b', 'a', 'a'],\n",
    "            'key2' : ['one', 'one', 'two', 'three',\n",
    "                      'two', 'two', 'one', 'three'],\n",
    "            'data1': np.random.randn(8),\n",
    "            'data2': np.random.randn(8)}\n",
    "df_obj = pd.DataFrame(dict_obj)\n",
    "\n",
    "print(df_obj)\n",
    "\n",
    "# dataframe根据key1进行分组，分组后的对象类型\n",
    "print(df_obj.groupby('key1'))\n",
    "print(type(df_obj.groupby('key1')))\n",
    "print('-'*50)\n",
    "print(df_obj['data1'])\n",
    "# dataframe的 data1 列根据 key1 进行分组\n",
    "print(type(df_obj['data1'].groupby(df_obj['key1'])))\n",
    "\n",
    "# 分组运算\n",
    "grouped1 = df_obj.groupby('key1')\n",
    "print(grouped1.mean())\n",
    "\n",
    "grouped2 = df_obj['data1'].groupby(df_obj['key1'])\n",
    "print(grouped2.mean())\n"
   ]
  },
  {
   "cell_type": "markdown",
   "metadata": {},
   "source": [
    "### 3. 按自定义的key分组"
   ]
  },
  {
   "cell_type": "code",
   "execution_count": 5,
   "metadata": {
    "scrolled": true
   },
   "outputs": [
    {
     "name": "stdout",
     "output_type": "stream",
     "text": [
      "0    1\n",
      "1    1\n",
      "2    1\n",
      "3    3\n",
      "5    1\n",
      "7    1\n",
      "dtype: int64\n",
      "      data1     data2\n",
      "0  0.352998 -0.560757\n",
      "1 -0.580653 -0.794972\n",
      "2  0.715082  1.937192\n",
      "3  0.929606 -0.240642\n",
      "5 -0.693075  0.478518\n",
      "7 -1.917709  0.973540\n",
      "key1  key2 \n",
      "a     one      2\n",
      "      three    1\n",
      "      two      2\n",
      "b     one      1\n",
      "      three    1\n",
      "      two      1\n",
      "dtype: int64\n",
      "--------------------------------------------------\n",
      "key1  key2 \n",
      "a     one      2\n",
      "      three    1\n",
      "      two      2\n",
      "b     one      1\n",
      "      three    1\n",
      "      two      1\n",
      "dtype: int64\n",
      "--------------------------------------------------\n",
      "key2   key1\n",
      "one    a       2\n",
      "       b       1\n",
      "three  a       1\n",
      "       b       1\n",
      "two    a       2\n",
      "       b       1\n",
      "dtype: int64\n",
      "               data1     data2\n",
      "key2  key1                    \n",
      "one   a    -0.170039 -0.041119\n",
      "      b    -0.580653 -0.794972\n",
      "three a    -1.917709  0.973540\n",
      "      b    -0.058684 -0.047146\n",
      "two   a     0.608780  1.151975\n",
      "      b     0.485811 -0.560255\n",
      "MultiIndex([(  'one', 'a'),\n",
      "            (  'one', 'b'),\n",
      "            ('three', 'a'),\n",
      "            ('three', 'b'),\n",
      "            (  'two', 'a'),\n",
      "            (  'two', 'b')],\n",
      "           names=['key2', 'key1'])\n",
      "          data1               data2          \n",
      "key1          a         b         a         b\n",
      "key2                                         \n",
      "one   -0.170039 -0.580653 -0.041119 -0.794972\n",
      "three -1.917709 -0.058684  0.973540 -0.047146\n",
      "two    0.608780  0.485811  1.151975 -0.560255\n",
      "MultiIndex([('data1', 'a'),\n",
      "            ('data1', 'b'),\n",
      "            ('data2', 'a'),\n",
      "            ('data2', 'b')],\n",
      "           names=[None, 'key1'])\n",
      "('one', 'a')\n",
      "  key1 key2     data1     data2\n",
      "0    a  one  0.352998 -0.560757\n",
      "6    a  one -0.693075  0.478518\n",
      "<class 'pandas.core.frame.DataFrame'>\n",
      "('one', 'b')\n",
      "  key1 key2     data1     data2\n",
      "1    b  one -0.580653 -0.794972\n",
      "<class 'pandas.core.frame.DataFrame'>\n",
      "('three', 'a')\n",
      "  key1   key2     data1    data2\n",
      "7    a  three -1.917709  0.97354\n",
      "<class 'pandas.core.frame.DataFrame'>\n",
      "('three', 'b')\n",
      "  key1   key2     data1     data2\n",
      "3    b  three -0.058684 -0.047146\n",
      "<class 'pandas.core.frame.DataFrame'>\n",
      "('two', 'a')\n",
      "  key1 key2     data1     data2\n",
      "2    a  two  0.715082  1.937192\n",
      "4    a  two  0.502479  0.366759\n",
      "<class 'pandas.core.frame.DataFrame'>\n",
      "('two', 'b')\n",
      "  key1 key2     data1     data2\n",
      "5    b  two  0.485811 -0.560255\n",
      "<class 'pandas.core.frame.DataFrame'>\n"
     ]
    }
   ],
   "source": [
    "# # 按自定义key分组，列表\n",
    "self_def_key = [0, 1, 2, 3, 3, 3, 5, 7]\n",
    "print(df_obj.groupby(self_def_key).size())  #等于mysql的count\n",
    "print(df_obj.groupby(self_def_key).sum()) \n",
    "# 按自定义key分组，多层列表\n",
    "print(df_obj.groupby([df_obj['key1'], df_obj['key2']]).size())\n",
    "\n",
    "# # 按多个列多层分组\n",
    "print('-'*50)\n",
    "grouped2 = df_obj.groupby(['key1', 'key2'])\n",
    "print(grouped2.size())\n",
    "\n",
    "# # 多层分组按key的顺序进行\n",
    "print('-'*50)\n",
    "grouped3 = df_obj.groupby(['key2', 'key1'])\n",
    "print(grouped3.size())\n",
    "print(grouped3.mean())\n",
    "# unstack可以将多层索引的结果转换成单层的dataframe\n",
    "print(grouped3.mean().index)\n",
    "print(grouped3.mean().unstack())\n",
    "print(grouped3.mean().unstack().columns)\n",
    "# # 多层分组，根据key1 和 key2\n",
    "for group_name, group_data in grouped3:\n",
    "    print(group_name)\n",
    "    print(group_data)\n",
    "    print(type(group_data))"
   ]
  },
  {
   "cell_type": "code",
   "execution_count": 79,
   "metadata": {},
   "outputs": [
    {
     "data": {
      "text/plain": [
       "[(('one', 'a'),\n",
       "    key1 key2     data1     data2\n",
       "  0    a  one -0.452115 -0.386893\n",
       "  6    a  one -1.099682 -0.767768),\n",
       " (('one', 'b'),\n",
       "    key1 key2     data1     data2\n",
       "  1    b  one -1.037842  1.087503),\n",
       " (('three', 'a'),\n",
       "    key1   key2     data1     data2\n",
       "  7    a  three  0.540446  0.294871),\n",
       " (('three', 'b'),\n",
       "    key1   key2     data1    data2\n",
       "  3    b  three  0.740737  0.13788),\n",
       " (('two', 'a'),\n",
       "    key1 key2     data1     data2\n",
       "  2    a  two  0.750604  1.506356\n",
       "  4    a  two -0.667486 -0.930043),\n",
       " (('two', 'b'),\n",
       "    key1 key2     data1     data2\n",
       "  5    b  two -0.024905  0.829065)]"
      ]
     },
     "execution_count": 79,
     "metadata": {},
     "output_type": "execute_result"
    }
   ],
   "source": [
    "list(grouped3)"
   ]
  },
  {
   "cell_type": "markdown",
   "metadata": {},
   "source": [
    "# 按类型分组"
   ]
  },
  {
   "cell_type": "code",
   "execution_count": 18,
   "metadata": {},
   "outputs": [
    {
     "name": "stdout",
     "output_type": "stream",
     "text": [
      "key1      object\n",
      "key2      object\n",
      "data1    float64\n",
      "data2    float64\n",
      "dtype: object\n"
     ]
    }
   ],
   "source": [
    "print(df_obj.dtypes)"
   ]
  },
  {
   "cell_type": "code",
   "execution_count": 10,
   "metadata": {},
   "outputs": [
    {
     "name": "stdout",
     "output_type": "stream",
     "text": [
      "  key1   key2     data1     data2     data3\n",
      "0    a    one  0.352998 -0.560757  0.439243\n",
      "1    b    one -0.580653 -0.794972  0.205028\n",
      "2    a    two  0.715082  1.937192  2.937192\n",
      "3    b  three -0.058684 -0.047146  0.952854\n",
      "4    a    two  0.502479  0.366759  1.366759\n",
      "5    b    two  0.485811 -0.560255  0.439745\n",
      "6    a    one -0.693075  0.478518  1.478518\n",
      "7    a  three -1.917709  0.973540  1.973540\n",
      "float64    3\n",
      "object     2\n",
      "dtype: int64\n",
      "    float64  object\n",
      "0  0.231484    aone\n",
      "1 -1.170596    bone\n",
      "2  5.589465    atwo\n",
      "3  0.847024  bthree\n",
      "4  2.235997    atwo\n",
      "5  0.365300    btwo\n",
      "6  1.263961    aone\n",
      "7  1.029372  athree\n",
      "   1      2         3         4\n",
      "0  a    one -0.207759  0.439243\n",
      "1  b    one -1.375624  0.205028\n",
      "2  a    two  2.652273  2.937192\n",
      "3  b  three -0.105830  0.952854\n",
      "4  a    two  0.869238  1.366759\n",
      "5  b    two -0.074445  0.439745\n",
      "6  a    one -0.214557  1.478518\n",
      "7  a  three -0.944169  1.973540\n"
     ]
    }
   ],
   "source": [
    "df_obj['data3']=df_obj['data2']+1\n",
    "print(df_obj)\n",
    "print(df_obj.groupby(df_obj.dtypes, axis=1).size())#按轴0没有意义\n",
    "print(df_obj.groupby(df_obj.dtypes, axis=1).sum()) \n",
    "self_column_key=[1,2,3,3,4]\n",
    "print(df_obj.groupby(self_column_key, axis=1).sum())   #通过自定义索引去让不同列相加"
   ]
  },
  {
   "cell_type": "markdown",
   "metadata": {},
   "source": [
    "### 2. 通过字典分组"
   ]
  },
  {
   "cell_type": "code",
   "execution_count": 83,
   "metadata": {},
   "outputs": [
    {
     "name": "stdout",
     "output_type": "stream",
     "text": [
      "   a    b    c    d  e\n",
      "A  2  2.0  2.0  3.0  1\n",
      "B  8  NaN  NaN  NaN  4\n",
      "C  3  1.0  6.0  1.0  3\n",
      "D  2  6.0  6.0  6.0  1\n",
      "E  1  3.0  2.0  8.0  9\n",
      "C         1\n",
      "Java      2\n",
      "Python    2\n",
      "dtype: int64\n",
      "   C  Java  Python\n",
      "A  1     2       2\n",
      "B  0     1       1\n",
      "C  1     2       2\n",
      "D  1     2       2\n",
      "E  1     2       2\n",
      "     C  Java  Python\n",
      "A  3.0   3.0     4.0\n",
      "B  0.0   4.0     8.0\n",
      "C  1.0   9.0     4.0\n",
      "D  6.0   7.0     8.0\n",
      "E  8.0  11.0     4.0\n"
     ]
    }
   ],
   "source": [
    "df_obj2 = pd.DataFrame(np.random.randint(1, 10, (5,5)),\n",
    "                       columns=['a', 'b', 'c', 'd', 'e'],\n",
    "                       index=['A', 'B', 'C', 'D', 'E'])\n",
    "# 给指定某个部分的数据重新赋值为 np.NaN\n",
    "df_obj2.loc['B','b':'d']=np.NAN\n",
    "\n",
    "print(df_obj2)\n",
    "# 通过字典分组\n",
    "mapping_dict = {'a':'Python', 'b':'Python', 'c':'Java', 'd':'C', 'e':'Java'}\n",
    "print(df_obj2.groupby(mapping_dict, axis=1).size())\n",
    "print(df_obj2.groupby(mapping_dict, axis=1).count()) # 非NaN的个数\n",
    "print(df_obj2.groupby(mapping_dict, axis=1).sum())\n"
   ]
  },
  {
   "cell_type": "code",
   "execution_count": 11,
   "metadata": {},
   "outputs": [],
   "source": [
    "str1='熊大'"
   ]
  },
  {
   "cell_type": "code",
   "execution_count": 12,
   "metadata": {},
   "outputs": [
    {
     "data": {
      "text/plain": [
       "'熊'"
      ]
     },
     "execution_count": 12,
     "metadata": {},
     "output_type": "execute_result"
    }
   ],
   "source": [
    "str1[0]"
   ]
  },
  {
   "cell_type": "code",
   "execution_count": 15,
   "metadata": {},
   "outputs": [
    {
     "name": "stdout",
     "output_type": "stream",
     "text": [
      "      a  b  c  d  e\n",
      "AA    4  4  4  8  1\n",
      "BBBB  4  6  7  2  1\n",
      "CC    6  9  2  7  8\n",
      "D     6  8  4  6  1\n",
      "EE    1  6  5  9  8\n",
      "1    1\n",
      "2    3\n",
      "4    1\n",
      "dtype: int64\n"
     ]
    }
   ],
   "source": [
    "# 通过函数分组\n",
    "df_obj3 = pd.DataFrame(np.random.randint(1, 10, (5,5)),\n",
    "                       columns=['a', 'b', 'c', 'd', 'e'],\n",
    "                       index=['AA', 'BBBB', 'CC', 'D', 'EE'])\n",
    "#df_obj3\n",
    "\n",
    "def group_key(idx):\n",
    "    \"\"\"\n",
    "        idx 为列索引或行索引\n",
    "    \"\"\"\n",
    "    #return idx\n",
    "    return len(idx)\n",
    "print(df_obj3)\n",
    "print(df_obj3.groupby(group_key).size())\n",
    "\n",
    "# 以上自定义函数等价于\n",
    "df_obj3.groupby(len).size()\n"
   ]
  },
  {
   "cell_type": "code",
   "execution_count": 16,
   "metadata": {},
   "outputs": [
    {
     "name": "stdout",
     "output_type": "stream",
     "text": [
      "language Python Java Python Java Python\n",
      "index1        A    A      B    C      B\n",
      "0             9    5      2    4      1\n",
      "1             1    9      2    5      5\n",
      "2             6    9      9    6      3\n",
      "3             1    1      8    7      4\n",
      "4             7    4      8    6      4\n",
      "language  Java  Python\n",
      "0            9      12\n",
      "1           14       8\n",
      "2           15      18\n",
      "3            8      13\n",
      "4           10      19\n",
      "index1   A   B  C\n",
      "0       14   3  4\n",
      "1       10   7  5\n",
      "2       15  12  6\n",
      "3        2  12  7\n",
      "4       11  12  6\n"
     ]
    }
   ],
   "source": [
    "# 通过索引级别分组\n",
    "columns = pd.MultiIndex.from_arrays([['Python', 'Java', 'Python', 'Java', 'Python'],\n",
    "                                     ['A', 'A', 'B', 'C', 'B']], \n",
    "                                    names=['language', 'index1'])\n",
    "df_obj4 = pd.DataFrame(np.random.randint(1, 10, (5, 5)), columns=columns)\n",
    "print(df_obj4)\n",
    "\n",
    "# 根据language进行分组\n",
    "print(df_obj4.groupby(level='language', axis=1).sum())\n",
    "# 根据index进行分组\n",
    "print(df_obj4.groupby(level='index1', axis=1).sum())\n"
   ]
  },
  {
   "cell_type": "markdown",
   "metadata": {},
   "source": [
    "## 聚合"
   ]
  },
  {
   "cell_type": "code",
   "execution_count": 17,
   "metadata": {},
   "outputs": [
    {
     "name": "stdout",
     "output_type": "stream",
     "text": [
      "  key1   key2  data1  data2\n",
      "0    a    one      9      4\n",
      "1    b    one      4      5\n",
      "2    a    two      2      5\n",
      "3    b  three      1      9\n",
      "4    a    two      9      8\n",
      "5    b    two      4      4\n",
      "6    a    one      5      4\n",
      "7    a  three      6      4\n",
      "      data1  data2\n",
      "key1              \n",
      "a         7      4\n",
      "b         3      5\n",
      "      data1  data2\n",
      "key1              \n",
      "a         7      4\n",
      "b         3      5\n"
     ]
    }
   ],
   "source": [
    "dict_obj = {'key1' : ['a', 'b', 'a', 'b', \n",
    "                      'a', 'b', 'a', 'a'],\n",
    "            'key2' : ['one', 'one', 'two', 'three',\n",
    "                      'two', 'two', 'one', 'three'],\n",
    "            'data1': np.random.randint(1,10, 8),\n",
    "            'data2': np.random.randint(1,10, 8)}\n",
    "df_obj5 = pd.DataFrame(dict_obj)\n",
    "print(df_obj5)\n",
    "# 自定义聚合函数\n",
    "def peak_range(df):\n",
    "    \"\"\"\n",
    "        返回数值范围\n",
    "    \"\"\"\n",
    "    #print type(df) #参数为索引所对应的记录\n",
    "    return df.max() - df.min()\n",
    "\n",
    "print(df_obj5.groupby('key1').agg(peak_range))\n",
    "print(df_obj5.groupby('key1').agg(lambda df : df.max() - df.min()))"
   ]
  },
  {
   "cell_type": "code",
   "execution_count": 23,
   "metadata": {},
   "outputs": [
    {
     "name": "stdout",
     "output_type": "stream",
     "text": [
      "         data1                                data2                           \n",
      "          mean       std count peak_range      mean       std count peak_range\n",
      "key1                                                                          \n",
      "a     0.817484  0.992523     5   2.453783 -0.079523  1.541954     5   3.920186\n",
      "b    -0.740284  1.414782     3   2.705077 -0.294637  0.874089     3   1.600786\n"
     ]
    }
   ],
   "source": [
    "# 同时应用多个聚合函数\n",
    "print(df_obj.groupby('key1').agg(['mean', 'std', 'count', peak_range]))"
   ]
  },
  {
   "cell_type": "code",
   "execution_count": 18,
   "metadata": {},
   "outputs": [
    {
     "name": "stdout",
     "output_type": "stream",
     "text": [
      "         data1  data2\n",
      "key1                 \n",
      "a    -0.208045      5\n",
      "b    -0.051175      3\n"
     ]
    }
   ],
   "source": [
    "# 每列作用不同的聚合函数\n",
    "dict_mapping = {'data1':'mean',\n",
    "                'data2':'count'}\n",
    "print(df_obj.groupby('key1').agg(dict_mapping))\n"
   ]
  },
  {
   "cell_type": "markdown",
   "metadata": {},
   "source": [
    "# 星巴克全球开店"
   ]
  },
  {
   "cell_type": "code",
   "execution_count": 22,
   "metadata": {},
   "outputs": [
    {
     "name": "stdout",
     "output_type": "stream",
     "text": [
      "       Brand  Store Number     Store Name Ownership Type     Street Address  \\\n",
      "0  Starbucks  47370-257954  Meritxell, 96       Licensed  Av. Meritxell, 96   \n",
      "\n",
      "               City State/Province Country Postcode Phone Number  \\\n",
      "0  Andorra la Vella              7      AD    AD500    376818720   \n",
      "\n",
      "                  Timezone  Longitude  Latitude  \n",
      "0  GMT+1:00 Europe/Andorra       1.53     42.51  \n",
      "<class 'pandas.core.frame.DataFrame'>\n",
      "RangeIndex: 25600 entries, 0 to 25599\n",
      "Data columns (total 13 columns):\n",
      " #   Column          Non-Null Count  Dtype  \n",
      "---  ------          --------------  -----  \n",
      " 0   Brand           25600 non-null  object \n",
      " 1   Store Number    25600 non-null  object \n",
      " 2   Store Name      25600 non-null  object \n",
      " 3   Ownership Type  25600 non-null  object \n",
      " 4   Street Address  25598 non-null  object \n",
      " 5   City            25585 non-null  object \n",
      " 6   State/Province  25600 non-null  object \n",
      " 7   Country         25600 non-null  object \n",
      " 8   Postcode        24078 non-null  object \n",
      " 9   Phone Number    18739 non-null  object \n",
      " 10  Timezone        25600 non-null  object \n",
      " 11  Longitude       25599 non-null  float64\n",
      " 12  Latitude        25599 non-null  float64\n",
      "dtypes: float64(2), object(11)\n",
      "memory usage: 2.5+ MB\n",
      "None\n"
     ]
    },
    {
     "data": {
      "text/plain": [
       "Country\n",
       "AD        1\n",
       "AE      144\n",
       "AR      108\n",
       "AT       18\n",
       "AU       22\n",
       "      ...  \n",
       "TT        3\n",
       "TW      394\n",
       "US    13608\n",
       "VN       25\n",
       "ZA        3\n",
       "Length: 73, dtype: int64"
      ]
     },
     "execution_count": 22,
     "metadata": {},
     "output_type": "execute_result"
    }
   ],
   "source": [
    "import pandas as pd\n",
    "import numpy as np\n",
    "\n",
    "file_path = \"./starbucks_store_worldwide.csv\"\n",
    "\n",
    "df = pd.read_csv(file_path)\n",
    "print(df.head(1))\n",
    "print(df.info())  #数据总体有一个把控\n",
    "grouped=df.groupby(by='Country')\n",
    "grouped.size()"
   ]
  },
  {
   "cell_type": "code",
   "execution_count": 23,
   "metadata": {},
   "outputs": [
    {
     "name": "stdout",
     "output_type": "stream",
     "text": [
      "13608\n",
      "2734\n"
     ]
    }
   ],
   "source": [
    "country_count = grouped[\"Brand\"].count()\n",
    "print(country_count[\"US\"])\n",
    "print(country_count[\"CN\"])"
   ]
  },
  {
   "cell_type": "code",
   "execution_count": 47,
   "metadata": {},
   "outputs": [
    {
     "data": {
      "text/plain": [
       "<BarContainer object of 31 artists>"
      ]
     },
     "execution_count": 47,
     "metadata": {},
     "output_type": "execute_result"
    },
    {
     "data": {
      "image/png": "[encoded data removed]",
      "text/plain": [
       "<Figure size 1600x800 with 1 Axes>"
      ]
     },
     "metadata": {
      "needs_background": "light"
     },
     "output_type": "display_data"
    }
   ],
   "source": [
    "import matplotlib.pyplot as plt\n",
    "country_cn=df[df['Country']=='CN']\n",
    "china_province=country_cn.groupby(by=\"State/Province\").count()['Brand'].sort_values(ascending=False)\n",
    "plt.figure(figsize=(20,10),dpi=80)\n",
    "plt.bar(china_province.index,china_province.values)"
   ]
  },
  {
   "cell_type": "code",
   "execution_count": 31,
   "metadata": {},
   "outputs": [
    {
     "data": {
      "text/html": [
       "<div>\n",
       "<style scoped>\n",
       "    .dataframe tbody tr th:only-of-type {\n",
       "        vertical-align: middle;\n",
       "    }\n",
       "\n",
       "    .dataframe tbody tr th {\n",
       "        vertical-align: top;\n",
       "    }\n",
       "\n",
       "    .dataframe thead th {\n",
       "        text-align: right;\n",
       "    }\n",
       "</style>\n",
       "<table border=\"1\" class=\"dataframe\">\n",
       "  <thead>\n",
       "    <tr style=\"text-align: right;\">\n",
       "      <th></th>\n",
       "      <th></th>\n",
       "      <th>Brand</th>\n",
       "    </tr>\n",
       "    <tr>\n",
       "      <th>Country</th>\n",
       "      <th>State/Province</th>\n",
       "      <th></th>\n",
       "    </tr>\n",
       "  </thead>\n",
       "  <tbody>\n",
       "    <tr>\n",
       "      <th>AD</th>\n",
       "      <th>7</th>\n",
       "      <td>1</td>\n",
       "    </tr>\n",
       "    <tr>\n",
       "      <th rowspan=\"4\" valign=\"top\">AE</th>\n",
       "      <th>AJ</th>\n",
       "      <td>2</td>\n",
       "    </tr>\n",
       "    <tr>\n",
       "      <th>AZ</th>\n",
       "      <td>48</td>\n",
       "    </tr>\n",
       "    <tr>\n",
       "      <th>DU</th>\n",
       "      <td>82</td>\n",
       "    </tr>\n",
       "    <tr>\n",
       "      <th>FU</th>\n",
       "      <td>2</td>\n",
       "    </tr>\n",
       "    <tr>\n",
       "      <th>...</th>\n",
       "      <th>...</th>\n",
       "      <td>...</td>\n",
       "    </tr>\n",
       "    <tr>\n",
       "      <th rowspan=\"2\" valign=\"top\">US</th>\n",
       "      <th>WV</th>\n",
       "      <td>25</td>\n",
       "    </tr>\n",
       "    <tr>\n",
       "      <th>WY</th>\n",
       "      <td>23</td>\n",
       "    </tr>\n",
       "    <tr>\n",
       "      <th rowspan=\"2\" valign=\"top\">VN</th>\n",
       "      <th>HN</th>\n",
       "      <td>6</td>\n",
       "    </tr>\n",
       "    <tr>\n",
       "      <th>SG</th>\n",
       "      <td>19</td>\n",
       "    </tr>\n",
       "    <tr>\n",
       "      <th>ZA</th>\n",
       "      <th>GT</th>\n",
       "      <td>3</td>\n",
       "    </tr>\n",
       "  </tbody>\n",
       "</table>\n",
       "<p>545 rows × 1 columns</p>\n",
       "</div>"
      ],
      "text/plain": [
       "                        Brand\n",
       "Country State/Province       \n",
       "AD      7                   1\n",
       "AE      AJ                  2\n",
       "        AZ                 48\n",
       "        DU                 82\n",
       "        FU                  2\n",
       "...                       ...\n",
       "US      WV                 25\n",
       "        WY                 23\n",
       "VN      HN                  6\n",
       "        SG                 19\n",
       "ZA      GT                  3\n",
       "\n",
       "[545 rows x 1 columns]"
      ]
     },
     "execution_count": 31,
     "metadata": {},
     "output_type": "execute_result"
    }
   ],
   "source": [
    "grouped1 = df[[\"Brand\"]].groupby(by=[df[\"Country\"], df[\"State/Province\"]]).count()\n",
    "grouped1"
   ]
  },
  {
   "cell_type": "code",
   "execution_count": 34,
   "metadata": {},
   "outputs": [
    {
     "data": {
      "text/html": [
       "<div>\n",
       "<style scoped>\n",
       "    .dataframe tbody tr th:only-of-type {\n",
       "        vertical-align: middle;\n",
       "    }\n",
       "\n",
       "    .dataframe tbody tr th {\n",
       "        vertical-align: top;\n",
       "    }\n",
       "\n",
       "    .dataframe thead th {\n",
       "        text-align: right;\n",
       "    }\n",
       "</style>\n",
       "<table border=\"1\" class=\"dataframe\">\n",
       "  <thead>\n",
       "    <tr style=\"text-align: right;\">\n",
       "      <th></th>\n",
       "      <th></th>\n",
       "      <th>Brand</th>\n",
       "      <th>Store Number</th>\n",
       "      <th>Store Name</th>\n",
       "      <th>Ownership Type</th>\n",
       "      <th>Street Address</th>\n",
       "      <th>City</th>\n",
       "      <th>Postcode</th>\n",
       "      <th>Phone Number</th>\n",
       "      <th>Timezone</th>\n",
       "      <th>Longitude</th>\n",
       "      <th>Latitude</th>\n",
       "    </tr>\n",
       "    <tr>\n",
       "      <th>Country</th>\n",
       "      <th>State/Province</th>\n",
       "      <th></th>\n",
       "      <th></th>\n",
       "      <th></th>\n",
       "      <th></th>\n",
       "      <th></th>\n",
       "      <th></th>\n",
       "      <th></th>\n",
       "      <th></th>\n",
       "      <th></th>\n",
       "      <th></th>\n",
       "      <th></th>\n",
       "    </tr>\n",
       "  </thead>\n",
       "  <tbody>\n",
       "    <tr>\n",
       "      <th>AD</th>\n",
       "      <th>7</th>\n",
       "      <td>1</td>\n",
       "      <td>1</td>\n",
       "      <td>1</td>\n",
       "      <td>1</td>\n",
       "      <td>1</td>\n",
       "      <td>1</td>\n",
       "      <td>1</td>\n",
       "      <td>1</td>\n",
       "      <td>1</td>\n",
       "      <td>1</td>\n",
       "      <td>1</td>\n",
       "    </tr>\n",
       "    <tr>\n",
       "      <th rowspan=\"4\" valign=\"top\">AE</th>\n",
       "      <th>AJ</th>\n",
       "      <td>2</td>\n",
       "      <td>2</td>\n",
       "      <td>2</td>\n",
       "      <td>2</td>\n",
       "      <td>2</td>\n",
       "      <td>2</td>\n",
       "      <td>0</td>\n",
       "      <td>0</td>\n",
       "      <td>2</td>\n",
       "      <td>2</td>\n",
       "      <td>2</td>\n",
       "    </tr>\n",
       "    <tr>\n",
       "      <th>AZ</th>\n",
       "      <td>48</td>\n",
       "      <td>48</td>\n",
       "      <td>48</td>\n",
       "      <td>48</td>\n",
       "      <td>48</td>\n",
       "      <td>48</td>\n",
       "      <td>7</td>\n",
       "      <td>20</td>\n",
       "      <td>48</td>\n",
       "      <td>48</td>\n",
       "      <td>48</td>\n",
       "    </tr>\n",
       "    <tr>\n",
       "      <th>DU</th>\n",
       "      <td>82</td>\n",
       "      <td>82</td>\n",
       "      <td>82</td>\n",
       "      <td>82</td>\n",
       "      <td>82</td>\n",
       "      <td>82</td>\n",
       "      <td>16</td>\n",
       "      <td>50</td>\n",
       "      <td>82</td>\n",
       "      <td>82</td>\n",
       "      <td>82</td>\n",
       "    </tr>\n",
       "    <tr>\n",
       "      <th>FU</th>\n",
       "      <td>2</td>\n",
       "      <td>2</td>\n",
       "      <td>2</td>\n",
       "      <td>2</td>\n",
       "      <td>2</td>\n",
       "      <td>2</td>\n",
       "      <td>1</td>\n",
       "      <td>0</td>\n",
       "      <td>2</td>\n",
       "      <td>2</td>\n",
       "      <td>2</td>\n",
       "    </tr>\n",
       "    <tr>\n",
       "      <th>...</th>\n",
       "      <th>...</th>\n",
       "      <td>...</td>\n",
       "      <td>...</td>\n",
       "      <td>...</td>\n",
       "      <td>...</td>\n",
       "      <td>...</td>\n",
       "      <td>...</td>\n",
       "      <td>...</td>\n",
       "      <td>...</td>\n",
       "      <td>...</td>\n",
       "      <td>...</td>\n",
       "      <td>...</td>\n",
       "    </tr>\n",
       "    <tr>\n",
       "      <th rowspan=\"2\" valign=\"top\">US</th>\n",
       "      <th>WV</th>\n",
       "      <td>25</td>\n",
       "      <td>25</td>\n",
       "      <td>25</td>\n",
       "      <td>25</td>\n",
       "      <td>25</td>\n",
       "      <td>25</td>\n",
       "      <td>25</td>\n",
       "      <td>23</td>\n",
       "      <td>25</td>\n",
       "      <td>25</td>\n",
       "      <td>25</td>\n",
       "    </tr>\n",
       "    <tr>\n",
       "      <th>WY</th>\n",
       "      <td>23</td>\n",
       "      <td>23</td>\n",
       "      <td>23</td>\n",
       "      <td>23</td>\n",
       "      <td>23</td>\n",
       "      <td>23</td>\n",
       "      <td>23</td>\n",
       "      <td>22</td>\n",
       "      <td>23</td>\n",
       "      <td>23</td>\n",
       "      <td>23</td>\n",
       "    </tr>\n",
       "    <tr>\n",
       "      <th rowspan=\"2\" valign=\"top\">VN</th>\n",
       "      <th>HN</th>\n",
       "      <td>6</td>\n",
       "      <td>6</td>\n",
       "      <td>6</td>\n",
       "      <td>6</td>\n",
       "      <td>6</td>\n",
       "      <td>6</td>\n",
       "      <td>6</td>\n",
       "      <td>6</td>\n",
       "      <td>6</td>\n",
       "      <td>6</td>\n",
       "      <td>6</td>\n",
       "    </tr>\n",
       "    <tr>\n",
       "      <th>SG</th>\n",
       "      <td>19</td>\n",
       "      <td>19</td>\n",
       "      <td>19</td>\n",
       "      <td>19</td>\n",
       "      <td>19</td>\n",
       "      <td>19</td>\n",
       "      <td>19</td>\n",
       "      <td>17</td>\n",
       "      <td>19</td>\n",
       "      <td>19</td>\n",
       "      <td>19</td>\n",
       "    </tr>\n",
       "    <tr>\n",
       "      <th>ZA</th>\n",
       "      <th>GT</th>\n",
       "      <td>3</td>\n",
       "      <td>3</td>\n",
       "      <td>3</td>\n",
       "      <td>3</td>\n",
       "      <td>3</td>\n",
       "      <td>3</td>\n",
       "      <td>3</td>\n",
       "      <td>2</td>\n",
       "      <td>3</td>\n",
       "      <td>3</td>\n",
       "      <td>3</td>\n",
       "    </tr>\n",
       "  </tbody>\n",
       "</table>\n",
       "<p>545 rows × 11 columns</p>\n",
       "</div>"
      ],
      "text/plain": [
       "                        Brand  Store Number  Store Name  Ownership Type  \\\n",
       "Country State/Province                                                    \n",
       "AD      7                   1             1           1               1   \n",
       "AE      AJ                  2             2           2               2   \n",
       "        AZ                 48            48          48              48   \n",
       "        DU                 82            82          82              82   \n",
       "        FU                  2             2           2               2   \n",
       "...                       ...           ...         ...             ...   \n",
       "US      WV                 25            25          25              25   \n",
       "        WY                 23            23          23              23   \n",
       "VN      HN                  6             6           6               6   \n",
       "        SG                 19            19          19              19   \n",
       "ZA      GT                  3             3           3               3   \n",
       "\n",
       "                        Street Address  City  Postcode  Phone Number  \\\n",
       "Country State/Province                                                 \n",
       "AD      7                            1     1         1             1   \n",
       "AE      AJ                           2     2         0             0   \n",
       "        AZ                          48    48         7            20   \n",
       "        DU                          82    82        16            50   \n",
       "        FU                           2     2         1             0   \n",
       "...                                ...   ...       ...           ...   \n",
       "US      WV                          25    25        25            23   \n",
       "        WY                          23    23        23            22   \n",
       "VN      HN                           6     6         6             6   \n",
       "        SG                          19    19        19            17   \n",
       "ZA      GT                           3     3         3             2   \n",
       "\n",
       "                        Timezone  Longitude  Latitude  \n",
       "Country State/Province                                 \n",
       "AD      7                      1          1         1  \n",
       "AE      AJ                     2          2         2  \n",
       "        AZ                    48         48        48  \n",
       "        DU                    82         82        82  \n",
       "        FU                     2          2         2  \n",
       "...                          ...        ...       ...  \n",
       "US      WV                    25         25        25  \n",
       "        WY                    23         23        23  \n",
       "VN      HN                     6          6         6  \n",
       "        SG                    19         19        19  \n",
       "ZA      GT                     3          3         3  \n",
       "\n",
       "[545 rows x 11 columns]"
      ]
     },
     "execution_count": 34,
     "metadata": {},
     "output_type": "execute_result"
    }
   ],
   "source": [
    "grouped2 = df.groupby(by=[df[\"Country\"], df[\"State/Province\"]]).count()\n",
    "grouped2"
   ]
  },
  {
   "cell_type": "code",
   "execution_count": 49,
   "metadata": {},
   "outputs": [
    {
     "data": {
      "text/html": [
       "<div>\n",
       "<style scoped>\n",
       "    .dataframe tbody tr th:only-of-type {\n",
       "        vertical-align: middle;\n",
       "    }\n",
       "\n",
       "    .dataframe tbody tr th {\n",
       "        vertical-align: top;\n",
       "    }\n",
       "\n",
       "    .dataframe thead th {\n",
       "        text-align: right;\n",
       "    }\n",
       "</style>\n",
       "<table border=\"1\" class=\"dataframe\">\n",
       "  <thead>\n",
       "    <tr style=\"text-align: right;\">\n",
       "      <th></th>\n",
       "      <th>Brand</th>\n",
       "      <th>Store Number</th>\n",
       "      <th>Store Name</th>\n",
       "      <th>Ownership Type</th>\n",
       "      <th>Street Address</th>\n",
       "      <th>City</th>\n",
       "      <th>State/Province</th>\n",
       "      <th>Country</th>\n",
       "      <th>Postcode</th>\n",
       "      <th>Phone Number</th>\n",
       "      <th>Timezone</th>\n",
       "      <th>Longitude</th>\n",
       "      <th>Latitude</th>\n",
       "    </tr>\n",
       "  </thead>\n",
       "  <tbody>\n",
       "    <tr>\n",
       "      <th>3062</th>\n",
       "      <td>Starbucks</td>\n",
       "      <td>48862-265746</td>\n",
       "      <td>Changshu Fangta Street-GF</td>\n",
       "      <td>Joint Venture</td>\n",
       "      <td>Fangta Street and HeDong Street</td>\n",
       "      <td>Changshu</td>\n",
       "      <td>32</td>\n",
       "      <td>CN</td>\n",
       "      <td>215500</td>\n",
       "      <td>NaN</td>\n",
       "      <td>GMT+08:00 Asia/Beijing</td>\n",
       "      <td>120.75</td>\n",
       "      <td>31.64</td>\n",
       "    </tr>\n",
       "    <tr>\n",
       "      <th>3063</th>\n",
       "      <td>Starbucks</td>\n",
       "      <td>48238-258108</td>\n",
       "      <td>CZ Wujin Kaia Lomo Plaza Store-GF</td>\n",
       "      <td>Joint Venture</td>\n",
       "      <td>Huayuan St &amp; Yongsheng Road, Wujin District</td>\n",
       "      <td>Changzhou</td>\n",
       "      <td>32</td>\n",
       "      <td>CN</td>\n",
       "      <td>213000</td>\n",
       "      <td>NaN</td>\n",
       "      <td>GMT+08:00 Asia/Beijing</td>\n",
       "      <td>119.95</td>\n",
       "      <td>31.69</td>\n",
       "    </tr>\n",
       "    <tr>\n",
       "      <th>3064</th>\n",
       "      <td>Starbucks</td>\n",
       "      <td>26608-244608</td>\n",
       "      <td>Nanjing Sun Palace Store-GF</td>\n",
       "      <td>Joint Venture</td>\n",
       "      <td>No.3 yangguang Rd, Xuanwu</td>\n",
       "      <td>Nanjing</td>\n",
       "      <td>32</td>\n",
       "      <td>CN</td>\n",
       "      <td>210000</td>\n",
       "      <td>NaN</td>\n",
       "      <td>GMT+08:00 Asia/Beijing</td>\n",
       "      <td>118.81</td>\n",
       "      <td>32.06</td>\n",
       "    </tr>\n",
       "    <tr>\n",
       "      <th>3065</th>\n",
       "      <td>Starbucks</td>\n",
       "      <td>48586-263487</td>\n",
       "      <td>NT Haimen Zhongnan Plaza Store-GF</td>\n",
       "      <td>Joint Venture</td>\n",
       "      <td>Zhangjian Avenue&amp;Nanhai Road, Haimen City</td>\n",
       "      <td>Nantong</td>\n",
       "      <td>32</td>\n",
       "      <td>CN</td>\n",
       "      <td>226000</td>\n",
       "      <td>NaN</td>\n",
       "      <td>GMT+08:00 Asia/Beijing</td>\n",
       "      <td>121.17</td>\n",
       "      <td>31.88</td>\n",
       "    </tr>\n",
       "    <tr>\n",
       "      <th>3066</th>\n",
       "      <td>Starbucks</td>\n",
       "      <td>49404-268987</td>\n",
       "      <td>NT Rudong wenfeng Dept Store-GF</td>\n",
       "      <td>Joint Venture</td>\n",
       "      <td>No.19 North Qingyuan Rd, Rudong</td>\n",
       "      <td>Nantong</td>\n",
       "      <td>32</td>\n",
       "      <td>CN</td>\n",
       "      <td>226000</td>\n",
       "      <td>NaN</td>\n",
       "      <td>GMT+08:00 Asia/Beijing</td>\n",
       "      <td>121.18</td>\n",
       "      <td>32.31</td>\n",
       "    </tr>\n",
       "    <tr>\n",
       "      <th>...</th>\n",
       "      <td>...</td>\n",
       "      <td>...</td>\n",
       "      <td>...</td>\n",
       "      <td>...</td>\n",
       "      <td>...</td>\n",
       "      <td>...</td>\n",
       "      <td>...</td>\n",
       "      <td>...</td>\n",
       "      <td>...</td>\n",
       "      <td>...</td>\n",
       "      <td>...</td>\n",
       "      <td>...</td>\n",
       "      <td>...</td>\n",
       "    </tr>\n",
       "    <tr>\n",
       "      <th>3411</th>\n",
       "      <td>Starbucks</td>\n",
       "      <td>24743-238567</td>\n",
       "      <td>镇江丹阳吾悦广场店</td>\n",
       "      <td>Joint Venture</td>\n",
       "      <td>丹阳市开发区, 新民东路99号10#-102铺位</td>\n",
       "      <td>镇江市</td>\n",
       "      <td>32</td>\n",
       "      <td>CN</td>\n",
       "      <td>NaN</td>\n",
       "      <td>NaN</td>\n",
       "      <td>GMT+08:00 Asia/Beijing</td>\n",
       "      <td>119.61</td>\n",
       "      <td>32.00</td>\n",
       "    </tr>\n",
       "    <tr>\n",
       "      <th>3412</th>\n",
       "      <td>Starbucks</td>\n",
       "      <td>24065-234944</td>\n",
       "      <td>丹阳金鹰天地店</td>\n",
       "      <td>Joint Venture</td>\n",
       "      <td>丹阳市, 金鹰天地广场</td>\n",
       "      <td>镇江市</td>\n",
       "      <td>32</td>\n",
       "      <td>CN</td>\n",
       "      <td>212300</td>\n",
       "      <td>NaN</td>\n",
       "      <td>GMT+08:00 Asia/Beijing</td>\n",
       "      <td>119.58</td>\n",
       "      <td>31.99</td>\n",
       "    </tr>\n",
       "    <tr>\n",
       "      <th>3413</th>\n",
       "      <td>Starbucks</td>\n",
       "      <td>24740-238713</td>\n",
       "      <td>泰州靖江泰和国际城店</td>\n",
       "      <td>Joint Venture</td>\n",
       "      <td>车站路77号泰和国际城C1-01铺位</td>\n",
       "      <td>靖江市</td>\n",
       "      <td>32</td>\n",
       "      <td>CN</td>\n",
       "      <td>214500</td>\n",
       "      <td>NaN</td>\n",
       "      <td>GMT+08:00 Asia/Beijing</td>\n",
       "      <td>120.26</td>\n",
       "      <td>32.01</td>\n",
       "    </tr>\n",
       "    <tr>\n",
       "      <th>3414</th>\n",
       "      <td>Starbucks</td>\n",
       "      <td>24336-236945</td>\n",
       "      <td>泰州靖江文峰大世界店</td>\n",
       "      <td>Joint Venture</td>\n",
       "      <td>人民北路1号文峰大世界1层1-2单元, 通湖路333号</td>\n",
       "      <td>靖江市</td>\n",
       "      <td>32</td>\n",
       "      <td>CN</td>\n",
       "      <td>214500</td>\n",
       "      <td>NaN</td>\n",
       "      <td>GMT+08:00 Asia/Beijing</td>\n",
       "      <td>120.27</td>\n",
       "      <td>32.02</td>\n",
       "    </tr>\n",
       "    <tr>\n",
       "      <th>3415</th>\n",
       "      <td>Starbucks</td>\n",
       "      <td>47324-257587</td>\n",
       "      <td>扬州高邮世贸广场店</td>\n",
       "      <td>Joint Venture</td>\n",
       "      <td>江苏省扬州高邮市, 世贸广场一层A005/A006/A1015铺位</td>\n",
       "      <td>高邮市</td>\n",
       "      <td>32</td>\n",
       "      <td>CN</td>\n",
       "      <td>225600</td>\n",
       "      <td>NaN</td>\n",
       "      <td>GMT+08:00 Asia/Beijing</td>\n",
       "      <td>119.46</td>\n",
       "      <td>32.79</td>\n",
       "    </tr>\n",
       "  </tbody>\n",
       "</table>\n",
       "<p>354 rows × 13 columns</p>\n",
       "</div>"
      ],
      "text/plain": [
       "          Brand  Store Number                         Store Name  \\\n",
       "3062  Starbucks  48862-265746          Changshu Fangta Street-GF   \n",
       "3063  Starbucks  48238-258108  CZ Wujin Kaia Lomo Plaza Store-GF   \n",
       "3064  Starbucks  26608-244608        Nanjing Sun Palace Store-GF   \n",
       "3065  Starbucks  48586-263487  NT Haimen Zhongnan Plaza Store-GF   \n",
       "3066  Starbucks  49404-268987    NT Rudong wenfeng Dept Store-GF   \n",
       "...         ...           ...                                ...   \n",
       "3411  Starbucks  24743-238567                          镇江丹阳吾悦广场店   \n",
       "3412  Starbucks  24065-234944                            丹阳金鹰天地店   \n",
       "3413  Starbucks  24740-238713                         泰州靖江泰和国际城店   \n",
       "3414  Starbucks  24336-236945                         泰州靖江文峰大世界店   \n",
       "3415  Starbucks  47324-257587                          扬州高邮世贸广场店   \n",
       "\n",
       "     Ownership Type                               Street Address       City  \\\n",
       "3062  Joint Venture              Fangta Street and HeDong Street   Changshu   \n",
       "3063  Joint Venture  Huayuan St & Yongsheng Road, Wujin District  Changzhou   \n",
       "3064  Joint Venture                    No.3 yangguang Rd, Xuanwu    Nanjing   \n",
       "3065  Joint Venture    Zhangjian Avenue&Nanhai Road, Haimen City    Nantong   \n",
       "3066  Joint Venture              No.19 North Qingyuan Rd, Rudong    Nantong   \n",
       "...             ...                                          ...        ...   \n",
       "3411  Joint Venture                     丹阳市开发区, 新民东路99号10#-102铺位        镇江市   \n",
       "3412  Joint Venture                                  丹阳市, 金鹰天地广场        镇江市   \n",
       "3413  Joint Venture                           车站路77号泰和国际城C1-01铺位        靖江市   \n",
       "3414  Joint Venture                  人民北路1号文峰大世界1层1-2单元, 通湖路333号        靖江市   \n",
       "3415  Joint Venture            江苏省扬州高邮市, 世贸广场一层A005/A006/A1015铺位        高邮市   \n",
       "\n",
       "     State/Province Country Postcode Phone Number                Timezone  \\\n",
       "3062             32      CN   215500          NaN  GMT+08:00 Asia/Beijing   \n",
       "3063             32      CN   213000          NaN  GMT+08:00 Asia/Beijing   \n",
       "3064             32      CN   210000          NaN  GMT+08:00 Asia/Beijing   \n",
       "3065             32      CN   226000          NaN  GMT+08:00 Asia/Beijing   \n",
       "3066             32      CN   226000          NaN  GMT+08:00 Asia/Beijing   \n",
       "...             ...     ...      ...          ...                     ...   \n",
       "3411             32      CN      NaN          NaN  GMT+08:00 Asia/Beijing   \n",
       "3412             32      CN   212300          NaN  GMT+08:00 Asia/Beijing   \n",
       "3413             32      CN   214500          NaN  GMT+08:00 Asia/Beijing   \n",
       "3414             32      CN   214500          NaN  GMT+08:00 Asia/Beijing   \n",
       "3415             32      CN   225600          NaN  GMT+08:00 Asia/Beijing   \n",
       "\n",
       "      Longitude  Latitude  \n",
       "3062     120.75     31.64  \n",
       "3063     119.95     31.69  \n",
       "3064     118.81     32.06  \n",
       "3065     121.17     31.88  \n",
       "3066     121.18     32.31  \n",
       "...         ...       ...  \n",
       "3411     119.61     32.00  \n",
       "3412     119.58     31.99  \n",
       "3413     120.26     32.01  \n",
       "3414     120.27     32.02  \n",
       "3415     119.46     32.79  \n",
       "\n",
       "[354 rows x 13 columns]"
      ]
     },
     "execution_count": 49,
     "metadata": {},
     "output_type": "execute_result"
    }
   ],
   "source": [
    "country_cn[country_cn['State/Province']=='32']"
   ]
  },
  {
   "cell_type": "markdown",
   "metadata": {},
   "source": [
    "# 设置索引"
   ]
  },
  {
   "cell_type": "code",
   "execution_count": 59,
   "metadata": {},
   "outputs": [
    {
     "data": {
      "text/html": [
       "<div>\n",
       "<style scoped>\n",
       "    .dataframe tbody tr th:only-of-type {\n",
       "        vertical-align: middle;\n",
       "    }\n",
       "\n",
       "    .dataframe tbody tr th {\n",
       "        vertical-align: top;\n",
       "    }\n",
       "\n",
       "    .dataframe thead th {\n",
       "        text-align: right;\n",
       "    }\n",
       "</style>\n",
       "<table border=\"1\" class=\"dataframe\">\n",
       "  <thead>\n",
       "    <tr style=\"text-align: right;\">\n",
       "      <th></th>\n",
       "      <th>a</th>\n",
       "      <th>b</th>\n",
       "      <th>c</th>\n",
       "      <th>d</th>\n",
       "    </tr>\n",
       "  </thead>\n",
       "  <tbody>\n",
       "    <tr>\n",
       "      <th>0</th>\n",
       "      <td>0</td>\n",
       "      <td>7</td>\n",
       "      <td>one</td>\n",
       "      <td>h</td>\n",
       "    </tr>\n",
       "    <tr>\n",
       "      <th>1</th>\n",
       "      <td>1</td>\n",
       "      <td>6</td>\n",
       "      <td>one</td>\n",
       "      <td>j</td>\n",
       "    </tr>\n",
       "    <tr>\n",
       "      <th>2</th>\n",
       "      <td>2</td>\n",
       "      <td>5</td>\n",
       "      <td>one</td>\n",
       "      <td>k</td>\n",
       "    </tr>\n",
       "    <tr>\n",
       "      <th>3</th>\n",
       "      <td>3</td>\n",
       "      <td>4</td>\n",
       "      <td>two</td>\n",
       "      <td>l</td>\n",
       "    </tr>\n",
       "    <tr>\n",
       "      <th>4</th>\n",
       "      <td>4</td>\n",
       "      <td>3</td>\n",
       "      <td>two</td>\n",
       "      <td>m</td>\n",
       "    </tr>\n",
       "    <tr>\n",
       "      <th>5</th>\n",
       "      <td>5</td>\n",
       "      <td>2</td>\n",
       "      <td>two</td>\n",
       "      <td>n</td>\n",
       "    </tr>\n",
       "    <tr>\n",
       "      <th>6</th>\n",
       "      <td>6</td>\n",
       "      <td>1</td>\n",
       "      <td>two</td>\n",
       "      <td>o</td>\n",
       "    </tr>\n",
       "  </tbody>\n",
       "</table>\n",
       "</div>"
      ],
      "text/plain": [
       "   a  b    c  d\n",
       "0  0  7  one  h\n",
       "1  1  6  one  j\n",
       "2  2  5  one  k\n",
       "3  3  4  two  l\n",
       "4  4  3  two  m\n",
       "5  5  2  two  n\n",
       "6  6  1  two  o"
      ]
     },
     "execution_count": 59,
     "metadata": {},
     "output_type": "execute_result"
    }
   ],
   "source": [
    "a = pd.DataFrame({'a': range(7),'b': range(7, 0, -1),\n",
    "                  'c': ['one','one','one','two','two','two', 'two'],\n",
    "                  'd': list(\"hjklmno\")})\n",
    "a"
   ]
  },
  {
   "cell_type": "code",
   "execution_count": 60,
   "metadata": {},
   "outputs": [
    {
     "name": "stdout",
     "output_type": "stream",
     "text": [
      "   a  b    c  d\n",
      "0  0  7  one  h\n",
      "1  1  6  one  j\n",
      "2  2  5  one  k\n",
      "3  3  4  two  l\n",
      "4  4  3  two  m\n",
      "5  5  2  two  n\n",
      "6  6  1  two  o\n",
      "   a  b    c  d\n",
      "a  0  7  one  h\n",
      "b  1  6  one  j\n",
      "c  2  5  one  k\n",
      "d  3  4  two  l\n",
      "e  4  3  two  m\n",
      "f  5  2  two  n\n",
      "g  6  1  two  o\n"
     ]
    }
   ],
   "source": [
    "c=a.copy()\n",
    "a.index=list('abcdefg')  #a的索引变了\n",
    "print(c)\n",
    "print(a)\n",
    "# b=a.reindex(list('abcdefg'))  #返回一个新的df，索引是设置了a的索引后，a索引不变\n",
    "# print(a)\n",
    "# b"
   ]
  },
  {
   "cell_type": "code",
   "execution_count": 63,
   "metadata": {
    "scrolled": true
   },
   "outputs": [
    {
     "name": "stdout",
     "output_type": "stream",
     "text": [
      "   a  b    c  d\n",
      "a  0  7  one  h\n",
      "b  1  6  one  j\n",
      "c  2  5  one  k\n",
      "d  3  4  two  l\n",
      "e  4  3  two  m\n",
      "f  5  2  two  n\n",
      "g  6  1  two  o\n",
      "       a  b\n",
      "c   d      \n",
      "one h  0  7\n",
      "    j  1  6\n",
      "    k  2  5\n",
      "two l  3  4\n",
      "    m  4  3\n",
      "    n  5  2\n",
      "    o  6  1\n"
     ]
    },
    {
     "data": {
      "text/html": [
       "<div>\n",
       "<style scoped>\n",
       "    .dataframe tbody tr th:only-of-type {\n",
       "        vertical-align: middle;\n",
       "    }\n",
       "\n",
       "    .dataframe tbody tr th {\n",
       "        vertical-align: top;\n",
       "    }\n",
       "\n",
       "    .dataframe thead th {\n",
       "        text-align: right;\n",
       "    }\n",
       "</style>\n",
       "<table border=\"1\" class=\"dataframe\">\n",
       "  <thead>\n",
       "    <tr style=\"text-align: right;\">\n",
       "      <th></th>\n",
       "      <th>a</th>\n",
       "      <th>b</th>\n",
       "      <th>c</th>\n",
       "      <th>d</th>\n",
       "    </tr>\n",
       "  </thead>\n",
       "  <tbody>\n",
       "    <tr>\n",
       "      <th>a</th>\n",
       "      <td>0</td>\n",
       "      <td>7</td>\n",
       "      <td>one</td>\n",
       "      <td>h</td>\n",
       "    </tr>\n",
       "    <tr>\n",
       "      <th>b</th>\n",
       "      <td>1</td>\n",
       "      <td>6</td>\n",
       "      <td>one</td>\n",
       "      <td>j</td>\n",
       "    </tr>\n",
       "    <tr>\n",
       "      <th>c</th>\n",
       "      <td>2</td>\n",
       "      <td>5</td>\n",
       "      <td>one</td>\n",
       "      <td>k</td>\n",
       "    </tr>\n",
       "    <tr>\n",
       "      <th>d</th>\n",
       "      <td>3</td>\n",
       "      <td>4</td>\n",
       "      <td>two</td>\n",
       "      <td>l</td>\n",
       "    </tr>\n",
       "    <tr>\n",
       "      <th>e</th>\n",
       "      <td>4</td>\n",
       "      <td>3</td>\n",
       "      <td>two</td>\n",
       "      <td>m</td>\n",
       "    </tr>\n",
       "    <tr>\n",
       "      <th>f</th>\n",
       "      <td>5</td>\n",
       "      <td>2</td>\n",
       "      <td>two</td>\n",
       "      <td>n</td>\n",
       "    </tr>\n",
       "    <tr>\n",
       "      <th>g</th>\n",
       "      <td>6</td>\n",
       "      <td>1</td>\n",
       "      <td>two</td>\n",
       "      <td>o</td>\n",
       "    </tr>\n",
       "  </tbody>\n",
       "</table>\n",
       "</div>"
      ],
      "text/plain": [
       "   a  b    c  d\n",
       "a  0  7  one  h\n",
       "b  1  6  one  j\n",
       "c  2  5  one  k\n",
       "d  3  4  two  l\n",
       "e  4  3  two  m\n",
       "f  5  2  two  n\n",
       "g  6  1  two  o"
      ]
     },
     "execution_count": 63,
     "metadata": {},
     "output_type": "execute_result"
    }
   ],
   "source": [
    "print(a)\n",
    "print(a.set_index(['c','d']))#a没变，返回修改后的df\n",
    "a"
   ]
  },
  {
   "cell_type": "markdown",
   "metadata": {},
   "source": [
    "### 时间序列"
   ]
  },
  {
   "cell_type": "code",
   "execution_count": 5,
   "metadata": {},
   "outputs": [
    {
     "data": {
      "text/plain": [
       "DatetimeIndex(['2019-01-01', '2019-01-02', '2019-01-03', '2019-01-04',\n",
       "               '2019-01-05', '2019-01-06', '2019-01-07', '2019-01-08',\n",
       "               '2019-01-09', '2019-01-10',\n",
       "               ...\n",
       "               '2019-09-15', '2019-09-16', '2019-09-17', '2019-09-18',\n",
       "               '2019-09-19', '2019-09-20', '2019-09-21', '2019-09-22',\n",
       "               '2019-09-23', '2019-09-24'],\n",
       "              dtype='datetime64[ns]', length=267, freq='D')"
      ]
     },
     "execution_count": 5,
     "metadata": {},
     "output_type": "execute_result"
    }
   ],
   "source": [
    "pd.date_range(start=\"20190101\", end=\"20190924\")"
   ]
  },
  {
   "cell_type": "code",
   "execution_count": 65,
   "metadata": {},
   "outputs": [
    {
     "data": {
      "text/plain": [
       "DatetimeIndex(['2021-07-12', '2021-07-13', '2021-07-14', '2021-07-15',\n",
       "               '2021-07-16', '2021-07-19', '2021-07-20', '2021-07-21',\n",
       "               '2021-07-22', '2021-07-23'],\n",
       "              dtype='datetime64[ns]', freq='B')"
      ]
     },
     "execution_count": 65,
     "metadata": {},
     "output_type": "execute_result"
    }
   ],
   "source": [
    "pd.date_range(start=\"20210712\",periods=10,freq='B')"
   ]
  },
  {
   "cell_type": "code",
   "execution_count": 66,
   "metadata": {},
   "outputs": [
    {
     "data": {
      "text/plain": [
       "DatetimeIndex(['2019-01-31', '2019-02-28', '2019-03-31', '2019-04-30',\n",
       "               '2019-05-31', '2019-06-30', '2019-07-31', '2019-08-31',\n",
       "               '2019-09-30', '2019-10-31'],\n",
       "              dtype='datetime64[ns]', freq='M')"
      ]
     },
     "execution_count": 66,
     "metadata": {},
     "output_type": "execute_result"
    }
   ],
   "source": [
    "pd.date_range(start=\"20190101\",periods=10,freq='M')"
   ]
  },
  {
   "cell_type": "code",
   "execution_count": 67,
   "metadata": {},
   "outputs": [
    {
     "data": {
      "text/plain": [
       "DatetimeIndex(['2019-01-01', '2019-02-01', '2019-03-01', '2019-04-01',\n",
       "               '2019-05-01', '2019-06-01', '2019-07-01', '2019-08-01',\n",
       "               '2019-09-01', '2019-10-01'],\n",
       "              dtype='datetime64[ns]', freq='MS')"
      ]
     },
     "execution_count": 67,
     "metadata": {},
     "output_type": "execute_result"
    }
   ],
   "source": [
    "pd.date_range(start=\"20190101\",periods=10,freq='MS')"
   ]
  },
  {
   "cell_type": "code",
   "execution_count": 17,
   "metadata": {},
   "outputs": [
    {
     "data": {
      "text/plain": [
       "DatetimeIndex(['2021-04-25', '2021-05-02', '2021-05-09', '2021-05-16',\n",
       "               '2021-05-23', '2021-05-30', '2021-06-06', '2021-06-13',\n",
       "               '2021-06-20', '2021-06-27'],\n",
       "              dtype='datetime64[ns]', freq='W-SUN')"
      ]
     },
     "execution_count": 17,
     "metadata": {},
     "output_type": "execute_result"
    }
   ],
   "source": [
    "pd.date_range(start=\"20210421\",periods=10,freq='W')  #拿每周的周日生成"
   ]
  },
  {
   "cell_type": "code",
   "execution_count": 69,
   "metadata": {},
   "outputs": [
    {
     "data": {
      "text/plain": [
       "0       3/11/2000\n",
       "1       3/12/2000\n",
       "2       3/13/2000\n",
       "3       3/11/2000\n",
       "4       3/12/2000\n",
       "          ...    \n",
       "2995    3/12/2000\n",
       "2996    3/13/2000\n",
       "2997    3/11/2000\n",
       "2998    3/12/2000\n",
       "2999    3/13/2000\n",
       "Length: 3000, dtype: object"
      ]
     },
     "execution_count": 69,
     "metadata": {},
     "output_type": "execute_result"
    }
   ],
   "source": [
    "s = pd.Series(['3/11/2000', '3/12/2000', '3/13/2000'] * 1000)\n",
    "s"
   ]
  },
  {
   "cell_type": "code",
   "execution_count": 71,
   "metadata": {},
   "outputs": [
    {
     "name": "stdout",
     "output_type": "stream",
     "text": [
      "1.89 ms ± 199 µs per loop (mean ± std. dev. of 7 runs, 100 loops each)\n"
     ]
    }
   ],
   "source": [
    "%timeit pd.to_datetime(s, infer_datetime_format=True)  "
   ]
  },
  {
   "cell_type": "code",
   "execution_count": 77,
   "metadata": {},
   "outputs": [
    {
     "name": "stdout",
     "output_type": "stream",
     "text": [
      "timeStamp\n",
      "2015-12-31    3898\n",
      "2016-01-31    6063\n",
      "2016-02-29    5413\n",
      "2016-03-31    5832\n",
      "2016-04-30    5684\n",
      "2016-05-31    5730\n",
      "2016-06-30    5720\n",
      "2016-07-31    6029\n",
      "2016-08-31    6005\n",
      "2016-09-30    5750\n",
      "2016-10-31    6039\n",
      "2016-11-30    5838\n",
      "2016-12-31    6024\n",
      "2017-01-31    6082\n",
      "2017-02-28    5417\n",
      "2017-03-31    5913\n",
      "2017-04-30    5780\n",
      "2017-05-31    5948\n",
      "2017-06-30    6030\n",
      "2017-07-31    5974\n",
      "2017-08-31    5882\n",
      "2017-09-30    3789\n",
      "Freq: M, Name: title, dtype: int64\n",
      "DatetimeIndex(['2015-12-31', '2016-01-31', '2016-02-29', '2016-03-31',\n",
      "               '2016-04-30', '2016-05-31', '2016-06-30', '2016-07-31',\n",
      "               '2016-08-31', '2016-09-30', '2016-10-31', '2016-11-30',\n",
      "               '2016-12-31', '2017-01-31', '2017-02-28', '2017-03-31',\n",
      "               '2017-04-30', '2017-05-31', '2017-06-30', '2017-07-31',\n",
      "               '2017-08-31', '2017-09-30'],\n",
      "              dtype='datetime64[ns]', name='timeStamp', freq='M')\n",
      "timeStamp\n",
      "2015-12-31    1095\n",
      "2016-01-31    1904\n",
      "2016-02-29    1868\n",
      "2016-03-31    1589\n",
      "2016-04-30    1717\n",
      "2016-05-31    1573\n",
      "2016-06-30    1787\n",
      "2016-07-31    1898\n",
      "2016-08-31    1907\n",
      "2016-09-30    1793\n",
      "2016-10-31    1930\n",
      "2016-11-30    1765\n",
      "2016-12-31    1846\n",
      "2017-01-31    1658\n",
      "2017-02-28    1462\n",
      "2017-03-31    1634\n",
      "2017-04-30    1614\n",
      "2017-05-31    1670\n",
      "2017-06-30    1986\n",
      "2017-07-31    1754\n",
      "2017-08-31    1862\n",
      "2017-09-30    1120\n",
      "Freq: M, Name: title, dtype: int64\n",
      "DatetimeIndex(['2015-12-31', '2016-01-31', '2016-02-29', '2016-03-31',\n",
      "               '2016-04-30', '2016-05-31', '2016-06-30', '2016-07-31',\n",
      "               '2016-08-31', '2016-09-30', '2016-10-31', '2016-11-30',\n",
      "               '2016-12-31', '2017-01-31', '2017-02-28', '2017-03-31',\n",
      "               '2017-04-30', '2017-05-31', '2017-06-30', '2017-07-31',\n",
      "               '2017-08-31', '2017-09-30'],\n",
      "              dtype='datetime64[ns]', name='timeStamp', freq='M')\n",
      "timeStamp\n",
      "2015-12-31    2923\n",
      "2016-01-31    5129\n",
      "2016-02-29    4115\n",
      "2016-03-31    3638\n",
      "2016-04-30    3886\n",
      "2016-05-31    4071\n",
      "2016-06-30    4225\n",
      "2016-07-31    4161\n",
      "2016-08-31    3992\n",
      "2016-09-30    4126\n",
      "2016-10-31    4533\n",
      "2016-11-30    4488\n",
      "2016-12-31    4292\n",
      "2017-01-31    3865\n",
      "2017-02-28    3388\n",
      "2017-03-31    4137\n",
      "2017-04-30    3662\n",
      "2017-05-31    4101\n",
      "2017-06-30    4317\n",
      "2017-07-31    4040\n",
      "2017-08-31    4009\n",
      "2017-09-30    2367\n",
      "Freq: M, Name: title, dtype: int64\n",
      "DatetimeIndex(['2015-12-31', '2016-01-31', '2016-02-29', '2016-03-31',\n",
      "               '2016-04-30', '2016-05-31', '2016-06-30', '2016-07-31',\n",
      "               '2016-08-31', '2016-09-30', '2016-10-31', '2016-11-30',\n",
      "               '2016-12-31', '2017-01-31', '2017-02-28', '2017-03-31',\n",
      "               '2017-04-30', '2017-05-31', '2017-06-30', '2017-07-31',\n",
      "               '2017-08-31', '2017-09-30'],\n",
      "              dtype='datetime64[ns]', name='timeStamp', freq='M')\n"
     ]
    },
    {
     "data": {
      "image/png": "[encoded data removed]",
      "text/plain": [
       "<Figure size 1600x640 with 1 Axes>"
      ]
     },
     "metadata": {
      "needs_background": "light"
     },
     "output_type": "display_data"
    }
   ],
   "source": [
    "from matplotlib import pyplot as plt\n",
    "\n",
    "# 把时间字符串转为时间类型设置为索引\n",
    "df = pd.read_csv(\"./911.csv\")\n",
    "df[\"timeStamp\"] = pd.to_datetime(df[\"timeStamp\"])\n",
    "\n",
    "# 添加列，表示分类\n",
    "temp_list = df[\"title\"].str.split(\": \").tolist()\n",
    "cate_list = [i[0] for i in temp_list]\n",
    "# print(cate_list)\n",
    "# print(np.array(cate_list).reshape((df.shape[0], 1)))\n",
    "df[\"cate\"] = pd.DataFrame(np.array(cate_list).reshape((df.shape[0], 1)))  #添加一列\n",
    "\n",
    "df.set_index(\"timeStamp\", inplace=True)\n",
    "\n",
    "# print(df.head(10))\n",
    "\n",
    "plt.figure(figsize=(20, 8), dpi=80)\n",
    "\n",
    "# 分组\n",
    "for group_name, group_data in df.groupby(by=\"cate\"):\n",
    "    # 对不同的分类都进行绘图\n",
    "    count_by_month = group_data.resample(\"M\").count()[\"title\"]  #降采样\n",
    "    print(count_by_month)\n",
    "    # 画图\n",
    "    _x = count_by_month.index\n",
    "    print(_x)\n",
    "    _y = count_by_month.values\n",
    "\n",
    "    _x = [i.strftime(\"%Y%m%d\") for i in _x]  #变年月日格式\n",
    "\n",
    "    plt.plot(_x, _y, label=group_name)\n",
    "\n",
    "plt.xticks(range(len(_x)), _x, rotation=45)\n",
    "plt.legend(loc=\"best\")\n",
    "plt.show()"
   ]
  },
  {
   "cell_type": "code",
   "execution_count": 80,
   "metadata": {},
   "outputs": [
    {
     "name": "stdout",
     "output_type": "stream",
     "text": [
      "   No  year  month  day  hour  season  PM_Dongsi  PM_Dongsihuan  \\\n",
      "0   1  2010      1    1     0       4        NaN            NaN   \n",
      "1   2  2010      1    1     1       4        NaN            NaN   \n",
      "2   3  2010      1    1     2       4        NaN            NaN   \n",
      "3   4  2010      1    1     3       4        NaN            NaN   \n",
      "4   5  2010      1    1     4       4        NaN            NaN   \n",
      "5   6  2010      1    1     5       4        NaN            NaN   \n",
      "6   7  2010      1    1     6       4        NaN            NaN   \n",
      "7   8  2010      1    1     7       4        NaN            NaN   \n",
      "8   9  2010      1    1     8       4        NaN            NaN   \n",
      "9  10  2010      1    1     9       4        NaN            NaN   \n",
      "\n",
      "   PM_Nongzhanguan  PM_US Post  DEWP  HUMI    PRES  TEMP cbwd    Iws  \\\n",
      "0              NaN         NaN -21.0  43.0  1021.0 -11.0   NW   1.79   \n",
      "1              NaN         NaN -21.0  47.0  1020.0 -12.0   NW   4.92   \n",
      "2              NaN         NaN -21.0  43.0  1019.0 -11.0   NW   6.71   \n",
      "3              NaN         NaN -21.0  55.0  1019.0 -14.0   NW   9.84   \n",
      "4              NaN         NaN -20.0  51.0  1018.0 -12.0   NW  12.97   \n",
      "5              NaN         NaN -19.0  47.0  1017.0 -10.0   NW  16.10   \n",
      "6              NaN         NaN -19.0  44.0  1017.0  -9.0   NW  19.23   \n",
      "7              NaN         NaN -19.0  44.0  1017.0  -9.0   NW  21.02   \n",
      "8              NaN         NaN -19.0  44.0  1017.0  -9.0   NW  24.15   \n",
      "9              NaN         NaN -20.0  37.0  1017.0  -8.0   NW  27.28   \n",
      "\n",
      "   precipitation  Iprec          datetime  \n",
      "0            0.0    0.0  2010-01-01 00:00  \n",
      "1            0.0    0.0  2010-01-01 01:00  \n",
      "2            0.0    0.0  2010-01-01 02:00  \n",
      "3            0.0    0.0  2010-01-01 03:00  \n",
      "4            0.0    0.0  2010-01-01 04:00  \n",
      "5            0.0    0.0  2010-01-01 05:00  \n",
      "6            0.0    0.0  2010-01-01 06:00  \n",
      "7            0.0    0.0  2010-01-01 07:00  \n",
      "8            0.0    0.0  2010-01-01 08:00  \n",
      "9            0.0    0.0  2010-01-01 09:00  \n"
     ]
    },
    {
     "data": {
      "text/plain": [
       "No                     int64\n",
       "year                   int64\n",
       "month                  int64\n",
       "day                    int64\n",
       "hour                   int64\n",
       "season                 int64\n",
       "PM_Dongsi            float64\n",
       "PM_Dongsihuan        float64\n",
       "PM_Nongzhanguan      float64\n",
       "PM_US Post           float64\n",
       "DEWP                 float64\n",
       "HUMI                 float64\n",
       "PRES                 float64\n",
       "TEMP                 float64\n",
       "cbwd                  object\n",
       "Iws                  float64\n",
       "precipitation        float64\n",
       "Iprec                float64\n",
       "datetime           period[H]\n",
       "dtype: object"
      ]
     },
     "execution_count": 80,
     "metadata": {},
     "output_type": "execute_result"
    }
   ],
   "source": [
    "file_path = \"./PM2.5/BeijingPM20100101_20151231.csv\"\n",
    "\n",
    "df = pd.read_csv(file_path)\n",
    "# print(df.head(10))\n",
    "\n",
    "# 把分开的时间字符串通过periodIndex的方法转化为pandas的时间类型\n",
    "period = pd.PeriodIndex(year=df[\"year\"], month=df[\"month\"], day=df[\"day\"],\n",
    "                        hour=df[\"hour\"], freq=\"H\")\n",
    "df[\"datetime\"] = period\n",
    "print(df.head(10))\n"
   ]
  },
  {
   "cell_type": "code",
   "execution_count": 85,
   "metadata": {},
   "outputs": [
    {
     "ename": "KeyError",
     "evalue": "\"None of ['datetime'] are in the columns\"",
     "output_type": "error",
     "traceback": [
      "\u001b[1;31m---------------------------------------------------------------------------\u001b[0m",
      "\u001b[1;31mKeyError\u001b[0m                                  Traceback (most recent call last)",
      "\u001b[1;32m<ipython-input-85-9f5521dffe05>\u001b[0m in \u001b[0;36m<module>\u001b[1;34m\u001b[0m\n\u001b[0;32m      1\u001b[0m \u001b[1;31m# 把datetime 设置为索引\u001b[0m\u001b[1;33m\u001b[0m\u001b[1;33m\u001b[0m\u001b[1;33m\u001b[0m\u001b[0m\n\u001b[1;32m----> 2\u001b[1;33m \u001b[0mdf\u001b[0m\u001b[1;33m.\u001b[0m\u001b[0mset_index\u001b[0m\u001b[1;33m(\u001b[0m\u001b[1;34m\"datetime\"\u001b[0m\u001b[1;33m,\u001b[0m \u001b[0minplace\u001b[0m\u001b[1;33m=\u001b[0m\u001b[1;32mTrue\u001b[0m\u001b[1;33m)\u001b[0m\u001b[1;33m\u001b[0m\u001b[1;33m\u001b[0m\u001b[0m\n\u001b[0m\u001b[0;32m      3\u001b[0m \u001b[1;33m\u001b[0m\u001b[0m\n\u001b[0;32m      4\u001b[0m \u001b[1;31m# 进行降采样\u001b[0m\u001b[1;33m\u001b[0m\u001b[1;33m\u001b[0m\u001b[1;33m\u001b[0m\u001b[0m\n\u001b[0;32m      5\u001b[0m \u001b[0mdf\u001b[0m \u001b[1;33m=\u001b[0m \u001b[0mdf\u001b[0m\u001b[1;33m.\u001b[0m\u001b[0mresample\u001b[0m\u001b[1;33m(\u001b[0m\u001b[1;34m\"7D\"\u001b[0m\u001b[1;33m)\u001b[0m\u001b[1;33m.\u001b[0m\u001b[0mmean\u001b[0m\u001b[1;33m(\u001b[0m\u001b[1;33m)\u001b[0m\u001b[1;33m\u001b[0m\u001b[1;33m\u001b[0m\u001b[0m\n",
      "\u001b[1;32mc:\\users\\administrator\\appdata\\local\\programs\\python\\python36\\lib\\site-packages\\pandas\\core\\frame.py\u001b[0m in \u001b[0;36mset_index\u001b[1;34m(self, keys, drop, append, inplace, verify_integrity)\u001b[0m\n\u001b[0;32m   4553\u001b[0m \u001b[1;33m\u001b[0m\u001b[0m\n\u001b[0;32m   4554\u001b[0m         \u001b[1;32mif\u001b[0m \u001b[0mmissing\u001b[0m\u001b[1;33m:\u001b[0m\u001b[1;33m\u001b[0m\u001b[1;33m\u001b[0m\u001b[0m\n\u001b[1;32m-> 4555\u001b[1;33m             \u001b[1;32mraise\u001b[0m \u001b[0mKeyError\u001b[0m\u001b[1;33m(\u001b[0m\u001b[1;34mf\"None of {missing} are in the columns\"\u001b[0m\u001b[1;33m)\u001b[0m\u001b[1;33m\u001b[0m\u001b[1;33m\u001b[0m\u001b[0m\n\u001b[0m\u001b[0;32m   4556\u001b[0m \u001b[1;33m\u001b[0m\u001b[0m\n\u001b[0;32m   4557\u001b[0m         \u001b[1;32mif\u001b[0m \u001b[0minplace\u001b[0m\u001b[1;33m:\u001b[0m\u001b[1;33m\u001b[0m\u001b[1;33m\u001b[0m\u001b[0m\n",
      "\u001b[1;31mKeyError\u001b[0m: \"None of ['datetime'] are in the columns\""
     ]
    }
   ],
   "source": [
    "# 把datetime 设置为索引\n",
    "df.set_index(\"datetime\", inplace=True)\n",
    "\n",
    "# 进行降采样\n",
    "df = df.resample(\"7D\").mean()\n",
    "print(df.head())\n"
   ]
  },
  {
   "cell_type": "code",
   "execution_count": 88,
   "metadata": {},
   "outputs": [
    {
     "data": {
      "text/plain": [
       "No                 52500.500000\n",
       "year                2015.000000\n",
       "month                 12.000000\n",
       "day                   28.000000\n",
       "hour                  11.500000\n",
       "season                 4.000000\n",
       "PM_Dongsi            206.271084\n",
       "PM_Dongsihuan        219.377358\n",
       "PM_Nongzhanguan      199.566265\n",
       "PM_US Post           209.244048\n",
       "DEWP                  -8.559524\n",
       "HUMI                  70.136905\n",
       "PRES                1029.934524\n",
       "TEMP                  -3.202381\n",
       "Iws                    8.713750\n",
       "precipitation          0.000000\n",
       "Iprec                  0.000000\n",
       "Name: 2015-12-25, dtype: float64"
      ]
     },
     "execution_count": 88,
     "metadata": {},
     "output_type": "execute_result"
    }
   ],
   "source": [
    "df.iloc[312]"
   ]
  },
  {
   "cell_type": "code",
   "execution_count": 91,
   "metadata": {},
   "outputs": [
    {
     "name": "stdout",
     "output_type": "stream",
     "text": [
      "datetime\n",
      "2013-01-11     65.333333\n",
      "2013-01-18    161.054217\n",
      "2013-01-25    224.006098\n",
      "2013-02-01     61.145570\n",
      "2013-02-08    110.478788\n",
      "                 ...    \n",
      "2014-11-07     51.617284\n",
      "2014-11-14    149.935065\n",
      "2014-11-21    142.590062\n",
      "2014-11-28     82.012346\n",
      "2014-12-05    105.767857\n",
      "Freq: 7D, Name: PM_Nongzhanguan, Length: 100, dtype: float64\n",
      "155 155\n"
     ]
    },
    {
     "data": {
      "image/png": "[encoded data removed]",
      "text/plain": [
       "<Figure size 1600x640 with 1 Axes>"
      ]
     },
     "metadata": {
      "needs_background": "light"
     },
     "output_type": "display_data"
    }
   ],
   "source": [
    "df= df.loc[:,[\"PM_US Post\",\"PM_Nongzhanguan\"]]\n",
    "df=df.dropna()\n",
    "data=df.loc[:,\"PM_US Post\"]\n",
    "data_china = df.loc[:,\"PM_Nongzhanguan\"]\n",
    "\n",
    "\n",
    "\n",
    "print(data_china.head(100))\n",
    "# 画图\n",
    "_x = data.index\n",
    "_x = [i.strftime(\"%Y%m%d\") for i in _x]\n",
    "_x_china = [i.strftime(\"%Y%m%d\") for i in data_china.index]\n",
    "print(len(_x), len(_x_china))\n",
    "_y = data.values\n",
    "_y_china = data_china.values\n",
    "\n",
    "plt.figure(figsize=(20, 8), dpi=80)\n",
    "\n",
    "plt.plot(range(len(_x)), _y, label=\"US_POST\", alpha=0.7)\n",
    "plt.plot(range(len(_x_china)), _y_china, label=\"CN_POST\", alpha=0.7)\n",
    "\n",
    "plt.xticks(range(0, len(_x_china), 10), list(_x_china)[::10], rotation=45)\n",
    "\n",
    "plt.legend(loc=\"best\")\n",
    "\n",
    "plt.show()"
   ]
  },
  {
   "cell_type": "markdown",
   "metadata": {},
   "source": [
    "### 分组运算"
   ]
  },
  {
   "cell_type": "code",
   "execution_count": 92,
   "metadata": {},
   "outputs": [
    {
     "name": "stdout",
     "output_type": "stream",
     "text": [
      "  key1   key2  data1  data2\n",
      "0    a    one      9      6\n",
      "1    b    one      6      4\n",
      "2    a    two      3      7\n",
      "3    b  three      9      2\n",
      "4    a    two      4      9\n",
      "5    b    two      5      7\n",
      "6    a    one      3      5\n",
      "7    a  three      9      8\n",
      "      sum_data1  sum_data2\n",
      "key1                      \n",
      "a            28         35\n",
      "b            20         13\n"
     ]
    }
   ],
   "source": [
    "dict_obj = {'key1' : ['a', 'b', 'a', 'b', \n",
    "                      'a', 'b', 'a', 'a'],\n",
    "            'key2' : ['one', 'one', 'two', 'three',\n",
    "                      'two', 'two', 'one', 'three'],\n",
    "            'data1': np.random.randint(1, 10, 8),\n",
    "            'data2': np.random.randint(1, 10, 8)}\n",
    "df_obj = pd.DataFrame(dict_obj)\n",
    "print(df_obj)\n",
    "\n",
    "# 按key1分组后，计算data1，data2的统计信息并附加到原始表格中，并添加表头前缀\n",
    "k1_sum = df_obj.groupby('key1').sum().add_prefix('sum_')\n",
    "print(k1_sum)"
   ]
  },
  {
   "cell_type": "code",
   "execution_count": 93,
   "metadata": {},
   "outputs": [
    {
     "data": {
      "text/html": [
       "<div>\n",
       "<style scoped>\n",
       "    .dataframe tbody tr th:only-of-type {\n",
       "        vertical-align: middle;\n",
       "    }\n",
       "\n",
       "    .dataframe tbody tr th {\n",
       "        vertical-align: top;\n",
       "    }\n",
       "\n",
       "    .dataframe thead th {\n",
       "        text-align: right;\n",
       "    }\n",
       "</style>\n",
       "<table border=\"1\" class=\"dataframe\">\n",
       "  <thead>\n",
       "    <tr style=\"text-align: right;\">\n",
       "      <th></th>\n",
       "      <th>key1</th>\n",
       "      <th>key2</th>\n",
       "      <th>data1</th>\n",
       "      <th>data2</th>\n",
       "    </tr>\n",
       "  </thead>\n",
       "  <tbody>\n",
       "    <tr>\n",
       "      <th>0</th>\n",
       "      <td>a</td>\n",
       "      <td>one</td>\n",
       "      <td>9</td>\n",
       "      <td>6</td>\n",
       "    </tr>\n",
       "    <tr>\n",
       "      <th>1</th>\n",
       "      <td>b</td>\n",
       "      <td>one</td>\n",
       "      <td>6</td>\n",
       "      <td>4</td>\n",
       "    </tr>\n",
       "    <tr>\n",
       "      <th>2</th>\n",
       "      <td>a</td>\n",
       "      <td>two</td>\n",
       "      <td>3</td>\n",
       "      <td>7</td>\n",
       "    </tr>\n",
       "    <tr>\n",
       "      <th>3</th>\n",
       "      <td>b</td>\n",
       "      <td>three</td>\n",
       "      <td>9</td>\n",
       "      <td>2</td>\n",
       "    </tr>\n",
       "    <tr>\n",
       "      <th>4</th>\n",
       "      <td>a</td>\n",
       "      <td>two</td>\n",
       "      <td>4</td>\n",
       "      <td>9</td>\n",
       "    </tr>\n",
       "    <tr>\n",
       "      <th>5</th>\n",
       "      <td>b</td>\n",
       "      <td>two</td>\n",
       "      <td>5</td>\n",
       "      <td>7</td>\n",
       "    </tr>\n",
       "    <tr>\n",
       "      <th>6</th>\n",
       "      <td>a</td>\n",
       "      <td>one</td>\n",
       "      <td>3</td>\n",
       "      <td>5</td>\n",
       "    </tr>\n",
       "    <tr>\n",
       "      <th>7</th>\n",
       "      <td>a</td>\n",
       "      <td>three</td>\n",
       "      <td>9</td>\n",
       "      <td>8</td>\n",
       "    </tr>\n",
       "  </tbody>\n",
       "</table>\n",
       "</div>"
      ],
      "text/plain": [
       "  key1   key2  data1  data2\n",
       "0    a    one      9      6\n",
       "1    b    one      6      4\n",
       "2    a    two      3      7\n",
       "3    b  three      9      2\n",
       "4    a    two      4      9\n",
       "5    b    two      5      7\n",
       "6    a    one      3      5\n",
       "7    a  three      9      8"
      ]
     },
     "execution_count": 93,
     "metadata": {},
     "output_type": "execute_result"
    }
   ],
   "source": [
    "df_obj"
   ]
  },
  {
   "cell_type": "code",
   "execution_count": 94,
   "metadata": {},
   "outputs": [
    {
     "data": {
      "text/html": [
       "<div>\n",
       "<style scoped>\n",
       "    .dataframe tbody tr th:only-of-type {\n",
       "        vertical-align: middle;\n",
       "    }\n",
       "\n",
       "    .dataframe tbody tr th {\n",
       "        vertical-align: top;\n",
       "    }\n",
       "\n",
       "    .dataframe thead th {\n",
       "        text-align: right;\n",
       "    }\n",
       "</style>\n",
       "<table border=\"1\" class=\"dataframe\">\n",
       "  <thead>\n",
       "    <tr style=\"text-align: right;\">\n",
       "      <th></th>\n",
       "      <th>key1</th>\n",
       "      <th>key2</th>\n",
       "      <th>data1</th>\n",
       "      <th>data2</th>\n",
       "      <th>sum_data1</th>\n",
       "      <th>sum_data2</th>\n",
       "    </tr>\n",
       "  </thead>\n",
       "  <tbody>\n",
       "    <tr>\n",
       "      <th>0</th>\n",
       "      <td>a</td>\n",
       "      <td>one</td>\n",
       "      <td>9</td>\n",
       "      <td>6</td>\n",
       "      <td>28</td>\n",
       "      <td>35</td>\n",
       "    </tr>\n",
       "    <tr>\n",
       "      <th>2</th>\n",
       "      <td>a</td>\n",
       "      <td>two</td>\n",
       "      <td>3</td>\n",
       "      <td>7</td>\n",
       "      <td>28</td>\n",
       "      <td>35</td>\n",
       "    </tr>\n",
       "    <tr>\n",
       "      <th>4</th>\n",
       "      <td>a</td>\n",
       "      <td>two</td>\n",
       "      <td>4</td>\n",
       "      <td>9</td>\n",
       "      <td>28</td>\n",
       "      <td>35</td>\n",
       "    </tr>\n",
       "    <tr>\n",
       "      <th>6</th>\n",
       "      <td>a</td>\n",
       "      <td>one</td>\n",
       "      <td>3</td>\n",
       "      <td>5</td>\n",
       "      <td>28</td>\n",
       "      <td>35</td>\n",
       "    </tr>\n",
       "    <tr>\n",
       "      <th>7</th>\n",
       "      <td>a</td>\n",
       "      <td>three</td>\n",
       "      <td>9</td>\n",
       "      <td>8</td>\n",
       "      <td>28</td>\n",
       "      <td>35</td>\n",
       "    </tr>\n",
       "    <tr>\n",
       "      <th>1</th>\n",
       "      <td>b</td>\n",
       "      <td>one</td>\n",
       "      <td>6</td>\n",
       "      <td>4</td>\n",
       "      <td>20</td>\n",
       "      <td>13</td>\n",
       "    </tr>\n",
       "    <tr>\n",
       "      <th>3</th>\n",
       "      <td>b</td>\n",
       "      <td>three</td>\n",
       "      <td>9</td>\n",
       "      <td>2</td>\n",
       "      <td>20</td>\n",
       "      <td>13</td>\n",
       "    </tr>\n",
       "    <tr>\n",
       "      <th>5</th>\n",
       "      <td>b</td>\n",
       "      <td>two</td>\n",
       "      <td>5</td>\n",
       "      <td>7</td>\n",
       "      <td>20</td>\n",
       "      <td>13</td>\n",
       "    </tr>\n",
       "  </tbody>\n",
       "</table>\n",
       "</div>"
      ],
      "text/plain": [
       "  key1   key2  data1  data2  sum_data1  sum_data2\n",
       "0    a    one      9      6         28         35\n",
       "2    a    two      3      7         28         35\n",
       "4    a    two      4      9         28         35\n",
       "6    a    one      3      5         28         35\n",
       "7    a  three      9      8         28         35\n",
       "1    b    one      6      4         20         13\n",
       "3    b  three      9      2         20         13\n",
       "5    b    two      5      7         20         13"
      ]
     },
     "execution_count": 94,
     "metadata": {},
     "output_type": "execute_result"
    }
   ],
   "source": [
    "#和mysql的join是一致的，on 连接条件\n",
    "k1_sum_merge = pd.merge(df_obj, k1_sum, left_on='key1', right_index=True)\n",
    "k1_sum_merge"
   ]
  },
  {
   "cell_type": "code",
   "execution_count": 41,
   "metadata": {},
   "outputs": [
    {
     "data": {
      "text/html": [
       "<div>\n",
       "<style scoped>\n",
       "    .dataframe tbody tr th:only-of-type {\n",
       "        vertical-align: middle;\n",
       "    }\n",
       "\n",
       "    .dataframe tbody tr th {\n",
       "        vertical-align: top;\n",
       "    }\n",
       "\n",
       "    .dataframe thead th {\n",
       "        text-align: right;\n",
       "    }\n",
       "</style>\n",
       "<table border=\"1\" class=\"dataframe\">\n",
       "  <thead>\n",
       "    <tr style=\"text-align: right;\">\n",
       "      <th></th>\n",
       "      <th>sum_key2</th>\n",
       "      <th>sum_data1</th>\n",
       "      <th>sum_data2</th>\n",
       "    </tr>\n",
       "  </thead>\n",
       "  <tbody>\n",
       "    <tr>\n",
       "      <th>0</th>\n",
       "      <td>onetwotwoonethree</td>\n",
       "      <td>23</td>\n",
       "      <td>24</td>\n",
       "    </tr>\n",
       "    <tr>\n",
       "      <th>1</th>\n",
       "      <td>onethreetwo</td>\n",
       "      <td>22</td>\n",
       "      <td>13</td>\n",
       "    </tr>\n",
       "    <tr>\n",
       "      <th>2</th>\n",
       "      <td>onetwotwoonethree</td>\n",
       "      <td>23</td>\n",
       "      <td>24</td>\n",
       "    </tr>\n",
       "    <tr>\n",
       "      <th>3</th>\n",
       "      <td>onethreetwo</td>\n",
       "      <td>22</td>\n",
       "      <td>13</td>\n",
       "    </tr>\n",
       "    <tr>\n",
       "      <th>4</th>\n",
       "      <td>onetwotwoonethree</td>\n",
       "      <td>23</td>\n",
       "      <td>24</td>\n",
       "    </tr>\n",
       "    <tr>\n",
       "      <th>5</th>\n",
       "      <td>onethreetwo</td>\n",
       "      <td>22</td>\n",
       "      <td>13</td>\n",
       "    </tr>\n",
       "    <tr>\n",
       "      <th>6</th>\n",
       "      <td>onetwotwoonethree</td>\n",
       "      <td>23</td>\n",
       "      <td>24</td>\n",
       "    </tr>\n",
       "    <tr>\n",
       "      <th>7</th>\n",
       "      <td>onetwotwoonethree</td>\n",
       "      <td>23</td>\n",
       "      <td>24</td>\n",
       "    </tr>\n",
       "  </tbody>\n",
       "</table>\n",
       "</div>"
      ],
      "text/plain": [
       "            sum_key2 sum_data1 sum_data2\n",
       "0  onetwotwoonethree        23        24\n",
       "1        onethreetwo        22        13\n",
       "2  onetwotwoonethree        23        24\n",
       "3        onethreetwo        22        13\n",
       "4  onetwotwoonethree        23        24\n",
       "5        onethreetwo        22        13\n",
       "6  onetwotwoonethree        23        24\n",
       "7  onetwotwoonethree        23        24"
      ]
     },
     "execution_count": 41,
     "metadata": {},
     "output_type": "execute_result"
    }
   ],
   "source": [
    "# 方法2，使用transform\n",
    "k1_sum_tf = df_obj.groupby('key1').transform(np.sum).add_prefix('sum_')\n",
    "k1_sum_tf\n",
    "# df_obj[k1_sum_tf.columns] = k1_sum_tf\n",
    "# print(df_obj)"
   ]
  },
  {
   "cell_type": "code",
   "execution_count": 95,
   "metadata": {},
   "outputs": [
    {
     "data": {
      "text/html": [
       "<div>\n",
       "<style scoped>\n",
       "    .dataframe tbody tr th:only-of-type {\n",
       "        vertical-align: middle;\n",
       "    }\n",
       "\n",
       "    .dataframe tbody tr th {\n",
       "        vertical-align: top;\n",
       "    }\n",
       "\n",
       "    .dataframe thead th {\n",
       "        text-align: right;\n",
       "    }\n",
       "</style>\n",
       "<table border=\"1\" class=\"dataframe\">\n",
       "  <thead>\n",
       "    <tr style=\"text-align: right;\">\n",
       "      <th></th>\n",
       "      <th>data1</th>\n",
       "      <th>data2</th>\n",
       "    </tr>\n",
       "    <tr>\n",
       "      <th>key1</th>\n",
       "      <th></th>\n",
       "      <th></th>\n",
       "    </tr>\n",
       "  </thead>\n",
       "  <tbody>\n",
       "    <tr>\n",
       "      <th>a</th>\n",
       "      <td>5.600000</td>\n",
       "      <td>7.000000</td>\n",
       "    </tr>\n",
       "    <tr>\n",
       "      <th>b</th>\n",
       "      <td>6.666667</td>\n",
       "      <td>4.333333</td>\n",
       "    </tr>\n",
       "  </tbody>\n",
       "</table>\n",
       "</div>"
      ],
      "text/plain": [
       "         data1     data2\n",
       "key1                    \n",
       "a     5.600000  7.000000\n",
       "b     6.666667  4.333333"
      ]
     },
     "execution_count": 95,
     "metadata": {},
     "output_type": "execute_result"
    }
   ],
   "source": [
    "df_obj.groupby('key1').mean()"
   ]
  },
  {
   "cell_type": "code",
   "execution_count": 98,
   "metadata": {},
   "outputs": [
    {
     "data": {
      "text/html": [
       "<div>\n",
       "<style scoped>\n",
       "    .dataframe tbody tr th:only-of-type {\n",
       "        vertical-align: middle;\n",
       "    }\n",
       "\n",
       "    .dataframe tbody tr th {\n",
       "        vertical-align: top;\n",
       "    }\n",
       "\n",
       "    .dataframe thead th {\n",
       "        text-align: right;\n",
       "    }\n",
       "</style>\n",
       "<table border=\"1\" class=\"dataframe\">\n",
       "  <thead>\n",
       "    <tr style=\"text-align: right;\">\n",
       "      <th></th>\n",
       "      <th>key1</th>\n",
       "      <th>key2</th>\n",
       "      <th>data1</th>\n",
       "      <th>data2</th>\n",
       "    </tr>\n",
       "  </thead>\n",
       "  <tbody>\n",
       "    <tr>\n",
       "      <th>0</th>\n",
       "      <td>a</td>\n",
       "      <td>one</td>\n",
       "      <td>9</td>\n",
       "      <td>6</td>\n",
       "    </tr>\n",
       "    <tr>\n",
       "      <th>1</th>\n",
       "      <td>b</td>\n",
       "      <td>one</td>\n",
       "      <td>6</td>\n",
       "      <td>4</td>\n",
       "    </tr>\n",
       "    <tr>\n",
       "      <th>2</th>\n",
       "      <td>a</td>\n",
       "      <td>two</td>\n",
       "      <td>3</td>\n",
       "      <td>7</td>\n",
       "    </tr>\n",
       "    <tr>\n",
       "      <th>3</th>\n",
       "      <td>b</td>\n",
       "      <td>three</td>\n",
       "      <td>9</td>\n",
       "      <td>2</td>\n",
       "    </tr>\n",
       "    <tr>\n",
       "      <th>4</th>\n",
       "      <td>a</td>\n",
       "      <td>two</td>\n",
       "      <td>4</td>\n",
       "      <td>9</td>\n",
       "    </tr>\n",
       "    <tr>\n",
       "      <th>5</th>\n",
       "      <td>b</td>\n",
       "      <td>two</td>\n",
       "      <td>5</td>\n",
       "      <td>7</td>\n",
       "    </tr>\n",
       "    <tr>\n",
       "      <th>6</th>\n",
       "      <td>a</td>\n",
       "      <td>one</td>\n",
       "      <td>3</td>\n",
       "      <td>5</td>\n",
       "    </tr>\n",
       "    <tr>\n",
       "      <th>7</th>\n",
       "      <td>a</td>\n",
       "      <td>three</td>\n",
       "      <td>9</td>\n",
       "      <td>8</td>\n",
       "    </tr>\n",
       "  </tbody>\n",
       "</table>\n",
       "</div>"
      ],
      "text/plain": [
       "  key1   key2  data1  data2\n",
       "0    a    one      9      6\n",
       "1    b    one      6      4\n",
       "2    a    two      3      7\n",
       "3    b  three      9      2\n",
       "4    a    two      4      9\n",
       "5    b    two      5      7\n",
       "6    a    one      3      5\n",
       "7    a  three      9      8"
      ]
     },
     "execution_count": 98,
     "metadata": {},
     "output_type": "execute_result"
    }
   ],
   "source": [
    "df_obj"
   ]
  },
  {
   "cell_type": "code",
   "execution_count": 99,
   "metadata": {},
   "outputs": [
    {
     "data": {
      "text/html": [
       "<div>\n",
       "<style scoped>\n",
       "    .dataframe tbody tr th:only-of-type {\n",
       "        vertical-align: middle;\n",
       "    }\n",
       "\n",
       "    .dataframe tbody tr th {\n",
       "        vertical-align: top;\n",
       "    }\n",
       "\n",
       "    .dataframe thead th {\n",
       "        text-align: right;\n",
       "    }\n",
       "</style>\n",
       "<table border=\"1\" class=\"dataframe\">\n",
       "  <thead>\n",
       "    <tr style=\"text-align: right;\">\n",
       "      <th></th>\n",
       "      <th>data1</th>\n",
       "      <th>data2</th>\n",
       "    </tr>\n",
       "  </thead>\n",
       "  <tbody>\n",
       "    <tr>\n",
       "      <th>0</th>\n",
       "      <td>5.600000</td>\n",
       "      <td>7.000000</td>\n",
       "    </tr>\n",
       "    <tr>\n",
       "      <th>1</th>\n",
       "      <td>6.666667</td>\n",
       "      <td>4.333333</td>\n",
       "    </tr>\n",
       "    <tr>\n",
       "      <th>2</th>\n",
       "      <td>5.600000</td>\n",
       "      <td>7.000000</td>\n",
       "    </tr>\n",
       "    <tr>\n",
       "      <th>3</th>\n",
       "      <td>6.666667</td>\n",
       "      <td>4.333333</td>\n",
       "    </tr>\n",
       "    <tr>\n",
       "      <th>4</th>\n",
       "      <td>5.600000</td>\n",
       "      <td>7.000000</td>\n",
       "    </tr>\n",
       "    <tr>\n",
       "      <th>5</th>\n",
       "      <td>6.666667</td>\n",
       "      <td>4.333333</td>\n",
       "    </tr>\n",
       "    <tr>\n",
       "      <th>6</th>\n",
       "      <td>5.600000</td>\n",
       "      <td>7.000000</td>\n",
       "    </tr>\n",
       "    <tr>\n",
       "      <th>7</th>\n",
       "      <td>5.600000</td>\n",
       "      <td>7.000000</td>\n",
       "    </tr>\n",
       "  </tbody>\n",
       "</table>\n",
       "</div>"
      ],
      "text/plain": [
       "      data1     data2\n",
       "0  5.600000  7.000000\n",
       "1  6.666667  4.333333\n",
       "2  5.600000  7.000000\n",
       "3  6.666667  4.333333\n",
       "4  5.600000  7.000000\n",
       "5  6.666667  4.333333\n",
       "6  5.600000  7.000000\n",
       "7  5.600000  7.000000"
      ]
     },
     "execution_count": 99,
     "metadata": {},
     "output_type": "execute_result"
    }
   ],
   "source": [
    "df_obj.groupby('key1').transform(np.mean)"
   ]
  },
  {
   "cell_type": "code",
   "execution_count": 100,
   "metadata": {},
   "outputs": [
    {
     "name": "stdout",
     "output_type": "stream",
     "text": [
      "      data1     data2\n",
      "0  3.400000 -1.000000\n",
      "1 -0.666667 -0.333333\n",
      "2 -2.600000  0.000000\n",
      "3  2.333333 -2.333333\n",
      "4 -1.600000  2.000000\n",
      "5 -1.666667  2.666667\n",
      "6 -2.600000 -2.000000\n",
      "7  3.400000  1.000000\n"
     ]
    }
   ],
   "source": [
    "def diff_mean(s):\n",
    "    \"\"\"\n",
    "        返回数据与均值的差值\n",
    "    \"\"\"\n",
    "    return s - s.mean()\n",
    "\n",
    "print(df_obj.groupby('key1').transform(diff_mean))"
   ]
  },
  {
   "cell_type": "markdown",
   "metadata": {},
   "source": [
    "# 星际争霸"
   ]
  },
  {
   "cell_type": "code",
   "execution_count": 101,
   "metadata": {},
   "outputs": [
    {
     "data": {
      "text/html": [
       "<div>\n",
       "<style scoped>\n",
       "    .dataframe tbody tr th:only-of-type {\n",
       "        vertical-align: middle;\n",
       "    }\n",
       "\n",
       "    .dataframe tbody tr th {\n",
       "        vertical-align: top;\n",
       "    }\n",
       "\n",
       "    .dataframe thead th {\n",
       "        text-align: right;\n",
       "    }\n",
       "</style>\n",
       "<table border=\"1\" class=\"dataframe\">\n",
       "  <thead>\n",
       "    <tr style=\"text-align: right;\">\n",
       "      <th></th>\n",
       "      <th>LeagueIndex</th>\n",
       "      <th>Age</th>\n",
       "      <th>HoursPerWeek</th>\n",
       "      <th>TotalHours</th>\n",
       "      <th>APM</th>\n",
       "    </tr>\n",
       "  </thead>\n",
       "  <tbody>\n",
       "    <tr>\n",
       "      <th>0</th>\n",
       "      <td>5</td>\n",
       "      <td>27.0</td>\n",
       "      <td>10.0</td>\n",
       "      <td>3000.0</td>\n",
       "      <td>143.7180</td>\n",
       "    </tr>\n",
       "    <tr>\n",
       "      <th>1</th>\n",
       "      <td>5</td>\n",
       "      <td>23.0</td>\n",
       "      <td>10.0</td>\n",
       "      <td>5000.0</td>\n",
       "      <td>129.2322</td>\n",
       "    </tr>\n",
       "    <tr>\n",
       "      <th>2</th>\n",
       "      <td>4</td>\n",
       "      <td>30.0</td>\n",
       "      <td>10.0</td>\n",
       "      <td>200.0</td>\n",
       "      <td>69.9612</td>\n",
       "    </tr>\n",
       "    <tr>\n",
       "      <th>3</th>\n",
       "      <td>3</td>\n",
       "      <td>19.0</td>\n",
       "      <td>20.0</td>\n",
       "      <td>400.0</td>\n",
       "      <td>107.6016</td>\n",
       "    </tr>\n",
       "    <tr>\n",
       "      <th>4</th>\n",
       "      <td>3</td>\n",
       "      <td>32.0</td>\n",
       "      <td>10.0</td>\n",
       "      <td>500.0</td>\n",
       "      <td>122.8908</td>\n",
       "    </tr>\n",
       "    <tr>\n",
       "      <th>...</th>\n",
       "      <td>...</td>\n",
       "      <td>...</td>\n",
       "      <td>...</td>\n",
       "      <td>...</td>\n",
       "      <td>...</td>\n",
       "    </tr>\n",
       "    <tr>\n",
       "      <th>3390</th>\n",
       "      <td>8</td>\n",
       "      <td>NaN</td>\n",
       "      <td>NaN</td>\n",
       "      <td>NaN</td>\n",
       "      <td>259.6296</td>\n",
       "    </tr>\n",
       "    <tr>\n",
       "      <th>3391</th>\n",
       "      <td>8</td>\n",
       "      <td>NaN</td>\n",
       "      <td>NaN</td>\n",
       "      <td>NaN</td>\n",
       "      <td>314.6700</td>\n",
       "    </tr>\n",
       "    <tr>\n",
       "      <th>3392</th>\n",
       "      <td>8</td>\n",
       "      <td>NaN</td>\n",
       "      <td>NaN</td>\n",
       "      <td>NaN</td>\n",
       "      <td>299.4282</td>\n",
       "    </tr>\n",
       "    <tr>\n",
       "      <th>3393</th>\n",
       "      <td>8</td>\n",
       "      <td>NaN</td>\n",
       "      <td>NaN</td>\n",
       "      <td>NaN</td>\n",
       "      <td>375.8664</td>\n",
       "    </tr>\n",
       "    <tr>\n",
       "      <th>3394</th>\n",
       "      <td>8</td>\n",
       "      <td>NaN</td>\n",
       "      <td>NaN</td>\n",
       "      <td>NaN</td>\n",
       "      <td>348.3576</td>\n",
       "    </tr>\n",
       "  </tbody>\n",
       "</table>\n",
       "<p>3395 rows × 5 columns</p>\n",
       "</div>"
      ],
      "text/plain": [
       "      LeagueIndex   Age  HoursPerWeek  TotalHours       APM\n",
       "0               5  27.0          10.0      3000.0  143.7180\n",
       "1               5  23.0          10.0      5000.0  129.2322\n",
       "2               4  30.0          10.0       200.0   69.9612\n",
       "3               3  19.0          20.0       400.0  107.6016\n",
       "4               3  32.0          10.0       500.0  122.8908\n",
       "...           ...   ...           ...         ...       ...\n",
       "3390            8   NaN           NaN         NaN  259.6296\n",
       "3391            8   NaN           NaN         NaN  314.6700\n",
       "3392            8   NaN           NaN         NaN  299.4282\n",
       "3393            8   NaN           NaN         NaN  375.8664\n",
       "3394            8   NaN           NaN         NaN  348.3576\n",
       "\n",
       "[3395 rows x 5 columns]"
      ]
     },
     "execution_count": 101,
     "metadata": {},
     "output_type": "execute_result"
    }
   ],
   "source": [
    "dataset_path = './starcraft.csv'\n",
    "df_data = pd.read_csv(dataset_path, usecols=['LeagueIndex', 'Age', 'HoursPerWeek', \n",
    "                                             'TotalHours', 'APM'])\n",
    "df_data"
   ]
  },
  {
   "cell_type": "code",
   "execution_count": 106,
   "metadata": {},
   "outputs": [
    {
     "name": "stdout",
     "output_type": "stream",
     "text": [
      "                  LeagueIndex   Age  HoursPerWeek  TotalHours       APM\n",
      "LeagueIndex                                                            \n",
      "1           2214            1  20.0          12.0       730.0  172.9530\n",
      "            2246            1  27.0           8.0       250.0  141.6282\n",
      "            1753            1  20.0          28.0       100.0  139.6362\n",
      "2           3062            2  20.0           6.0       100.0  179.6250\n",
      "            3229            2  16.0          24.0       110.0  156.7380\n",
      "            1520            2  29.0           6.0       250.0  151.6470\n",
      "3           1557            3  22.0           6.0       200.0  226.6554\n",
      "            484             3  19.0          42.0       450.0  220.0692\n",
      "            2883            3  16.0           8.0       800.0  208.9500\n",
      "4           2688            4  26.0          24.0       990.0  249.0210\n",
      "            1759            4  16.0           6.0        75.0  229.9122\n",
      "            2637            4  23.0          24.0       650.0  227.2272\n",
      "5           3277            5  18.0          16.0       950.0  372.6426\n",
      "            93              5  17.0          36.0       720.0  335.4990\n",
      "            202             5  37.0          14.0       800.0  327.7218\n",
      "6           734             6  16.0          28.0       730.0  389.8314\n",
      "            2746            6  16.0          28.0      4000.0  350.4114\n",
      "            1810            6  21.0          14.0       730.0  323.2506\n",
      "7           3127            7  23.0          42.0      2000.0  298.7952\n",
      "            104             7  21.0          24.0      1000.0  286.4538\n",
      "            1654            7  18.0          98.0       700.0  236.0316\n",
      "8           3393            8   NaN           NaN         NaN  375.8664\n",
      "            3373            8   NaN           NaN         NaN  364.8504\n",
      "            3372            8   NaN           NaN         NaN  355.3518\n"
     ]
    }
   ],
   "source": [
    "def top_n(df, n=3, column='APM'):\n",
    "    \"\"\"\n",
    "        返回每个分组按 column 的 top n 数据\n",
    "    \"\"\"\n",
    "    return df.sort_values(by=column, ascending=False)[:n]\n",
    "\n",
    "print(df_data.groupby('LeagueIndex').apply(top_n))"
   ]
  },
  {
   "cell_type": "code",
   "execution_count": 104,
   "metadata": {},
   "outputs": [
    {
     "data": {
      "text/html": [
       "<div>\n",
       "<style scoped>\n",
       "    .dataframe tbody tr th:only-of-type {\n",
       "        vertical-align: middle;\n",
       "    }\n",
       "\n",
       "    .dataframe tbody tr th {\n",
       "        vertical-align: top;\n",
       "    }\n",
       "\n",
       "    .dataframe thead th {\n",
       "        text-align: right;\n",
       "    }\n",
       "</style>\n",
       "<table border=\"1\" class=\"dataframe\">\n",
       "  <thead>\n",
       "    <tr style=\"text-align: right;\">\n",
       "      <th></th>\n",
       "      <th></th>\n",
       "      <th>LeagueIndex</th>\n",
       "      <th>Age</th>\n",
       "      <th>HoursPerWeek</th>\n",
       "      <th>TotalHours</th>\n",
       "      <th>APM</th>\n",
       "    </tr>\n",
       "    <tr>\n",
       "      <th>LeagueIndex</th>\n",
       "      <th></th>\n",
       "      <th></th>\n",
       "      <th></th>\n",
       "      <th></th>\n",
       "      <th></th>\n",
       "      <th></th>\n",
       "    </tr>\n",
       "  </thead>\n",
       "  <tbody>\n",
       "    <tr>\n",
       "      <th rowspan=\"2\" valign=\"top\">1</th>\n",
       "      <th>3146</th>\n",
       "      <td>1</td>\n",
       "      <td>40.0</td>\n",
       "      <td>12.0</td>\n",
       "      <td>150.0</td>\n",
       "      <td>38.5590</td>\n",
       "    </tr>\n",
       "    <tr>\n",
       "      <th>3040</th>\n",
       "      <td>1</td>\n",
       "      <td>39.0</td>\n",
       "      <td>10.0</td>\n",
       "      <td>500.0</td>\n",
       "      <td>29.8764</td>\n",
       "    </tr>\n",
       "    <tr>\n",
       "      <th rowspan=\"2\" valign=\"top\">2</th>\n",
       "      <th>920</th>\n",
       "      <td>2</td>\n",
       "      <td>43.0</td>\n",
       "      <td>10.0</td>\n",
       "      <td>730.0</td>\n",
       "      <td>86.0586</td>\n",
       "    </tr>\n",
       "    <tr>\n",
       "      <th>2437</th>\n",
       "      <td>2</td>\n",
       "      <td>41.0</td>\n",
       "      <td>4.0</td>\n",
       "      <td>200.0</td>\n",
       "      <td>54.2166</td>\n",
       "    </tr>\n",
       "    <tr>\n",
       "      <th rowspan=\"2\" valign=\"top\">3</th>\n",
       "      <th>1258</th>\n",
       "      <td>3</td>\n",
       "      <td>41.0</td>\n",
       "      <td>14.0</td>\n",
       "      <td>800.0</td>\n",
       "      <td>77.6472</td>\n",
       "    </tr>\n",
       "    <tr>\n",
       "      <th>2972</th>\n",
       "      <td>3</td>\n",
       "      <td>40.0</td>\n",
       "      <td>10.0</td>\n",
       "      <td>500.0</td>\n",
       "      <td>60.5970</td>\n",
       "    </tr>\n",
       "    <tr>\n",
       "      <th rowspan=\"2\" valign=\"top\">4</th>\n",
       "      <th>1696</th>\n",
       "      <td>4</td>\n",
       "      <td>44.0</td>\n",
       "      <td>6.0</td>\n",
       "      <td>500.0</td>\n",
       "      <td>89.5266</td>\n",
       "    </tr>\n",
       "    <tr>\n",
       "      <th>1729</th>\n",
       "      <td>4</td>\n",
       "      <td>39.0</td>\n",
       "      <td>8.0</td>\n",
       "      <td>500.0</td>\n",
       "      <td>86.7246</td>\n",
       "    </tr>\n",
       "    <tr>\n",
       "      <th rowspan=\"2\" valign=\"top\">5</th>\n",
       "      <th>202</th>\n",
       "      <td>5</td>\n",
       "      <td>37.0</td>\n",
       "      <td>14.0</td>\n",
       "      <td>800.0</td>\n",
       "      <td>327.7218</td>\n",
       "    </tr>\n",
       "    <tr>\n",
       "      <th>2745</th>\n",
       "      <td>5</td>\n",
       "      <td>37.0</td>\n",
       "      <td>18.0</td>\n",
       "      <td>1000.0</td>\n",
       "      <td>123.4098</td>\n",
       "    </tr>\n",
       "    <tr>\n",
       "      <th rowspan=\"2\" valign=\"top\">6</th>\n",
       "      <th>3069</th>\n",
       "      <td>6</td>\n",
       "      <td>31.0</td>\n",
       "      <td>8.0</td>\n",
       "      <td>800.0</td>\n",
       "      <td>133.1790</td>\n",
       "    </tr>\n",
       "    <tr>\n",
       "      <th>2706</th>\n",
       "      <td>6</td>\n",
       "      <td>31.0</td>\n",
       "      <td>8.0</td>\n",
       "      <td>700.0</td>\n",
       "      <td>66.9918</td>\n",
       "    </tr>\n",
       "    <tr>\n",
       "      <th rowspan=\"2\" valign=\"top\">7</th>\n",
       "      <th>2813</th>\n",
       "      <td>7</td>\n",
       "      <td>26.0</td>\n",
       "      <td>36.0</td>\n",
       "      <td>1300.0</td>\n",
       "      <td>188.5512</td>\n",
       "    </tr>\n",
       "    <tr>\n",
       "      <th>1992</th>\n",
       "      <td>7</td>\n",
       "      <td>26.0</td>\n",
       "      <td>24.0</td>\n",
       "      <td>1000.0</td>\n",
       "      <td>219.6690</td>\n",
       "    </tr>\n",
       "    <tr>\n",
       "      <th rowspan=\"2\" valign=\"top\">8</th>\n",
       "      <th>3340</th>\n",
       "      <td>8</td>\n",
       "      <td>NaN</td>\n",
       "      <td>NaN</td>\n",
       "      <td>NaN</td>\n",
       "      <td>189.7404</td>\n",
       "    </tr>\n",
       "    <tr>\n",
       "      <th>3341</th>\n",
       "      <td>8</td>\n",
       "      <td>NaN</td>\n",
       "      <td>NaN</td>\n",
       "      <td>NaN</td>\n",
       "      <td>287.8128</td>\n",
       "    </tr>\n",
       "  </tbody>\n",
       "</table>\n",
       "</div>"
      ],
      "text/plain": [
       "                  LeagueIndex   Age  HoursPerWeek  TotalHours       APM\n",
       "LeagueIndex                                                            \n",
       "1           3146            1  40.0          12.0       150.0   38.5590\n",
       "            3040            1  39.0          10.0       500.0   29.8764\n",
       "2           920             2  43.0          10.0       730.0   86.0586\n",
       "            2437            2  41.0           4.0       200.0   54.2166\n",
       "3           1258            3  41.0          14.0       800.0   77.6472\n",
       "            2972            3  40.0          10.0       500.0   60.5970\n",
       "4           1696            4  44.0           6.0       500.0   89.5266\n",
       "            1729            4  39.0           8.0       500.0   86.7246\n",
       "5           202             5  37.0          14.0       800.0  327.7218\n",
       "            2745            5  37.0          18.0      1000.0  123.4098\n",
       "6           3069            6  31.0           8.0       800.0  133.1790\n",
       "            2706            6  31.0           8.0       700.0   66.9918\n",
       "7           2813            7  26.0          36.0      1300.0  188.5512\n",
       "            1992            7  26.0          24.0      1000.0  219.6690\n",
       "8           3340            8   NaN           NaN         NaN  189.7404\n",
       "            3341            8   NaN           NaN         NaN  287.8128"
      ]
     },
     "execution_count": 104,
     "metadata": {},
     "output_type": "execute_result"
    }
   ],
   "source": [
    "# apply函数接收的参数会传入自定义的函数中\n",
    "df_data.groupby('LeagueIndex').apply(top_n, n=2, column='Age')"
   ]
  },
  {
   "cell_type": "code",
   "execution_count": 105,
   "metadata": {},
   "outputs": [
    {
     "name": "stdout",
     "output_type": "stream",
     "text": [
      "      LeagueIndex   Age  HoursPerWeek  TotalHours       APM\n",
      "2214            1  20.0          12.0       730.0  172.9530\n",
      "2246            1  27.0           8.0       250.0  141.6282\n",
      "1753            1  20.0          28.0       100.0  139.6362\n",
      "2196            1  24.0          18.0       200.0  106.7454\n",
      "547             1  19.0           8.0       300.0  104.4486\n",
      "1080            1  16.0          20.0        20.0  103.0962\n",
      "3062            2  20.0           6.0       100.0  179.6250\n",
      "3229            2  16.0          24.0       110.0  156.7380\n",
      "1520            2  29.0           6.0       250.0  151.6470\n",
      "3014            2  18.0          28.0       300.0  145.4184\n",
      "2598            2  16.0          24.0      1024.0  142.7670\n",
      "1679            2  26.0          30.0       150.0  134.1606\n",
      "1557            3  22.0           6.0       200.0  226.6554\n",
      "484             3  19.0          42.0       450.0  220.0692\n",
      "2883            3  16.0           8.0       800.0  208.9500\n",
      "3107            3  18.0          14.0       730.0  198.3906\n",
      "2672            3  24.0          28.0      1400.0  193.3422\n",
      "2135            3  16.0          12.0      1256.0  192.3036\n",
      "2688            4  26.0          24.0       990.0  249.0210\n",
      "1759            4  16.0           6.0        75.0  229.9122\n",
      "2637            4  23.0          24.0       650.0  227.2272\n",
      "24              4  17.0          14.0       500.0  216.6936\n",
      "3331            4  19.0          12.0       500.0  216.4782\n",
      "2007            4  21.0          12.0       600.0  216.4152\n",
      "3277            5  18.0          16.0       950.0  372.6426\n",
      "93              5  17.0          36.0       720.0  335.4990\n",
      "202             5  37.0          14.0       800.0  327.7218\n",
      "2956            5  22.0          10.0      2000.0  299.9994\n",
      "1368            5  24.0          16.0      1000.0  292.5408\n",
      "2318            5  19.0          28.0       850.0  289.4268\n",
      "734             6  16.0          28.0       730.0  389.8314\n",
      "2746            6  16.0          28.0      4000.0  350.4114\n",
      "1810            6  21.0          14.0       730.0  323.2506\n",
      "961             6  23.0          24.0      1400.0  311.0094\n",
      "3072            6  19.0          20.0       960.0  301.7682\n",
      "2506            6  20.0          28.0       700.0  298.5594\n",
      "3127            7  23.0          42.0      2000.0  298.7952\n",
      "104             7  21.0          24.0      1000.0  286.4538\n",
      "1654            7  18.0          98.0       700.0  236.0316\n",
      "698             7  19.0          28.0      1466.0  234.7176\n",
      "2302            7  23.0          36.0      1100.0  225.2022\n",
      "1992            7  26.0          24.0      1000.0  219.6690\n",
      "3393            8   NaN           NaN         NaN  375.8664\n",
      "3373            8   NaN           NaN         NaN  364.8504\n",
      "3372            8   NaN           NaN         NaN  355.3518\n",
      "3394            8   NaN           NaN         NaN  348.3576\n",
      "3352            8   NaN           NaN         NaN  340.1982\n",
      "3386            8   NaN           NaN         NaN  339.1524\n"
     ]
    }
   ],
   "source": [
    "print(df_data.groupby('LeagueIndex', group_keys=False).apply(top_n))"
   ]
  },
  {
   "cell_type": "markdown",
   "metadata": {},
   "source": [
    "# 10 数据清洗"
   ]
  },
  {
   "cell_type": "code",
   "execution_count": 122,
   "metadata": {},
   "outputs": [
    {
     "name": "stdout",
     "output_type": "stream",
     "text": [
      "  key  data1\n",
      "0   b      5\n",
      "1   b      2\n",
      "2   a      6\n",
      "3   c      8\n",
      "4   a      2\n",
      "5   a      2\n",
      "6   b      6\n",
      "--------------------------------------------------\n",
      "  key  data2\n",
      "0   a      7\n",
      "1   b      0\n",
      "2   d      3\n"
     ]
    }
   ],
   "source": [
    "import pandas as pd\n",
    "import numpy as np\n",
    "\n",
    "df_obj1 = pd.DataFrame({'key': ['b', 'b', 'a', 'c', 'a', 'a', 'b'],\n",
    "                        'data1' : np.random.randint(0,10,7)})\n",
    "df_obj2 = pd.DataFrame({'key': ['a', 'b' ,'d'],\n",
    "                        'data2' : np.random.randint(0,10,3)})\n",
    "\n",
    "print(df_obj1)\n",
    "print('-'*50)\n",
    "print(df_obj2)"
   ]
  },
  {
   "cell_type": "code",
   "execution_count": 109,
   "metadata": {},
   "outputs": [
    {
     "data": {
      "text/html": [
       "<div>\n",
       "<style scoped>\n",
       "    .dataframe tbody tr th:only-of-type {\n",
       "        vertical-align: middle;\n",
       "    }\n",
       "\n",
       "    .dataframe tbody tr th {\n",
       "        vertical-align: top;\n",
       "    }\n",
       "\n",
       "    .dataframe thead th {\n",
       "        text-align: right;\n",
       "    }\n",
       "</style>\n",
       "<table border=\"1\" class=\"dataframe\">\n",
       "  <thead>\n",
       "    <tr style=\"text-align: right;\">\n",
       "      <th></th>\n",
       "      <th>key</th>\n",
       "      <th>data1</th>\n",
       "      <th>data2</th>\n",
       "    </tr>\n",
       "  </thead>\n",
       "  <tbody>\n",
       "    <tr>\n",
       "      <th>0</th>\n",
       "      <td>b</td>\n",
       "      <td>3</td>\n",
       "      <td>9</td>\n",
       "    </tr>\n",
       "    <tr>\n",
       "      <th>1</th>\n",
       "      <td>b</td>\n",
       "      <td>2</td>\n",
       "      <td>9</td>\n",
       "    </tr>\n",
       "    <tr>\n",
       "      <th>2</th>\n",
       "      <td>b</td>\n",
       "      <td>9</td>\n",
       "      <td>9</td>\n",
       "    </tr>\n",
       "    <tr>\n",
       "      <th>3</th>\n",
       "      <td>a</td>\n",
       "      <td>6</td>\n",
       "      <td>1</td>\n",
       "    </tr>\n",
       "    <tr>\n",
       "      <th>4</th>\n",
       "      <td>a</td>\n",
       "      <td>0</td>\n",
       "      <td>1</td>\n",
       "    </tr>\n",
       "    <tr>\n",
       "      <th>5</th>\n",
       "      <td>a</td>\n",
       "      <td>2</td>\n",
       "      <td>1</td>\n",
       "    </tr>\n",
       "  </tbody>\n",
       "</table>\n",
       "</div>"
      ],
      "text/plain": [
       "  key  data1  data2\n",
       "0   b      3      9\n",
       "1   b      2      9\n",
       "2   b      9      9\n",
       "3   a      6      1\n",
       "4   a      0      1\n",
       "5   a      2      1"
      ]
     },
     "execution_count": 109,
     "metadata": {},
     "output_type": "execute_result"
    }
   ],
   "source": [
    "pd.merge(df_obj1, df_obj2)"
   ]
  },
  {
   "cell_type": "code",
   "execution_count": 111,
   "metadata": {},
   "outputs": [
    {
     "data": {
      "text/html": [
       "<div>\n",
       "<style scoped>\n",
       "    .dataframe tbody tr th:only-of-type {\n",
       "        vertical-align: middle;\n",
       "    }\n",
       "\n",
       "    .dataframe tbody tr th {\n",
       "        vertical-align: top;\n",
       "    }\n",
       "\n",
       "    .dataframe thead th {\n",
       "        text-align: right;\n",
       "    }\n",
       "</style>\n",
       "<table border=\"1\" class=\"dataframe\">\n",
       "  <thead>\n",
       "    <tr style=\"text-align: right;\">\n",
       "      <th></th>\n",
       "      <th>key_x</th>\n",
       "      <th>data1</th>\n",
       "      <th>key_y</th>\n",
       "      <th>data2</th>\n",
       "    </tr>\n",
       "  </thead>\n",
       "  <tbody>\n",
       "    <tr>\n",
       "      <th>0</th>\n",
       "      <td>b</td>\n",
       "      <td>3</td>\n",
       "      <td>a</td>\n",
       "      <td>1</td>\n",
       "    </tr>\n",
       "    <tr>\n",
       "      <th>1</th>\n",
       "      <td>b</td>\n",
       "      <td>2</td>\n",
       "      <td>b</td>\n",
       "      <td>9</td>\n",
       "    </tr>\n",
       "    <tr>\n",
       "      <th>2</th>\n",
       "      <td>a</td>\n",
       "      <td>6</td>\n",
       "      <td>d</td>\n",
       "      <td>7</td>\n",
       "    </tr>\n",
       "  </tbody>\n",
       "</table>\n",
       "</div>"
      ],
      "text/plain": [
       "  key_x  data1 key_y  data2\n",
       "0     b      3     a      1\n",
       "1     b      2     b      9\n",
       "2     a      6     d      7"
      ]
     },
     "execution_count": 111,
     "metadata": {},
     "output_type": "execute_result"
    }
   ],
   "source": [
    "pd.merge(df_obj1, df_obj2,left_index=True,right_index=True)"
   ]
  },
  {
   "cell_type": "code",
   "execution_count": 118,
   "metadata": {},
   "outputs": [
    {
     "data": {
      "text/html": [
       "<div>\n",
       "<style scoped>\n",
       "    .dataframe tbody tr th:only-of-type {\n",
       "        vertical-align: middle;\n",
       "    }\n",
       "\n",
       "    .dataframe tbody tr th {\n",
       "        vertical-align: top;\n",
       "    }\n",
       "\n",
       "    .dataframe thead th {\n",
       "        text-align: right;\n",
       "    }\n",
       "</style>\n",
       "<table border=\"1\" class=\"dataframe\">\n",
       "  <thead>\n",
       "    <tr style=\"text-align: right;\">\n",
       "      <th></th>\n",
       "      <th>key</th>\n",
       "      <th>data1</th>\n",
       "      <th>data2</th>\n",
       "    </tr>\n",
       "  </thead>\n",
       "  <tbody>\n",
       "    <tr>\n",
       "      <th>0</th>\n",
       "      <td>b</td>\n",
       "      <td>3</td>\n",
       "      <td>1</td>\n",
       "    </tr>\n",
       "    <tr>\n",
       "      <th>1</th>\n",
       "      <td>b</td>\n",
       "      <td>0</td>\n",
       "      <td>1</td>\n",
       "    </tr>\n",
       "    <tr>\n",
       "      <th>2</th>\n",
       "      <td>b</td>\n",
       "      <td>3</td>\n",
       "      <td>1</td>\n",
       "    </tr>\n",
       "    <tr>\n",
       "      <th>3</th>\n",
       "      <td>a</td>\n",
       "      <td>1</td>\n",
       "      <td>7</td>\n",
       "    </tr>\n",
       "    <tr>\n",
       "      <th>4</th>\n",
       "      <td>a</td>\n",
       "      <td>1</td>\n",
       "      <td>8</td>\n",
       "    </tr>\n",
       "    <tr>\n",
       "      <th>5</th>\n",
       "      <td>a</td>\n",
       "      <td>3</td>\n",
       "      <td>7</td>\n",
       "    </tr>\n",
       "    <tr>\n",
       "      <th>6</th>\n",
       "      <td>a</td>\n",
       "      <td>3</td>\n",
       "      <td>8</td>\n",
       "    </tr>\n",
       "    <tr>\n",
       "      <th>7</th>\n",
       "      <td>a</td>\n",
       "      <td>5</td>\n",
       "      <td>7</td>\n",
       "    </tr>\n",
       "    <tr>\n",
       "      <th>8</th>\n",
       "      <td>a</td>\n",
       "      <td>5</td>\n",
       "      <td>8</td>\n",
       "    </tr>\n",
       "  </tbody>\n",
       "</table>\n",
       "</div>"
      ],
      "text/plain": [
       "  key  data1  data2\n",
       "0   b      3      1\n",
       "1   b      0      1\n",
       "2   b      3      1\n",
       "3   a      1      7\n",
       "4   a      1      8\n",
       "5   a      3      7\n",
       "6   a      3      8\n",
       "7   a      5      7\n",
       "8   a      5      8"
      ]
     },
     "execution_count": 118,
     "metadata": {},
     "output_type": "execute_result"
    }
   ],
   "source": [
    "pd.merge(df_obj1, df_obj2, on='key')"
   ]
  },
  {
   "cell_type": "code",
   "execution_count": 123,
   "metadata": {},
   "outputs": [],
   "source": [
    "# 更改列名\n",
    "df_obj1 = df_obj1.rename(columns={'key':'key1'})\n",
    "df_obj2 = df_obj2.rename(columns={'key':'key2'})"
   ]
  },
  {
   "cell_type": "code",
   "execution_count": 113,
   "metadata": {},
   "outputs": [
    {
     "data": {
      "text/html": [
       "<div>\n",
       "<style scoped>\n",
       "    .dataframe tbody tr th:only-of-type {\n",
       "        vertical-align: middle;\n",
       "    }\n",
       "\n",
       "    .dataframe tbody tr th {\n",
       "        vertical-align: top;\n",
       "    }\n",
       "\n",
       "    .dataframe thead th {\n",
       "        text-align: right;\n",
       "    }\n",
       "</style>\n",
       "<table border=\"1\" class=\"dataframe\">\n",
       "  <thead>\n",
       "    <tr style=\"text-align: right;\">\n",
       "      <th></th>\n",
       "      <th>key1</th>\n",
       "      <th>data1</th>\n",
       "    </tr>\n",
       "  </thead>\n",
       "  <tbody>\n",
       "    <tr>\n",
       "      <th>0</th>\n",
       "      <td>b</td>\n",
       "      <td>3</td>\n",
       "    </tr>\n",
       "    <tr>\n",
       "      <th>1</th>\n",
       "      <td>b</td>\n",
       "      <td>2</td>\n",
       "    </tr>\n",
       "    <tr>\n",
       "      <th>2</th>\n",
       "      <td>a</td>\n",
       "      <td>6</td>\n",
       "    </tr>\n",
       "    <tr>\n",
       "      <th>3</th>\n",
       "      <td>c</td>\n",
       "      <td>4</td>\n",
       "    </tr>\n",
       "    <tr>\n",
       "      <th>4</th>\n",
       "      <td>a</td>\n",
       "      <td>0</td>\n",
       "    </tr>\n",
       "    <tr>\n",
       "      <th>5</th>\n",
       "      <td>a</td>\n",
       "      <td>2</td>\n",
       "    </tr>\n",
       "    <tr>\n",
       "      <th>6</th>\n",
       "      <td>b</td>\n",
       "      <td>9</td>\n",
       "    </tr>\n",
       "  </tbody>\n",
       "</table>\n",
       "</div>"
      ],
      "text/plain": [
       "  key1  data1\n",
       "0    b      3\n",
       "1    b      2\n",
       "2    a      6\n",
       "3    c      4\n",
       "4    a      0\n",
       "5    a      2\n",
       "6    b      9"
      ]
     },
     "execution_count": 113,
     "metadata": {},
     "output_type": "execute_result"
    }
   ],
   "source": [
    "df_obj1"
   ]
  },
  {
   "cell_type": "code",
   "execution_count": 114,
   "metadata": {},
   "outputs": [
    {
     "data": {
      "text/html": [
       "<div>\n",
       "<style scoped>\n",
       "    .dataframe tbody tr th:only-of-type {\n",
       "        vertical-align: middle;\n",
       "    }\n",
       "\n",
       "    .dataframe tbody tr th {\n",
       "        vertical-align: top;\n",
       "    }\n",
       "\n",
       "    .dataframe thead th {\n",
       "        text-align: right;\n",
       "    }\n",
       "</style>\n",
       "<table border=\"1\" class=\"dataframe\">\n",
       "  <thead>\n",
       "    <tr style=\"text-align: right;\">\n",
       "      <th></th>\n",
       "      <th>key2</th>\n",
       "      <th>data2</th>\n",
       "    </tr>\n",
       "  </thead>\n",
       "  <tbody>\n",
       "    <tr>\n",
       "      <th>0</th>\n",
       "      <td>a</td>\n",
       "      <td>1</td>\n",
       "    </tr>\n",
       "    <tr>\n",
       "      <th>1</th>\n",
       "      <td>b</td>\n",
       "      <td>9</td>\n",
       "    </tr>\n",
       "    <tr>\n",
       "      <th>2</th>\n",
       "      <td>d</td>\n",
       "      <td>7</td>\n",
       "    </tr>\n",
       "  </tbody>\n",
       "</table>\n",
       "</div>"
      ],
      "text/plain": [
       "  key2  data2\n",
       "0    a      1\n",
       "1    b      9\n",
       "2    d      7"
      ]
     },
     "execution_count": 114,
     "metadata": {},
     "output_type": "execute_result"
    }
   ],
   "source": [
    "df_obj2"
   ]
  },
  {
   "cell_type": "code",
   "execution_count": 120,
   "metadata": {},
   "outputs": [
    {
     "data": {
      "text/html": [
       "<div>\n",
       "<style scoped>\n",
       "    .dataframe tbody tr th:only-of-type {\n",
       "        vertical-align: middle;\n",
       "    }\n",
       "\n",
       "    .dataframe tbody tr th {\n",
       "        vertical-align: top;\n",
       "    }\n",
       "\n",
       "    .dataframe thead th {\n",
       "        text-align: right;\n",
       "    }\n",
       "</style>\n",
       "<table border=\"1\" class=\"dataframe\">\n",
       "  <thead>\n",
       "    <tr style=\"text-align: right;\">\n",
       "      <th></th>\n",
       "      <th>key1</th>\n",
       "      <th>data1</th>\n",
       "      <th>key2</th>\n",
       "      <th>data2</th>\n",
       "    </tr>\n",
       "  </thead>\n",
       "  <tbody>\n",
       "    <tr>\n",
       "      <th>0</th>\n",
       "      <td>b</td>\n",
       "      <td>3</td>\n",
       "      <td>b</td>\n",
       "      <td>1</td>\n",
       "    </tr>\n",
       "    <tr>\n",
       "      <th>1</th>\n",
       "      <td>b</td>\n",
       "      <td>0</td>\n",
       "      <td>b</td>\n",
       "      <td>1</td>\n",
       "    </tr>\n",
       "    <tr>\n",
       "      <th>2</th>\n",
       "      <td>b</td>\n",
       "      <td>3</td>\n",
       "      <td>b</td>\n",
       "      <td>1</td>\n",
       "    </tr>\n",
       "    <tr>\n",
       "      <th>3</th>\n",
       "      <td>a</td>\n",
       "      <td>1</td>\n",
       "      <td>a</td>\n",
       "      <td>7</td>\n",
       "    </tr>\n",
       "    <tr>\n",
       "      <th>4</th>\n",
       "      <td>a</td>\n",
       "      <td>1</td>\n",
       "      <td>a</td>\n",
       "      <td>8</td>\n",
       "    </tr>\n",
       "    <tr>\n",
       "      <th>5</th>\n",
       "      <td>a</td>\n",
       "      <td>3</td>\n",
       "      <td>a</td>\n",
       "      <td>7</td>\n",
       "    </tr>\n",
       "    <tr>\n",
       "      <th>6</th>\n",
       "      <td>a</td>\n",
       "      <td>3</td>\n",
       "      <td>a</td>\n",
       "      <td>8</td>\n",
       "    </tr>\n",
       "    <tr>\n",
       "      <th>7</th>\n",
       "      <td>a</td>\n",
       "      <td>5</td>\n",
       "      <td>a</td>\n",
       "      <td>7</td>\n",
       "    </tr>\n",
       "    <tr>\n",
       "      <th>8</th>\n",
       "      <td>a</td>\n",
       "      <td>5</td>\n",
       "      <td>a</td>\n",
       "      <td>8</td>\n",
       "    </tr>\n",
       "  </tbody>\n",
       "</table>\n",
       "</div>"
      ],
      "text/plain": [
       "  key1  data1 key2  data2\n",
       "0    b      3    b      1\n",
       "1    b      0    b      1\n",
       "2    b      3    b      1\n",
       "3    a      1    a      7\n",
       "4    a      1    a      8\n",
       "5    a      3    a      7\n",
       "6    a      3    a      8\n",
       "7    a      5    a      7\n",
       "8    a      5    a      8"
      ]
     },
     "execution_count": 120,
     "metadata": {},
     "output_type": "execute_result"
    }
   ],
   "source": [
    "pd.merge(df_obj1, df_obj2, left_on='key1', right_on='key2')"
   ]
  },
  {
   "cell_type": "code",
   "execution_count": 124,
   "metadata": {},
   "outputs": [
    {
     "data": {
      "text/html": [
       "<div>\n",
       "<style scoped>\n",
       "    .dataframe tbody tr th:only-of-type {\n",
       "        vertical-align: middle;\n",
       "    }\n",
       "\n",
       "    .dataframe tbody tr th {\n",
       "        vertical-align: top;\n",
       "    }\n",
       "\n",
       "    .dataframe thead th {\n",
       "        text-align: right;\n",
       "    }\n",
       "</style>\n",
       "<table border=\"1\" class=\"dataframe\">\n",
       "  <thead>\n",
       "    <tr style=\"text-align: right;\">\n",
       "      <th></th>\n",
       "      <th>key1</th>\n",
       "      <th>data1</th>\n",
       "      <th>key2</th>\n",
       "      <th>data2</th>\n",
       "    </tr>\n",
       "  </thead>\n",
       "  <tbody>\n",
       "    <tr>\n",
       "      <th>0</th>\n",
       "      <td>b</td>\n",
       "      <td>5.0</td>\n",
       "      <td>b</td>\n",
       "      <td>0.0</td>\n",
       "    </tr>\n",
       "    <tr>\n",
       "      <th>1</th>\n",
       "      <td>b</td>\n",
       "      <td>2.0</td>\n",
       "      <td>b</td>\n",
       "      <td>0.0</td>\n",
       "    </tr>\n",
       "    <tr>\n",
       "      <th>2</th>\n",
       "      <td>b</td>\n",
       "      <td>6.0</td>\n",
       "      <td>b</td>\n",
       "      <td>0.0</td>\n",
       "    </tr>\n",
       "    <tr>\n",
       "      <th>3</th>\n",
       "      <td>a</td>\n",
       "      <td>6.0</td>\n",
       "      <td>a</td>\n",
       "      <td>7.0</td>\n",
       "    </tr>\n",
       "    <tr>\n",
       "      <th>4</th>\n",
       "      <td>a</td>\n",
       "      <td>2.0</td>\n",
       "      <td>a</td>\n",
       "      <td>7.0</td>\n",
       "    </tr>\n",
       "    <tr>\n",
       "      <th>5</th>\n",
       "      <td>a</td>\n",
       "      <td>2.0</td>\n",
       "      <td>a</td>\n",
       "      <td>7.0</td>\n",
       "    </tr>\n",
       "    <tr>\n",
       "      <th>6</th>\n",
       "      <td>c</td>\n",
       "      <td>8.0</td>\n",
       "      <td>NaN</td>\n",
       "      <td>NaN</td>\n",
       "    </tr>\n",
       "    <tr>\n",
       "      <th>7</th>\n",
       "      <td>NaN</td>\n",
       "      <td>NaN</td>\n",
       "      <td>d</td>\n",
       "      <td>3.0</td>\n",
       "    </tr>\n",
       "  </tbody>\n",
       "</table>\n",
       "</div>"
      ],
      "text/plain": [
       "  key1  data1 key2  data2\n",
       "0    b    5.0    b    0.0\n",
       "1    b    2.0    b    0.0\n",
       "2    b    6.0    b    0.0\n",
       "3    a    6.0    a    7.0\n",
       "4    a    2.0    a    7.0\n",
       "5    a    2.0    a    7.0\n",
       "6    c    8.0  NaN    NaN\n",
       "7  NaN    NaN    d    3.0"
      ]
     },
     "execution_count": 124,
     "metadata": {},
     "output_type": "execute_result"
    }
   ],
   "source": [
    "#left join 等价于 left outer join\n",
    "pd.merge(df_obj1, df_obj2, left_on='key1', right_on='key2', how='outer')  #全外连接"
   ]
  },
  {
   "cell_type": "code",
   "execution_count": 125,
   "metadata": {},
   "outputs": [
    {
     "data": {
      "text/html": [
       "<div>\n",
       "<style scoped>\n",
       "    .dataframe tbody tr th:only-of-type {\n",
       "        vertical-align: middle;\n",
       "    }\n",
       "\n",
       "    .dataframe tbody tr th {\n",
       "        vertical-align: top;\n",
       "    }\n",
       "\n",
       "    .dataframe thead th {\n",
       "        text-align: right;\n",
       "    }\n",
       "</style>\n",
       "<table border=\"1\" class=\"dataframe\">\n",
       "  <thead>\n",
       "    <tr style=\"text-align: right;\">\n",
       "      <th></th>\n",
       "      <th>key1</th>\n",
       "      <th>data1</th>\n",
       "      <th>key2</th>\n",
       "      <th>data2</th>\n",
       "    </tr>\n",
       "  </thead>\n",
       "  <tbody>\n",
       "    <tr>\n",
       "      <th>0</th>\n",
       "      <td>b</td>\n",
       "      <td>5</td>\n",
       "      <td>b</td>\n",
       "      <td>0.0</td>\n",
       "    </tr>\n",
       "    <tr>\n",
       "      <th>1</th>\n",
       "      <td>b</td>\n",
       "      <td>2</td>\n",
       "      <td>b</td>\n",
       "      <td>0.0</td>\n",
       "    </tr>\n",
       "    <tr>\n",
       "      <th>2</th>\n",
       "      <td>a</td>\n",
       "      <td>6</td>\n",
       "      <td>a</td>\n",
       "      <td>7.0</td>\n",
       "    </tr>\n",
       "    <tr>\n",
       "      <th>3</th>\n",
       "      <td>c</td>\n",
       "      <td>8</td>\n",
       "      <td>NaN</td>\n",
       "      <td>NaN</td>\n",
       "    </tr>\n",
       "    <tr>\n",
       "      <th>4</th>\n",
       "      <td>a</td>\n",
       "      <td>2</td>\n",
       "      <td>a</td>\n",
       "      <td>7.0</td>\n",
       "    </tr>\n",
       "    <tr>\n",
       "      <th>5</th>\n",
       "      <td>a</td>\n",
       "      <td>2</td>\n",
       "      <td>a</td>\n",
       "      <td>7.0</td>\n",
       "    </tr>\n",
       "    <tr>\n",
       "      <th>6</th>\n",
       "      <td>b</td>\n",
       "      <td>6</td>\n",
       "      <td>b</td>\n",
       "      <td>0.0</td>\n",
       "    </tr>\n",
       "  </tbody>\n",
       "</table>\n",
       "</div>"
      ],
      "text/plain": [
       "  key1  data1 key2  data2\n",
       "0    b      5    b    0.0\n",
       "1    b      2    b    0.0\n",
       "2    a      6    a    7.0\n",
       "3    c      8  NaN    NaN\n",
       "4    a      2    a    7.0\n",
       "5    a      2    a    7.0\n",
       "6    b      6    b    0.0"
      ]
     },
     "execution_count": 125,
     "metadata": {},
     "output_type": "execute_result"
    }
   ],
   "source": [
    "pd.merge(df_obj1, df_obj2, left_on='key1', right_on='key2', how='left')"
   ]
  },
  {
   "cell_type": "code",
   "execution_count": 126,
   "metadata": {},
   "outputs": [
    {
     "data": {
      "text/html": [
       "<div>\n",
       "<style scoped>\n",
       "    .dataframe tbody tr th:only-of-type {\n",
       "        vertical-align: middle;\n",
       "    }\n",
       "\n",
       "    .dataframe tbody tr th {\n",
       "        vertical-align: top;\n",
       "    }\n",
       "\n",
       "    .dataframe thead th {\n",
       "        text-align: right;\n",
       "    }\n",
       "</style>\n",
       "<table border=\"1\" class=\"dataframe\">\n",
       "  <thead>\n",
       "    <tr style=\"text-align: right;\">\n",
       "      <th></th>\n",
       "      <th>key1</th>\n",
       "      <th>data1</th>\n",
       "      <th>key2</th>\n",
       "      <th>data2</th>\n",
       "    </tr>\n",
       "  </thead>\n",
       "  <tbody>\n",
       "    <tr>\n",
       "      <th>0</th>\n",
       "      <td>a</td>\n",
       "      <td>6.0</td>\n",
       "      <td>a</td>\n",
       "      <td>7</td>\n",
       "    </tr>\n",
       "    <tr>\n",
       "      <th>1</th>\n",
       "      <td>a</td>\n",
       "      <td>2.0</td>\n",
       "      <td>a</td>\n",
       "      <td>7</td>\n",
       "    </tr>\n",
       "    <tr>\n",
       "      <th>2</th>\n",
       "      <td>a</td>\n",
       "      <td>2.0</td>\n",
       "      <td>a</td>\n",
       "      <td>7</td>\n",
       "    </tr>\n",
       "    <tr>\n",
       "      <th>3</th>\n",
       "      <td>b</td>\n",
       "      <td>5.0</td>\n",
       "      <td>b</td>\n",
       "      <td>0</td>\n",
       "    </tr>\n",
       "    <tr>\n",
       "      <th>4</th>\n",
       "      <td>b</td>\n",
       "      <td>2.0</td>\n",
       "      <td>b</td>\n",
       "      <td>0</td>\n",
       "    </tr>\n",
       "    <tr>\n",
       "      <th>5</th>\n",
       "      <td>b</td>\n",
       "      <td>6.0</td>\n",
       "      <td>b</td>\n",
       "      <td>0</td>\n",
       "    </tr>\n",
       "    <tr>\n",
       "      <th>6</th>\n",
       "      <td>NaN</td>\n",
       "      <td>NaN</td>\n",
       "      <td>d</td>\n",
       "      <td>3</td>\n",
       "    </tr>\n",
       "  </tbody>\n",
       "</table>\n",
       "</div>"
      ],
      "text/plain": [
       "  key1  data1 key2  data2\n",
       "0    a    6.0    a      7\n",
       "1    a    2.0    a      7\n",
       "2    a    2.0    a      7\n",
       "3    b    5.0    b      0\n",
       "4    b    2.0    b      0\n",
       "5    b    6.0    b      0\n",
       "6  NaN    NaN    d      3"
      ]
     },
     "execution_count": 126,
     "metadata": {},
     "output_type": "execute_result"
    }
   ],
   "source": [
    "pd.merge(df_obj1, df_obj2, left_on='key1', right_on='key2', how='right')"
   ]
  },
  {
   "cell_type": "code",
   "execution_count": 128,
   "metadata": {},
   "outputs": [
    {
     "name": "stdout",
     "output_type": "stream",
     "text": [
      "  key  data_left  data_right\n",
      "0   b          4           3\n",
      "1   b          5           3\n",
      "2   b          5           3\n",
      "3   a          9           8\n",
      "4   a          2           8\n",
      "5   a          3           8\n"
     ]
    }
   ],
   "source": [
    "# 处理重复列名\n",
    "df_obj1 = pd.DataFrame({'key': ['b', 'b', 'a', 'c', 'a', 'a', 'b'],\n",
    "                        'data' : np.random.randint(0,10,7)})\n",
    "df_obj2 = pd.DataFrame({'key': ['a', 'b', 'd'],\n",
    "                        'data' : np.random.randint(0,10,3)})\n",
    "\n",
    "print(pd.merge(df_obj1, df_obj2, on='key', suffixes=('_left', '_right')))"
   ]
  },
  {
   "cell_type": "code",
   "execution_count": 129,
   "metadata": {},
   "outputs": [
    {
     "name": "stdout",
     "output_type": "stream",
     "text": [
      "  key  data1  data2\n",
      "0   b      7      6\n",
      "1   b      2      6\n",
      "6   b      6      6\n",
      "2   a      4      8\n",
      "4   a      3      8\n",
      "5   a      7      8\n"
     ]
    }
   ],
   "source": [
    "# 按索引连接\n",
    "df_obj1 = pd.DataFrame({'key': ['b', 'b', 'a', 'c', 'a', 'a', 'b'],\n",
    "                        'data1' : np.random.randint(0,10,7)})\n",
    "df_obj2 = pd.DataFrame({'data2' : np.random.randint(0,10,3)}, index=['a', 'b', 'd'])\n",
    "\n",
    "print(pd.merge(df_obj1, df_obj2, left_on='key', right_index=True))"
   ]
  },
  {
   "cell_type": "code",
   "execution_count": 130,
   "metadata": {},
   "outputs": [
    {
     "data": {
      "text/html": [
       "<div>\n",
       "<style scoped>\n",
       "    .dataframe tbody tr th:only-of-type {\n",
       "        vertical-align: middle;\n",
       "    }\n",
       "\n",
       "    .dataframe tbody tr th {\n",
       "        vertical-align: top;\n",
       "    }\n",
       "\n",
       "    .dataframe thead th {\n",
       "        text-align: right;\n",
       "    }\n",
       "</style>\n",
       "<table border=\"1\" class=\"dataframe\">\n",
       "  <thead>\n",
       "    <tr style=\"text-align: right;\">\n",
       "      <th></th>\n",
       "      <th>data2</th>\n",
       "      <th>key</th>\n",
       "      <th>data1</th>\n",
       "    </tr>\n",
       "  </thead>\n",
       "  <tbody>\n",
       "    <tr>\n",
       "      <th>2</th>\n",
       "      <td>8</td>\n",
       "      <td>a</td>\n",
       "      <td>4</td>\n",
       "    </tr>\n",
       "    <tr>\n",
       "      <th>4</th>\n",
       "      <td>8</td>\n",
       "      <td>a</td>\n",
       "      <td>3</td>\n",
       "    </tr>\n",
       "    <tr>\n",
       "      <th>5</th>\n",
       "      <td>8</td>\n",
       "      <td>a</td>\n",
       "      <td>7</td>\n",
       "    </tr>\n",
       "    <tr>\n",
       "      <th>0</th>\n",
       "      <td>6</td>\n",
       "      <td>b</td>\n",
       "      <td>7</td>\n",
       "    </tr>\n",
       "    <tr>\n",
       "      <th>1</th>\n",
       "      <td>6</td>\n",
       "      <td>b</td>\n",
       "      <td>2</td>\n",
       "    </tr>\n",
       "    <tr>\n",
       "      <th>6</th>\n",
       "      <td>6</td>\n",
       "      <td>b</td>\n",
       "      <td>6</td>\n",
       "    </tr>\n",
       "  </tbody>\n",
       "</table>\n",
       "</div>"
      ],
      "text/plain": [
       "   data2 key  data1\n",
       "2      8   a      4\n",
       "4      8   a      3\n",
       "5      8   a      7\n",
       "0      6   b      7\n",
       "1      6   b      2\n",
       "6      6   b      6"
      ]
     },
     "execution_count": 130,
     "metadata": {},
     "output_type": "execute_result"
    }
   ],
   "source": [
    "pd.merge(df_obj2,df_obj1, left_index=True, right_on='key')"
   ]
  },
  {
   "cell_type": "markdown",
   "metadata": {},
   "source": [
    "# 11 数据合并(pd.concat)"
   ]
  },
  {
   "cell_type": "code",
   "execution_count": 131,
   "metadata": {},
   "outputs": [
    {
     "name": "stdout",
     "output_type": "stream",
     "text": [
      "[[1 4 1 4]\n",
      " [0 5 3 7]\n",
      " [3 7 1 0]]\n",
      "[[9 8 3 4]\n",
      " [2 3 0 5]\n",
      " [3 7 6 8]]\n",
      "[[1 4 1 4]\n",
      " [0 5 3 7]\n",
      " [3 7 1 0]\n",
      " [9 8 3 4]\n",
      " [2 3 0 5]\n",
      " [3 7 6 8]]\n",
      "[[1 4 1 4 9 8 3 4]\n",
      " [0 5 3 7 2 3 0 5]\n",
      " [3 7 1 0 3 7 6 8]]\n"
     ]
    }
   ],
   "source": [
    "arr1 = np.random.randint(0, 10, (3, 4))\n",
    "arr2 = np.random.randint(0, 10, (3, 4))\n",
    "\n",
    "print(arr1)\n",
    "print(arr2)\n",
    "\n",
    "print(np.concatenate([arr1, arr2]))\n",
    "print(np.concatenate([arr1, arr2], axis=1))"
   ]
  },
  {
   "cell_type": "code",
   "execution_count": 132,
   "metadata": {},
   "outputs": [
    {
     "name": "stdout",
     "output_type": "stream",
     "text": [
      "0    0\n",
      "1    8\n",
      "2    1\n",
      "3    2\n",
      "4    0\n",
      "dtype: int32\n",
      "5    1\n",
      "6    4\n",
      "7    2\n",
      "8    5\n",
      "dtype: int32\n",
      "9     3\n",
      "10    0\n",
      "11    4\n",
      "dtype: int32\n"
     ]
    }
   ],
   "source": [
    "# index 没有重复的情况\n",
    "ser_obj1 = pd.Series(np.random.randint(0, 10, 5), index=range(0,5))\n",
    "ser_obj2 = pd.Series(np.random.randint(0, 10, 4), index=range(5,9))\n",
    "ser_obj3 = pd.Series(np.random.randint(0, 10, 3), index=range(9,12))\n",
    "\n",
    "print(ser_obj1)\n",
    "print(ser_obj2)\n",
    "print(ser_obj3)"
   ]
  },
  {
   "cell_type": "code",
   "execution_count": 133,
   "metadata": {},
   "outputs": [
    {
     "name": "stdout",
     "output_type": "stream",
     "text": [
      "0     0\n",
      "1     8\n",
      "2     1\n",
      "3     2\n",
      "4     0\n",
      "5     1\n",
      "6     4\n",
      "7     2\n",
      "8     5\n",
      "9     3\n",
      "10    0\n",
      "11    4\n",
      "dtype: int32\n",
      "      0    1    2\n",
      "0   0.0  NaN  NaN\n",
      "1   8.0  NaN  NaN\n",
      "2   1.0  NaN  NaN\n",
      "3   2.0  NaN  NaN\n",
      "4   0.0  NaN  NaN\n",
      "5   NaN  1.0  NaN\n",
      "6   NaN  4.0  NaN\n",
      "7   NaN  2.0  NaN\n",
      "8   NaN  5.0  NaN\n",
      "9   NaN  NaN  3.0\n",
      "10  NaN  NaN  0.0\n",
      "11  NaN  NaN  4.0\n"
     ]
    }
   ],
   "source": [
    "print(pd.concat([ser_obj1, ser_obj2, ser_obj3]))\n",
    "print(pd.concat([ser_obj1, ser_obj2, ser_obj3], axis=1))"
   ]
  },
  {
   "cell_type": "markdown",
   "metadata": {},
   "source": [
    "### index 有重复的情况"
   ]
  },
  {
   "cell_type": "code",
   "execution_count": 134,
   "metadata": {},
   "outputs": [
    {
     "name": "stdout",
     "output_type": "stream",
     "text": [
      "0    2\n",
      "1    2\n",
      "2    9\n",
      "3    6\n",
      "4    0\n",
      "dtype: int32\n",
      "0    9\n",
      "1    3\n",
      "2    7\n",
      "3    5\n",
      "dtype: int32\n",
      "0    1\n",
      "1    5\n",
      "2    5\n",
      "dtype: int32\n"
     ]
    }
   ],
   "source": [
    "# index 有重复的情况\n",
    "ser_obj1 = pd.Series(np.random.randint(0, 10, 5), index=range(5))\n",
    "ser_obj2 = pd.Series(np.random.randint(0, 10, 4), index=range(4))\n",
    "ser_obj3 = pd.Series(np.random.randint(0, 10, 3), index=range(3))\n",
    "\n",
    "print(ser_obj1)\n",
    "print(ser_obj2)\n",
    "print(ser_obj3)"
   ]
  },
  {
   "cell_type": "code",
   "execution_count": 135,
   "metadata": {},
   "outputs": [
    {
     "name": "stdout",
     "output_type": "stream",
     "text": [
      "0    2\n",
      "1    2\n",
      "2    9\n",
      "3    6\n",
      "4    0\n",
      "0    9\n",
      "1    3\n",
      "2    7\n",
      "3    5\n",
      "0    1\n",
      "1    5\n",
      "2    5\n",
      "dtype: int32\n"
     ]
    }
   ],
   "source": [
    "print(pd.concat([ser_obj1, ser_obj2, ser_obj3]))"
   ]
  },
  {
   "cell_type": "code",
   "execution_count": 78,
   "metadata": {},
   "outputs": [
    {
     "name": "stdout",
     "output_type": "stream",
     "text": [
      "   0    1    2\n",
      "0  0  6.0  9.0\n",
      "1  9  4.0  8.0\n",
      "2  7  1.0  6.0\n",
      "3  3  6.0  NaN\n",
      "4  0  NaN  NaN\n"
     ]
    }
   ],
   "source": [
    "print(pd.concat([ser_obj1, ser_obj2, ser_obj3], axis=1, join='outer'))"
   ]
  },
  {
   "cell_type": "code",
   "execution_count": 136,
   "metadata": {},
   "outputs": [
    {
     "name": "stdout",
     "output_type": "stream",
     "text": [
      "   A  B\n",
      "a  4  3\n",
      "b  0  7\n",
      "c  8  7\n",
      "   A  B\n",
      "a  6  7\n",
      "b  2  9\n",
      "   A  B\n",
      "a  4  3\n",
      "b  0  7\n",
      "c  8  7\n",
      "a  6  7\n",
      "b  2  9\n",
      "   A  B    A    B\n",
      "a  4  3  6.0  7.0\n",
      "b  0  7  2.0  9.0\n",
      "c  8  7  NaN  NaN\n"
     ]
    }
   ],
   "source": [
    "import pandas as pd\n",
    "import numpy as np\n",
    "df_obj1 = pd.DataFrame(np.random.randint(0, 10, (3, 2)), index=['a', 'b', 'c'],\n",
    "                       columns=['A', 'B'])\n",
    "df_obj2 = pd.DataFrame(np.random.randint(0, 10, (2, 2)), index=['a', 'b'],\n",
    "                       columns=['A', 'B'])\n",
    "print(df_obj1)\n",
    "print(df_obj2)\n",
    "\n",
    "print(pd.concat([df_obj1, df_obj2]))\n",
    "print(pd.concat([df_obj1, df_obj2], axis=1))"
   ]
  },
  {
   "cell_type": "markdown",
   "metadata": {},
   "source": [
    "### 数据重构"
   ]
  },
  {
   "cell_type": "code",
   "execution_count": 141,
   "metadata": {},
   "outputs": [
    {
     "name": "stdout",
     "output_type": "stream",
     "text": [
      "   data1  data2\n",
      "0      7      0\n",
      "1      7      0\n",
      "2      8      2\n",
      "3      8      0\n",
      "4      8      0\n",
      "0  data1    7\n",
      "   data2    0\n",
      "1  data1    7\n",
      "   data2    0\n",
      "2  data1    8\n",
      "   data2    2\n",
      "3  data1    8\n",
      "   data2    0\n",
      "4  data1    8\n",
      "   data2    0\n",
      "dtype: int32\n"
     ]
    }
   ],
   "source": [
    "df_obj = pd.DataFrame(np.random.randint(0,10, (5,2)), columns=['data1', 'data2'])\n",
    "print(df_obj)\n",
    "\n",
    "stacked = df_obj.stack()  #stack内部带的参数level，选择哪一个column变为index\n",
    "print(stacked)"
   ]
  },
  {
   "cell_type": "code",
   "execution_count": 83,
   "metadata": {},
   "outputs": [
    {
     "name": "stdout",
     "output_type": "stream",
     "text": [
      "   data1  data2\n",
      "0      4      9\n",
      "1      0      0\n",
      "2      3      0\n",
      "3      6      9\n",
      "4      2      9\n",
      "       0  1  2  3  4\n",
      "data1  4  0  3  6  2\n",
      "data2  9  0  0  9  9\n"
     ]
    }
   ],
   "source": [
    "# 默认操作内层索引\n",
    "print(stacked.unstack())\n",
    "\n",
    "# 通过level指定操作索引的级别\n",
    "print(stacked.unstack(level=0))"
   ]
  },
  {
   "cell_type": "code",
   "execution_count": 149,
   "metadata": {},
   "outputs": [
    {
     "name": "stdout",
     "output_type": "stream",
     "text": [
      "            data1  data2\n",
      "cloth size              \n",
      "a     0         0      1\n",
      "      1         2      3\n",
      "      2         4      5\n",
      "b     0         6      7\n",
      "      1         8      9\n",
      "      2        10     11\n",
      "c     0        12     13\n",
      "      1        14     15\n",
      "      2        16     17\n",
      "d     0        18     19\n",
      "      1        20     21\n",
      "      2        22     23\n",
      "      data1             data2            \n",
      "cloth     a   b   c   d     a   b   c   d\n",
      "size                                     \n",
      "0         0   6  12  18     1   7  13  19\n",
      "1         2   8  14  20     3   9  15  21\n",
      "2         4  10  16  22     5  11  17  23\n",
      "MultiIndex([('data1', 'a'),\n",
      "            ('data1', 'b'),\n",
      "            ('data1', 'c'),\n",
      "            ('data1', 'd'),\n",
      "            ('data2', 'a'),\n",
      "            ('data2', 'b'),\n",
      "            ('data2', 'c'),\n",
      "            ('data2', 'd')],\n",
      "           names=[None, 'cloth'])\n"
     ]
    },
    {
     "data": {
      "text/html": [
       "<div>\n",
       "<style scoped>\n",
       "    .dataframe tbody tr th:only-of-type {\n",
       "        vertical-align: middle;\n",
       "    }\n",
       "\n",
       "    .dataframe tbody tr th {\n",
       "        vertical-align: top;\n",
       "    }\n",
       "\n",
       "    .dataframe thead th {\n",
       "        text-align: right;\n",
       "    }\n",
       "</style>\n",
       "<table border=\"1\" class=\"dataframe\">\n",
       "  <thead>\n",
       "    <tr style=\"text-align: right;\">\n",
       "      <th></th>\n",
       "      <th>cloth</th>\n",
       "      <th>a</th>\n",
       "      <th>b</th>\n",
       "      <th>c</th>\n",
       "      <th>d</th>\n",
       "    </tr>\n",
       "    <tr>\n",
       "      <th>size</th>\n",
       "      <th></th>\n",
       "      <th></th>\n",
       "      <th></th>\n",
       "      <th></th>\n",
       "      <th></th>\n",
       "    </tr>\n",
       "  </thead>\n",
       "  <tbody>\n",
       "    <tr>\n",
       "      <th rowspan=\"2\" valign=\"top\">0</th>\n",
       "      <th>data1</th>\n",
       "      <td>0</td>\n",
       "      <td>6</td>\n",
       "      <td>12</td>\n",
       "      <td>18</td>\n",
       "    </tr>\n",
       "    <tr>\n",
       "      <th>data2</th>\n",
       "      <td>1</td>\n",
       "      <td>7</td>\n",
       "      <td>13</td>\n",
       "      <td>19</td>\n",
       "    </tr>\n",
       "    <tr>\n",
       "      <th rowspan=\"2\" valign=\"top\">1</th>\n",
       "      <th>data1</th>\n",
       "      <td>2</td>\n",
       "      <td>8</td>\n",
       "      <td>14</td>\n",
       "      <td>20</td>\n",
       "    </tr>\n",
       "    <tr>\n",
       "      <th>data2</th>\n",
       "      <td>3</td>\n",
       "      <td>9</td>\n",
       "      <td>15</td>\n",
       "      <td>21</td>\n",
       "    </tr>\n",
       "    <tr>\n",
       "      <th rowspan=\"2\" valign=\"top\">2</th>\n",
       "      <th>data1</th>\n",
       "      <td>4</td>\n",
       "      <td>10</td>\n",
       "      <td>16</td>\n",
       "      <td>22</td>\n",
       "    </tr>\n",
       "    <tr>\n",
       "      <th>data2</th>\n",
       "      <td>5</td>\n",
       "      <td>11</td>\n",
       "      <td>17</td>\n",
       "      <td>23</td>\n",
       "    </tr>\n",
       "  </tbody>\n",
       "</table>\n",
       "</div>"
      ],
      "text/plain": [
       "cloth       a   b   c   d\n",
       "size                     \n",
       "0    data1  0   6  12  18\n",
       "     data2  1   7  13  19\n",
       "1    data1  2   8  14  20\n",
       "     data2  3   9  15  21\n",
       "2    data1  4  10  16  22\n",
       "     data2  5  11  17  23"
      ]
     },
     "execution_count": 149,
     "metadata": {},
     "output_type": "execute_result"
    }
   ],
   "source": [
    "index1 = pd.MultiIndex.from_arrays([['a', 'a', 'a', 'b', 'b', 'b', 'c', 'c', 'c', 'd', 'd', 'd'],\n",
    "                [0, 1, 2, 0, 1, 2, 0, 1, 2, 0, 1, 2]], names=['cloth', 'size'])\n",
    "\n",
    "df= pd.DataFrame(np.arange(24).reshape(12,2),index=index1,columns=['data1','data2'])\n",
    "print(df)\n",
    "df_s=df.unstack(level=0)\n",
    "print(df_s)\n",
    "print(df_s.columns)\n",
    "df_s.stack(0)"
   ]
  },
  {
   "cell_type": "markdown",
   "metadata": {},
   "source": [
    " ## 处理重复数据"
   ]
  },
  {
   "cell_type": "code",
   "execution_count": 152,
   "metadata": {},
   "outputs": [
    {
     "name": "stdout",
     "output_type": "stream",
     "text": [
      "  data1  data2\n",
      "0     a      3\n",
      "1     a      1\n",
      "2     a      2\n",
      "3     a      1\n",
      "4     b      3\n",
      "5     b      1\n",
      "6     b      2\n",
      "7     b      0\n"
     ]
    }
   ],
   "source": [
    "df_obj = pd.DataFrame({'data1' : ['a'] * 4 + ['b'] * 4,\n",
    "                       'data2' : np.random.randint(0, 4, 8)})\n",
    "print(df_obj)"
   ]
  },
  {
   "cell_type": "code",
   "execution_count": 154,
   "metadata": {},
   "outputs": [
    {
     "name": "stdout",
     "output_type": "stream",
     "text": [
      "0    False\n",
      "1    False\n",
      "2    False\n",
      "3     True\n",
      "4    False\n",
      "5    False\n",
      "6    False\n",
      "7    False\n",
      "dtype: bool\n"
     ]
    },
    {
     "data": {
      "text/html": [
       "<div>\n",
       "<style scoped>\n",
       "    .dataframe tbody tr th:only-of-type {\n",
       "        vertical-align: middle;\n",
       "    }\n",
       "\n",
       "    .dataframe tbody tr th {\n",
       "        vertical-align: top;\n",
       "    }\n",
       "\n",
       "    .dataframe thead th {\n",
       "        text-align: right;\n",
       "    }\n",
       "</style>\n",
       "<table border=\"1\" class=\"dataframe\">\n",
       "  <thead>\n",
       "    <tr style=\"text-align: right;\">\n",
       "      <th></th>\n",
       "      <th>data1</th>\n",
       "      <th>data2</th>\n",
       "    </tr>\n",
       "  </thead>\n",
       "  <tbody>\n",
       "    <tr>\n",
       "      <th>0</th>\n",
       "      <td>a</td>\n",
       "      <td>3</td>\n",
       "    </tr>\n",
       "    <tr>\n",
       "      <th>1</th>\n",
       "      <td>a</td>\n",
       "      <td>1</td>\n",
       "    </tr>\n",
       "    <tr>\n",
       "      <th>2</th>\n",
       "      <td>a</td>\n",
       "      <td>2</td>\n",
       "    </tr>\n",
       "    <tr>\n",
       "      <th>4</th>\n",
       "      <td>b</td>\n",
       "      <td>3</td>\n",
       "    </tr>\n",
       "    <tr>\n",
       "      <th>5</th>\n",
       "      <td>b</td>\n",
       "      <td>1</td>\n",
       "    </tr>\n",
       "    <tr>\n",
       "      <th>6</th>\n",
       "      <td>b</td>\n",
       "      <td>2</td>\n",
       "    </tr>\n",
       "    <tr>\n",
       "      <th>7</th>\n",
       "      <td>b</td>\n",
       "      <td>0</td>\n",
       "    </tr>\n",
       "  </tbody>\n",
       "</table>\n",
       "</div>"
      ],
      "text/plain": [
       "  data1  data2\n",
       "0     a      3\n",
       "1     a      1\n",
       "2     a      2\n",
       "4     b      3\n",
       "5     b      1\n",
       "6     b      2\n",
       "7     b      0"
      ]
     },
     "execution_count": 154,
     "metadata": {},
     "output_type": "execute_result"
    }
   ],
   "source": [
    "print(df_obj.duplicated())\n",
    "df_obj[~df_obj.duplicated()]  #取出不重复行"
   ]
  },
  {
   "cell_type": "code",
   "execution_count": 155,
   "metadata": {},
   "outputs": [
    {
     "name": "stdout",
     "output_type": "stream",
     "text": [
      "0    False\n",
      "1    False\n",
      "2    False\n",
      "3     True\n",
      "4     True\n",
      "5     True\n",
      "6     True\n",
      "7    False\n",
      "dtype: bool\n"
     ]
    }
   ],
   "source": [
    "print(df_obj.duplicated('data2'))"
   ]
  },
  {
   "cell_type": "code",
   "execution_count": 156,
   "metadata": {},
   "outputs": [
    {
     "data": {
      "text/html": [
       "<div>\n",
       "<style scoped>\n",
       "    .dataframe tbody tr th:only-of-type {\n",
       "        vertical-align: middle;\n",
       "    }\n",
       "\n",
       "    .dataframe tbody tr th {\n",
       "        vertical-align: top;\n",
       "    }\n",
       "\n",
       "    .dataframe thead th {\n",
       "        text-align: right;\n",
       "    }\n",
       "</style>\n",
       "<table border=\"1\" class=\"dataframe\">\n",
       "  <thead>\n",
       "    <tr style=\"text-align: right;\">\n",
       "      <th></th>\n",
       "      <th>data1</th>\n",
       "      <th>data2</th>\n",
       "    </tr>\n",
       "  </thead>\n",
       "  <tbody>\n",
       "    <tr>\n",
       "      <th>0</th>\n",
       "      <td>NaN</td>\n",
       "      <td>1</td>\n",
       "    </tr>\n",
       "    <tr>\n",
       "      <th>1</th>\n",
       "      <td>NaN</td>\n",
       "      <td>2</td>\n",
       "    </tr>\n",
       "    <tr>\n",
       "      <th>2</th>\n",
       "      <td>NaN</td>\n",
       "      <td>3</td>\n",
       "    </tr>\n",
       "    <tr>\n",
       "      <th>3</th>\n",
       "      <td>NaN</td>\n",
       "      <td>5</td>\n",
       "    </tr>\n",
       "  </tbody>\n",
       "</table>\n",
       "</div>"
      ],
      "text/plain": [
       "   data1 data2\n",
       "0    NaN     1\n",
       "1    NaN     2\n",
       "2    NaN     3\n",
       "3    NaN     5"
      ]
     },
     "execution_count": 156,
     "metadata": {},
     "output_type": "execute_result"
    }
   ],
   "source": [
    "df_obj1 = pd.DataFrame({'data1' :[np.nan] * 4,\n",
    "                       'data2' :list('1235')})\n",
    "df_obj1"
   ]
  },
  {
   "cell_type": "code",
   "execution_count": 157,
   "metadata": {},
   "outputs": [
    {
     "data": {
      "text/plain": [
       "0    False\n",
       "1     True\n",
       "2     True\n",
       "3     True\n",
       "dtype: bool"
      ]
     },
     "execution_count": 157,
     "metadata": {},
     "output_type": "execute_result"
    }
   ],
   "source": [
    "df_obj1.duplicated('data1')"
   ]
  },
  {
   "cell_type": "code",
   "execution_count": 158,
   "metadata": {},
   "outputs": [
    {
     "name": "stdout",
     "output_type": "stream",
     "text": [
      "  data1  data2\n",
      "0     a      3\n",
      "1     a      1\n",
      "2     a      2\n",
      "4     b      3\n",
      "5     b      1\n",
      "6     b      2\n",
      "7     b      0\n",
      "  data1  data2\n",
      "0     a      3\n",
      "1     a      1\n",
      "2     a      2\n",
      "7     b      0\n"
     ]
    }
   ],
   "source": [
    "print(df_obj.drop_duplicates())  #删除重复行\n",
    "print(df_obj.drop_duplicates('data2'))"
   ]
  },
  {
   "cell_type": "code",
   "execution_count": 99,
   "metadata": {},
   "outputs": [
    {
     "data": {
      "text/html": [
       "<div>\n",
       "<style scoped>\n",
       "    .dataframe tbody tr th:only-of-type {\n",
       "        vertical-align: middle;\n",
       "    }\n",
       "\n",
       "    .dataframe tbody tr th {\n",
       "        vertical-align: top;\n",
       "    }\n",
       "\n",
       "    .dataframe thead th {\n",
       "        text-align: right;\n",
       "    }\n",
       "</style>\n",
       "<table border=\"1\" class=\"dataframe\">\n",
       "  <thead>\n",
       "    <tr style=\"text-align: right;\">\n",
       "      <th></th>\n",
       "      <th>data1</th>\n",
       "      <th>data2</th>\n",
       "    </tr>\n",
       "  </thead>\n",
       "  <tbody>\n",
       "    <tr>\n",
       "      <th>0</th>\n",
       "      <td>a</td>\n",
       "      <td>1</td>\n",
       "    </tr>\n",
       "    <tr>\n",
       "      <th>1</th>\n",
       "      <td>a</td>\n",
       "      <td>2</td>\n",
       "    </tr>\n",
       "    <tr>\n",
       "      <th>2</th>\n",
       "      <td>a</td>\n",
       "      <td>2</td>\n",
       "    </tr>\n",
       "    <tr>\n",
       "      <th>3</th>\n",
       "      <td>a</td>\n",
       "      <td>3</td>\n",
       "    </tr>\n",
       "    <tr>\n",
       "      <th>4</th>\n",
       "      <td>b</td>\n",
       "      <td>2</td>\n",
       "    </tr>\n",
       "    <tr>\n",
       "      <th>5</th>\n",
       "      <td>b</td>\n",
       "      <td>2</td>\n",
       "    </tr>\n",
       "    <tr>\n",
       "      <th>6</th>\n",
       "      <td>b</td>\n",
       "      <td>0</td>\n",
       "    </tr>\n",
       "    <tr>\n",
       "      <th>7</th>\n",
       "      <td>b</td>\n",
       "      <td>0</td>\n",
       "    </tr>\n",
       "  </tbody>\n",
       "</table>\n",
       "</div>"
      ],
      "text/plain": [
       "  data1  data2\n",
       "0     a      1\n",
       "1     a      2\n",
       "2     a      2\n",
       "3     a      3\n",
       "4     b      2\n",
       "5     b      2\n",
       "6     b      0\n",
       "7     b      0"
      ]
     },
     "execution_count": 99,
     "metadata": {},
     "output_type": "execute_result"
    }
   ],
   "source": [
    "df_obj"
   ]
  },
  {
   "cell_type": "code",
   "execution_count": 159,
   "metadata": {},
   "outputs": [
    {
     "name": "stdout",
     "output_type": "stream",
     "text": [
      "0    8\n",
      "1    9\n",
      "2    9\n",
      "3    1\n",
      "4    0\n",
      "5    4\n",
      "6    6\n",
      "7    4\n",
      "8    5\n",
      "9    1\n",
      "dtype: int32\n",
      "0    64\n",
      "1    81\n",
      "2    81\n",
      "3     1\n",
      "4     0\n",
      "5    16\n",
      "6    36\n",
      "7    16\n",
      "8    25\n",
      "9     1\n",
      "dtype: int64\n"
     ]
    }
   ],
   "source": [
    "ser_obj = pd.Series(np.random.randint(0,10,10))  #series 用map\n",
    "print(ser_obj)\n",
    "\n",
    "print(ser_obj.map(lambda x : x ** 2))"
   ]
  },
  {
   "cell_type": "code",
   "execution_count": 164,
   "metadata": {},
   "outputs": [
    {
     "name": "stdout",
     "output_type": "stream",
     "text": [
      "0      0\n",
      "1   -100\n",
      "2      2\n",
      "3      3\n",
      "4      4\n",
      "5      5\n",
      "6      6\n",
      "7      7\n",
      "8      8\n",
      "9      9\n",
      "dtype: int32\n",
      "0      0\n",
      "1      1\n",
      "2      2\n",
      "3      3\n",
      "4      4\n",
      "5      5\n",
      "6   -100\n",
      "7   -100\n",
      "8   -100\n",
      "9      9\n",
      "dtype: int32\n",
      "0      0\n",
      "1      1\n",
      "2      2\n",
      "3      3\n",
      "4   -100\n",
      "5      5\n",
      "6      6\n",
      "7   -200\n",
      "8      8\n",
      "9      9\n",
      "dtype: int64\n"
     ]
    }
   ],
   "source": [
    "ser_obj=pd.Series(np.arange(10))\n",
    "# 单个值替换单个值\n",
    "print(ser_obj.replace(1, -100))\n",
    "\n",
    "# 多个值替换一个值\n",
    "print(ser_obj.replace(range(6,9), -100))\n",
    "\n",
    "# 多个值替换多个值\n",
    "print(ser_obj.replace([4, 7], [-100, -200]))"
   ]
  },
  {
   "cell_type": "code",
   "execution_count": 165,
   "metadata": {},
   "outputs": [],
   "source": [
    "df = pd.DataFrame({'A': [0, 1, 2, 3, 4],\n",
    "                   'B': [5, 6, 7, 8, 9],\n",
    "                   'C': ['a', 'b', 'c', 'd', 'e']})"
   ]
  },
  {
   "cell_type": "code",
   "execution_count": 166,
   "metadata": {},
   "outputs": [
    {
     "data": {
      "text/html": [
       "<div>\n",
       "<style scoped>\n",
       "    .dataframe tbody tr th:only-of-type {\n",
       "        vertical-align: middle;\n",
       "    }\n",
       "\n",
       "    .dataframe tbody tr th {\n",
       "        vertical-align: top;\n",
       "    }\n",
       "\n",
       "    .dataframe thead th {\n",
       "        text-align: right;\n",
       "    }\n",
       "</style>\n",
       "<table border=\"1\" class=\"dataframe\">\n",
       "  <thead>\n",
       "    <tr style=\"text-align: right;\">\n",
       "      <th></th>\n",
       "      <th>A</th>\n",
       "      <th>B</th>\n",
       "      <th>C</th>\n",
       "    </tr>\n",
       "  </thead>\n",
       "  <tbody>\n",
       "    <tr>\n",
       "      <th>0</th>\n",
       "      <td>0</td>\n",
       "      <td>5</td>\n",
       "      <td>a</td>\n",
       "    </tr>\n",
       "    <tr>\n",
       "      <th>1</th>\n",
       "      <td>1</td>\n",
       "      <td>6</td>\n",
       "      <td>b</td>\n",
       "    </tr>\n",
       "    <tr>\n",
       "      <th>2</th>\n",
       "      <td>2</td>\n",
       "      <td>7</td>\n",
       "      <td>c</td>\n",
       "    </tr>\n",
       "    <tr>\n",
       "      <th>3</th>\n",
       "      <td>3</td>\n",
       "      <td>8</td>\n",
       "      <td>d</td>\n",
       "    </tr>\n",
       "    <tr>\n",
       "      <th>4</th>\n",
       "      <td>4</td>\n",
       "      <td>9</td>\n",
       "      <td>e</td>\n",
       "    </tr>\n",
       "  </tbody>\n",
       "</table>\n",
       "</div>"
      ],
      "text/plain": [
       "   A  B  C\n",
       "0  0  5  a\n",
       "1  1  6  b\n",
       "2  2  7  c\n",
       "3  3  8  d\n",
       "4  4  9  e"
      ]
     },
     "execution_count": 166,
     "metadata": {},
     "output_type": "execute_result"
    }
   ],
   "source": [
    "df"
   ]
  },
  {
   "cell_type": "code",
   "execution_count": 167,
   "metadata": {},
   "outputs": [
    {
     "data": {
      "text/html": [
       "<div>\n",
       "<style scoped>\n",
       "    .dataframe tbody tr th:only-of-type {\n",
       "        vertical-align: middle;\n",
       "    }\n",
       "\n",
       "    .dataframe tbody tr th {\n",
       "        vertical-align: top;\n",
       "    }\n",
       "\n",
       "    .dataframe thead th {\n",
       "        text-align: right;\n",
       "    }\n",
       "</style>\n",
       "<table border=\"1\" class=\"dataframe\">\n",
       "  <thead>\n",
       "    <tr style=\"text-align: right;\">\n",
       "      <th></th>\n",
       "      <th>A</th>\n",
       "      <th>B</th>\n",
       "      <th>C</th>\n",
       "    </tr>\n",
       "  </thead>\n",
       "  <tbody>\n",
       "    <tr>\n",
       "      <th>0</th>\n",
       "      <td>0</td>\n",
       "      <td>5</td>\n",
       "      <td>100</td>\n",
       "    </tr>\n",
       "    <tr>\n",
       "      <th>1</th>\n",
       "      <td>1</td>\n",
       "      <td>6</td>\n",
       "      <td>b</td>\n",
       "    </tr>\n",
       "    <tr>\n",
       "      <th>2</th>\n",
       "      <td>2</td>\n",
       "      <td>7</td>\n",
       "      <td>c</td>\n",
       "    </tr>\n",
       "    <tr>\n",
       "      <th>3</th>\n",
       "      <td>3</td>\n",
       "      <td>8</td>\n",
       "      <td>d</td>\n",
       "    </tr>\n",
       "    <tr>\n",
       "      <th>4</th>\n",
       "      <td>4</td>\n",
       "      <td>9</td>\n",
       "      <td>e</td>\n",
       "    </tr>\n",
       "  </tbody>\n",
       "</table>\n",
       "</div>"
      ],
      "text/plain": [
       "   A  B    C\n",
       "0  0  5  100\n",
       "1  1  6    b\n",
       "2  2  7    c\n",
       "3  3  8    d\n",
       "4  4  9    e"
      ]
     },
     "execution_count": 167,
     "metadata": {},
     "output_type": "execute_result"
    }
   ],
   "source": [
    "df.replace(to_replace=r'^a', value=100, regex=True)"
   ]
  },
  {
   "cell_type": "code",
   "execution_count": 168,
   "metadata": {},
   "outputs": [
    {
     "data": {
      "text/plain": [
       "A     int64\n",
       "B     int64\n",
       "C    object\n",
       "dtype: object"
      ]
     },
     "execution_count": 168,
     "metadata": {},
     "output_type": "execute_result"
    }
   ],
   "source": [
    "df.dtypes"
   ]
  },
  {
   "cell_type": "code",
   "execution_count": null,
   "metadata": {},
   "outputs": [],
   "source": []
  }
 ],
 "metadata": {
  "kernelspec": {
   "display_name": "Python 3",
   "language": "python",
   "name": "python3"
  },
  "language_info": {
   "codemirror_mode": {
    "name": "ipython",
    "version": 3
   },
   "file_extension": ".py",
   "mimetype": "text/x-python",
   "name": "python",
   "nbconvert_exporter": "python",
   "pygments_lexer": "ipython3",
   "version": "3.6.8"
  }
 },
 "nbformat": 4,
 "nbformat_minor": 2
}